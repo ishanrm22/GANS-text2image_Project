{
  "cells": [
    {
      "cell_type": "markdown",
      "source": [
        "> This assignment as two parts Section A and B. The first part is the implementation of function required in applying the CNN layers and the next section will be around the use of built in function of Tensorflow"
      ],
      "metadata": {
        "id": "P3hDtc9rMxkR"
      }
    },
    {
      "cell_type": "markdown",
      "source": [
        "\n",
        "\n",
        "`Before moving ahead as we have reached the stage of applying CNNs. We are going to deal with large number of parameters and hence more computational power. So you will need to connect runtime of collab to GPU: https://www.youtube.com/watch?v=-9CLfrZISRw`"
      ],
      "metadata": {
        "id": "48fGpBzYOjt1"
      }
    },
    {
      "cell_type": "markdown",
      "source": [
        "### **BOTH THE SECTION CAN BE SOLVED INDEPENDENTLY** BUT SECTION A has **3X** more weightage than SECTION B doesn't have any code to write."
      ],
      "metadata": {
        "id": "4mSFI4ExalwM"
      }
    },
    {
      "cell_type": "markdown",
      "source": [
        "## **SECTION:A**"
      ],
      "metadata": {
        "id": "CjXMqW4cMrFg"
      }
    },
    {
      "cell_type": "code",
      "execution_count": 1,
      "metadata": {
        "id": "e8eFBZbMLxGM"
      },
      "outputs": [],
      "source": [
        "import numpy as np"
      ]
    },
    {
      "cell_type": "markdown",
      "metadata": {
        "id": "LbWwF7vkLxGP"
      },
      "source": [
        "### Q1: Complete the following function corr2d(X, K), which implements the cross correlation operation for matrix X and kernel K, both are two dimensional numpy arrays (height x width). The function should return a 2 dimensional numpy array which is the result of cross correlation operation between X and K. \n",
        "\n",
        "- not giving channels right now : assume channels = 1"
      ]
    },
    {
      "cell_type": "code",
      "execution_count": 28,
      "metadata": {
        "id": "2rVZCrIDLxGT"
      },
      "outputs": [],
      "source": [
        "def corr2d(X: np.array, K: np.array) -> np.array:\n",
        "\n",
        "    # no padding for now and assume stride = 1\n",
        "    X_rows , X_cols = X.shape\n",
        "    K_rows , K_cols = K.shape\n",
        "    Y = np.zeros(( X_rows-K_rows+1 , X_cols-K_cols+1 ))\n",
        "    for i in range(Y.shape[0]):\n",
        "      for j in range(Y.shape[1]):\n",
        "        Y[i][j] = np.sum ( X [ i:i+K_rows , j:j+K_cols ] * K )\n",
        "    return Y\n"
      ]
    },
    {
      "cell_type": "code",
      "execution_count": 29,
      "metadata": {
        "id": "FYF60FbvLxGd",
        "colab": {
          "base_uri": "https://localhost:8080/"
        },
        "outputId": "18437a14-9382-49b1-d3c5-01c15dde44c3"
      },
      "outputs": [
        {
          "output_type": "stream",
          "name": "stdout",
          "text": [
            "[[19. 25.]\n",
            " [37. 43.]]\n"
          ]
        }
      ],
      "source": [
        "X = np.array([[0.0, 1.0, 2.0], [3.0, 4.0, 5.0], [6.0, 7.0, 8.0]], dtype=np.float32)\n",
        "K = np.array([[0.0, 1.0], [2.0, 3.0]], dtype=np.float32)\n",
        "print(corr2d(X, K)) # example done in class, try to print this and check if you get the right answer"
      ]
    },
    {
      "cell_type": "markdown",
      "metadata": {
        "id": "uLMP6bE3LxGf"
      },
      "source": [
        "### now try to make a new function corr2d_multiple_input_channels(X, K) : where each X and K have the same number of channels, both of them are now 3 dimensional numpy arrays, the output should be a 2 dimensional numpy array (output_h, output_w).\n",
        "\n",
        "- hint : Use the above corr2d function and read about np.stack"
      ]
    },
    {
      "cell_type": "code",
      "execution_count": 30,
      "metadata": {
        "id": "glmBGALxLxGg"
      },
      "outputs": [],
      "source": [
        "def corr2d_multiple_input_channels(X: np.array, K: np.array) -> np.array: \n",
        "    # write a function for this task\n",
        "      X_channels, X_rows, X_cols = X.shape\n",
        "      K_channels, K_rows, K_cols = K.shape\n",
        "    #if X_channels == K_channels:\n",
        "      Z = np.zeros((X_rows-K_rows+1 , X_cols-K_cols+1))\n",
        "      Y = np.zeros(((X_rows - K_rows + 1, X_cols - K_cols + 1)))\n",
        "      for c in range (X_channels):\n",
        "        X_channels = X[c,:,:]\n",
        "        K_channels = K[c,:,:]\n",
        "        Y = corr2d(X_channels,K_channels)\n",
        "        Z=Z+Y\n",
        "      return Z"
      ]
    },
    {
      "cell_type": "code",
      "execution_count": 31,
      "metadata": {
        "id": "Iw3vxttBLxGg",
        "colab": {
          "base_uri": "https://localhost:8080/"
        },
        "outputId": "002cf733-bbb9-4fcb-b750-11ec78b2132e"
      },
      "outputs": [
        {
          "output_type": "stream",
          "name": "stdout",
          "text": [
            "new_X.shape = (3, 3, 3), new_K.shape = (3, 2, 2)\n",
            "[[119. 149.]\n",
            " [209. 239.]]\n",
            "output height: 2\n",
            "output widht: 2\n"
          ]
        }
      ],
      "source": [
        "new_X = np.stack([X, X+1, X+2], axis=0) # stacking along a new dimension\n",
        "new_K = np.stack([K, K+1, K+2], axis=0) \n",
        "\n",
        "print(f\"new_X.shape = {new_X.shape}, new_K.shape = {new_K.shape}\")\n",
        "Z = corr2d_multiple_input_channels(new_X, new_K)\n",
        "print(Z)\n",
        "print(\"output height:\",Z.shape[0])\n",
        "print(\"output widht:\",Z.shape[1])\n",
        "# calculate the output by hand and then check whether you get the same answer\n",
        "# answer should be a 2 dim np array : (output_height, output_width) "
      ]
    },
    {
      "cell_type": "markdown",
      "metadata": {
        "id": "fhXuwIj9LxGh"
      },
      "source": [
        "### Write another function corr2d_mutli_in_out(X, K): where X (3 dim np array), K (4 dim numpy array), 0th dimension of K represents the number of kernel/filters we are using. Perform the cross correlation operation for K on X and return the output : 3 dim numpy array whose shape should be (num_output_channels, output_height, output_width)\n",
        "\n",
        "- hint : use the above corr_2d_mutliple_input_channels(X, K) for each kernel in K and then stack them."
      ]
    },
    {
      "cell_type": "code",
      "execution_count": 32,
      "metadata": {
        "id": "f3H-oe3xLxGi"
      },
      "outputs": [],
      "source": [
        "def corr2d_multi_in_out(X: np.array, K: np.array) -> np.array:\n",
        "    # X -> (num_in_channels, n_h, n_w)\n",
        "    # K -> (num_out_channels, num_in_channels, k_h, k_w)\n",
        "    # output -> (num_out_channels, o_h, o_w)\n",
        "    num_in_channels, X_rows, X_cols = X.shape\n",
        "    num_out_channels, num_in_channels, K_rows, K_cols = K.shape\n",
        "    output = np.zeros((num_out_channels , X_rows-K_rows+1 , X_cols-K_cols+1))\n",
        "    for i in range (K.shape[0]):\n",
        "      T = corr2d_multiple_input_channels(X , K[i,:,:,:])\n",
        "      output[i] = np.stack(T, axis=0)\n",
        "    return output\n",
        "    "
      ]
    },
    {
      "cell_type": "code",
      "execution_count": 33,
      "metadata": {
        "id": "8KvPQ4eYLxGi",
        "colab": {
          "base_uri": "https://localhost:8080/"
        },
        "outputId": "4d595f17-b09a-4811-be84-991eeaec5e05"
      },
      "outputs": [
        {
          "output_type": "stream",
          "name": "stdout",
          "text": [
            "my_K.shape = (4, 3, 2, 2)\n",
            "[[[119. 149.]\n",
            "  [209. 239.]]\n",
            "\n",
            " [[155. 197.]\n",
            "  [281. 323.]]\n",
            "\n",
            " [[191. 245.]\n",
            "  [353. 407.]]\n",
            "\n",
            " [[227. 293.]\n",
            "  [425. 491.]]]\n"
          ]
        }
      ],
      "source": [
        "my_K = np.stack([new_K, new_K+1, new_K+2, new_K + 3], axis=0) \n",
        "print(f\"my_K.shape = {my_K.shape}\")\n",
        "\n",
        "print(corr2d_multi_in_out(new_X, my_K)) # cross check the calculation"
      ]
    },
    {
      "cell_type": "markdown",
      "metadata": {
        "id": "uGjUjrXQLxGj"
      },
      "source": [
        "### Q2: What is the computational and statistical benefits of stride larger than 1?? (not more than 20 word answer for each)"
      ]
    },
    {
      "cell_type": "markdown",
      "source": [
        "**--Computational benefits:**\n",
        "*Reduced computation*- Applying strides>1 saves us from applying filter repeatedly to the same pixel, hence reduces computation.\n",
        "*Downsampling*- When the stride is larger than 1, filter jumps over multiple units in the input feature map, which leads to a reduction in the number of output units.\n",
        "**--Statistical benefits:**\n",
        "*Decreased feature map size*- This is due to reduced computation.\n",
        "*Translation invariance*- Sensitivity to small shifts in the inout can be reduced using strides>1."
      ],
      "metadata": {
        "id": "Z42qjNN4fPMh"
      }
    },
    {
      "cell_type": "markdown",
      "metadata": {
        "id": "6_dSJFchLxGj"
      },
      "source": [
        "### Q3: Now let's implement a model with just a single convolution layer, given X(input), Y(output) and K(kernel). Y is the output of the cross-correlation operation of K on X. You need to build a model to learn that kernel K.(try to print the kernel at each epoch)\n",
        "\n",
        "- hint : conv_layer(output_channels = 1, input_channels = 1, kernel_size=(1, 2), bias=False)"
      ]
    },
    {
      "cell_type": "code",
      "execution_count": 34,
      "metadata": {
        "id": "uWAF0RPhLxGj",
        "colab": {
          "base_uri": "https://localhost:8080/"
        },
        "outputId": "c28f1465-8ba0-4745-9563-3dcf21f2cc4b"
      },
      "outputs": [
        {
          "output_type": "stream",
          "name": "stdout",
          "text": [
            "[[1. 1. 0. 0. 0. 0. 1. 1.]\n",
            " [1. 1. 0. 0. 0. 0. 1. 1.]\n",
            " [1. 1. 0. 0. 0. 0. 1. 1.]\n",
            " [1. 1. 0. 0. 0. 0. 1. 1.]\n",
            " [1. 1. 0. 0. 0. 0. 1. 1.]\n",
            " [1. 1. 0. 0. 0. 0. 1. 1.]]\n"
          ]
        }
      ],
      "source": [
        "X = np.ones((6, 8), dtype=np.float32)\n",
        "X[:, 2:6] = 0\n",
        "print(X)"
      ]
    },
    {
      "cell_type": "code",
      "execution_count": 35,
      "metadata": {
        "id": "pr0_V5lpLxGj",
        "colab": {
          "base_uri": "https://localhost:8080/"
        },
        "outputId": "e0dfe498-f114-43f6-e8bf-92fc7741e6f3"
      },
      "outputs": [
        {
          "output_type": "stream",
          "name": "stdout",
          "text": [
            "[[ 0.  1.  0.  0.  0. -1.  0.]\n",
            " [ 0.  1.  0.  0.  0. -1.  0.]\n",
            " [ 0.  1.  0.  0.  0. -1.  0.]\n",
            " [ 0.  1.  0.  0.  0. -1.  0.]\n",
            " [ 0.  1.  0.  0.  0. -1.  0.]\n",
            " [ 0.  1.  0.  0.  0. -1.  0.]]\n"
          ]
        }
      ],
      "source": [
        "K = np.array([[1.0, -1.0]], dtype=np.float32) # kernel, you need to learn this using a model\n",
        "Y = corr2d(X, K) \n",
        "print(Y)"
      ]
    },
    {
      "cell_type": "code",
      "execution_count": 36,
      "metadata": {
        "id": "4HSVk5foLxGk"
      },
      "outputs": [],
      "source": [
        "X = X.reshape((1,6, 8,1)) # this will be the input to the model\n",
        "Y = Y.reshape((1, 6, 7,1)) # this is the output, to be used while calculation loss\n",
        "lr = 3e-2 # use this learning rate\n"
      ]
    },
    {
      "cell_type": "code",
      "source": [
        "import tensorflow as tf\n",
        "model = tf.keras.models.Sequential()\n",
        "model.add(tf.keras.layers.Conv2D(1,(1,2), use_bias=False))\n",
        "\n",
        "model.compile(optimizer = tf.keras.optimizers.Adam(learning_rate = lr), loss = 'mse', metrics = ['accuracy'])\n",
        "\n",
        "epochs = 100\n",
        "for i in range (epochs):\n",
        "  model.fit(X, Y , epochs = 1)\n",
        "  kernel = model.get_weights()[0]\n",
        "  kernel = np.array(kernel).flatten()\n",
        "  kernel = kernel.reshape((1,2))\n",
        "  print(\"Trained Kernel:\", kernel)\n"
      ],
      "metadata": {
        "colab": {
          "base_uri": "https://localhost:8080/"
        },
        "id": "_wP2yW4I9m9J",
        "outputId": "1542fe41-1189-4e5d-95e3-f62753fbbf30"
      },
      "execution_count": 38,
      "outputs": [
        {
          "output_type": "stream",
          "name": "stdout",
          "text": [
            "1/1 [==============================] - 1s 825ms/step - loss: 0.3095 - accuracy: 0.7143\n",
            "Trained Kernel: [[0.14764512 0.09638615]]\n",
            "1/1 [==============================] - 0s 33ms/step - loss: 0.2925 - accuracy: 0.7143\n",
            "Trained Kernel: [[0.1775594  0.06640214]]\n",
            "1/1 [==============================] - 0s 20ms/step - loss: 0.2761 - accuracy: 0.7143\n",
            "Trained Kernel: [[0.20732123 0.03644549]]\n",
            "1/1 [==============================] - 0s 50ms/step - loss: 0.2602 - accuracy: 0.7143\n",
            "Trained Kernel: [[0.23685586 0.00652754]]\n",
            "1/1 [==============================] - 0s 61ms/step - loss: 0.2449 - accuracy: 0.7143\n",
            "Trained Kernel: [[ 0.26608083 -0.02333949]]\n",
            "1/1 [==============================] - 0s 11ms/step - loss: 0.2300 - accuracy: 0.7143\n",
            "Trained Kernel: [[ 0.294907   -0.05314275]]\n",
            "1/1 [==============================] - 0s 11ms/step - loss: 0.2158 - accuracy: 0.7143\n",
            "Trained Kernel: [[ 0.32324046 -0.08286873]]\n",
            "1/1 [==============================] - 0s 10ms/step - loss: 0.2021 - accuracy: 0.7143\n",
            "Trained Kernel: [[ 0.3509844  -0.11250269]]\n",
            "1/1 [==============================] - 0s 11ms/step - loss: 0.1889 - accuracy: 0.7143\n",
            "Trained Kernel: [[ 0.37804276 -0.14202908]]\n",
            "1/1 [==============================] - 0s 17ms/step - loss: 0.1763 - accuracy: 0.7143\n",
            "Trained Kernel: [[ 0.40432414 -0.17143105]]\n",
            "1/1 [==============================] - 0s 12ms/step - loss: 0.1643 - accuracy: 0.7143\n",
            "Trained Kernel: [[ 0.42974588 -0.20069006]]\n",
            "1/1 [==============================] - 0s 11ms/step - loss: 0.1527 - accuracy: 0.7143\n",
            "Trained Kernel: [[ 0.45423922 -0.22978604]]\n",
            "1/1 [==============================] - 0s 11ms/step - loss: 0.1417 - accuracy: 0.7143\n",
            "Trained Kernel: [[ 0.47775376 -0.2586972 ]]\n",
            "1/1 [==============================] - 0s 15ms/step - loss: 0.1312 - accuracy: 0.7143\n",
            "Trained Kernel: [[ 0.50026107 -0.28739986]]\n",
            "1/1 [==============================] - 0s 13ms/step - loss: 0.1212 - accuracy: 0.8571\n",
            "Trained Kernel: [[ 0.52175736 -0.31586838]]\n",
            "1/1 [==============================] - 0s 10ms/step - loss: 0.1116 - accuracy: 0.8571\n",
            "Trained Kernel: [[ 0.5422646  -0.34407538]]\n",
            "1/1 [==============================] - 0s 10ms/step - loss: 0.1026 - accuracy: 0.8571\n",
            "Trained Kernel: [[ 0.5618296 -0.3719917]]\n",
            "1/1 [==============================] - 0s 14ms/step - loss: 0.0941 - accuracy: 0.8571\n",
            "Trained Kernel: [[ 0.58052224 -0.39958656]]\n",
            "1/1 [==============================] - 0s 11ms/step - loss: 0.0860 - accuracy: 0.8571\n",
            "Trained Kernel: [[ 0.5984311 -0.4268279]]\n",
            "1/1 [==============================] - 0s 14ms/step - loss: 0.0784 - accuracy: 0.8571\n",
            "Trained Kernel: [[ 0.6156591  -0.45368293]]\n",
            "1/1 [==============================] - 0s 14ms/step - loss: 0.0712 - accuracy: 0.8571\n",
            "Trained Kernel: [[ 0.6323175  -0.48011816]]\n",
            "1/1 [==============================] - 0s 16ms/step - loss: 0.0645 - accuracy: 0.8571\n",
            "Trained Kernel: [[ 0.64851993 -0.5061003 ]]\n",
            "1/1 [==============================] - 0s 10ms/step - loss: 0.0583 - accuracy: 0.8571\n",
            "Trained Kernel: [[ 0.66437656 -0.53159666]]\n",
            "1/1 [==============================] - 0s 10ms/step - loss: 0.0525 - accuracy: 0.8571\n",
            "Trained Kernel: [[ 0.67998827 -0.55657566]]\n",
            "1/1 [==============================] - 0s 13ms/step - loss: 0.0471 - accuracy: 0.8571\n",
            "Trained Kernel: [[ 0.6954419 -0.5810074]]\n",
            "1/1 [==============================] - 0s 11ms/step - loss: 0.0421 - accuracy: 0.8571\n",
            "Trained Kernel: [[ 0.71080625 -0.6048643 ]]\n",
            "1/1 [==============================] - 0s 11ms/step - loss: 0.0375 - accuracy: 0.8571\n",
            "Trained Kernel: [[ 0.7261295  -0.62812126]]\n",
            "1/1 [==============================] - 0s 11ms/step - loss: 0.0332 - accuracy: 0.8571\n",
            "Trained Kernel: [[ 0.7414373  -0.65075624]]\n",
            "1/1 [==============================] - 0s 11ms/step - loss: 0.0293 - accuracy: 0.8571\n",
            "Trained Kernel: [[ 0.75673306 -0.6727503 ]]\n",
            "1/1 [==============================] - 0s 11ms/step - loss: 0.0258 - accuracy: 0.8571\n",
            "Trained Kernel: [[ 0.7719981 -0.694088 ]]\n",
            "1/1 [==============================] - 0s 12ms/step - loss: 0.0225 - accuracy: 0.8571\n",
            "Trained Kernel: [[ 0.7871939 -0.714757 ]]\n",
            "1/1 [==============================] - 0s 12ms/step - loss: 0.0196 - accuracy: 0.8571\n",
            "Trained Kernel: [[ 0.8022645  -0.73474836]]\n",
            "1/1 [==============================] - 0s 12ms/step - loss: 0.0169 - accuracy: 0.8571\n",
            "Trained Kernel: [[ 0.81714004 -0.754056  ]]\n",
            "1/1 [==============================] - 0s 12ms/step - loss: 0.0146 - accuracy: 0.8571\n",
            "Trained Kernel: [[ 0.83174056 -0.77267635]]\n",
            "1/1 [==============================] - 0s 11ms/step - loss: 0.0124 - accuracy: 0.8571\n",
            "Trained Kernel: [[ 0.84598047 -0.79060835]]\n",
            "1/1 [==============================] - 0s 14ms/step - loss: 0.0105 - accuracy: 0.8571\n",
            "Trained Kernel: [[ 0.8597731 -0.8078525]]\n",
            "1/1 [==============================] - 0s 10ms/step - loss: 0.0089 - accuracy: 0.8571\n",
            "Trained Kernel: [[ 0.87303543 -0.82441074]]\n",
            "1/1 [==============================] - 0s 16ms/step - loss: 0.0074 - accuracy: 0.8571\n",
            "Trained Kernel: [[ 0.8856924  -0.84028596]]\n",
            "1/1 [==============================] - 0s 10ms/step - loss: 0.0061 - accuracy: 0.8571\n",
            "Trained Kernel: [[ 0.8976811  -0.85548145]]\n",
            "1/1 [==============================] - 0s 11ms/step - loss: 0.0050 - accuracy: 0.8571\n",
            "Trained Kernel: [[ 0.9089539 -0.8700007]]\n",
            "1/1 [==============================] - 0s 11ms/step - loss: 0.0040 - accuracy: 0.8571\n",
            "Trained Kernel: [[ 0.9194807  -0.88384724]]\n",
            "1/1 [==============================] - 0s 11ms/step - loss: 0.0032 - accuracy: 0.8571\n",
            "Trained Kernel: [[ 0.9292502 -0.8970243]]\n",
            "1/1 [==============================] - 0s 11ms/step - loss: 0.0025 - accuracy: 0.8571\n",
            "Trained Kernel: [[ 0.93826985 -0.909535  ]]\n",
            "1/1 [==============================] - 0s 11ms/step - loss: 0.0019 - accuracy: 0.8571\n",
            "Trained Kernel: [[ 0.94656456 -0.9213824 ]]\n",
            "1/1 [==============================] - 0s 11ms/step - loss: 0.0015 - accuracy: 0.8571\n",
            "Trained Kernel: [[ 0.9541743 -0.9325698]]\n",
            "1/1 [==============================] - 0s 11ms/step - loss: 0.0011 - accuracy: 0.8571\n",
            "Trained Kernel: [[ 0.9611508  -0.94310075]]\n",
            "1/1 [==============================] - 0s 11ms/step - loss: 7.7120e-04 - accuracy: 0.8571\n",
            "Trained Kernel: [[ 0.96755415 -0.95297974]]\n",
            "1/1 [==============================] - 0s 14ms/step - loss: 5.2692e-04 - accuracy: 0.8571\n",
            "Trained Kernel: [[ 0.9734481 -0.9622123]]\n",
            "1/1 [==============================] - 0s 11ms/step - loss: 3.4077e-04 - accuracy: 0.8571\n",
            "Trained Kernel: [[ 0.97889626 -0.97080564]]\n",
            "1/1 [==============================] - 0s 11ms/step - loss: 2.0408e-04 - accuracy: 0.8571\n",
            "Trained Kernel: [[ 0.98395836 -0.97876865]]\n",
            "1/1 [==============================] - 0s 11ms/step - loss: 1.0885e-04 - accuracy: 0.8571\n",
            "Trained Kernel: [[ 0.9886868 -0.9861124]]\n",
            "1/1 [==============================] - 0s 12ms/step - loss: 4.7730e-05 - accuracy: 0.8571\n",
            "Trained Kernel: [[ 0.9931241  -0.99285036]]\n",
            "1/1 [==============================] - 0s 11ms/step - loss: 1.4078e-05 - accuracy: 0.8571\n",
            "Trained Kernel: [[ 0.99730146 -0.9989982 ]]\n",
            "1/1 [==============================] - 0s 11ms/step - loss: 2.0062e-06 - accuracy: 0.8571\n",
            "Trained Kernel: [[ 1.001238  -1.0045742]]\n",
            "1/1 [==============================] - 0s 12ms/step - loss: 6.3880e-06 - accuracy: 0.8571\n",
            "Trained Kernel: [[ 1.0049411 -1.0095985]]\n",
            "1/1 [==============================] - 0s 11ms/step - loss: 2.2847e-05 - accuracy: 0.8571\n",
            "Trained Kernel: [[ 1.0084078 -1.0140935]]\n",
            "1/1 [==============================] - 0s 11ms/step - loss: 4.7710e-05 - accuracy: 0.8571\n",
            "Trained Kernel: [[ 1.0116266 -1.0180832]]\n",
            "1/1 [==============================] - 0s 12ms/step - loss: 7.7937e-05 - accuracy: 0.8571\n",
            "Trained Kernel: [[ 1.0145799 -1.0215926]]\n",
            "1/1 [==============================] - 0s 12ms/step - loss: 1.1102e-04 - accuracy: 0.8571\n",
            "Trained Kernel: [[ 1.0172472 -1.0246477]]\n",
            "1/1 [==============================] - 0s 17ms/step - loss: 1.4493e-04 - accuracy: 0.8571\n",
            "Trained Kernel: [[ 1.019608  -1.0272748]]\n",
            "1/1 [==============================] - 0s 15ms/step - loss: 1.7799e-04 - accuracy: 0.8571\n",
            "Trained Kernel: [[ 1.0216445 -1.0295002]]\n",
            "1/1 [==============================] - 0s 12ms/step - loss: 2.0888e-04 - accuracy: 0.8571\n",
            "Trained Kernel: [[ 1.023344  -1.0313497]]\n",
            "1/1 [==============================] - 0s 12ms/step - loss: 2.3656e-04 - accuracy: 0.8571\n",
            "Trained Kernel: [[ 1.0247012 -1.0328482]]\n",
            "1/1 [==============================] - 0s 11ms/step - loss: 2.6027e-04 - accuracy: 0.8571\n",
            "Trained Kernel: [[ 1.0257188 -1.0340202]]\n",
            "1/1 [==============================] - 0s 11ms/step - loss: 2.7952e-04 - accuracy: 0.8571\n",
            "Trained Kernel: [[ 1.0264083 -1.0348884]]\n",
            "1/1 [==============================] - 0s 12ms/step - loss: 2.9406e-04 - accuracy: 0.8571\n",
            "Trained Kernel: [[ 1.0267899 -1.0354748]]\n",
            "1/1 [==============================] - 0s 11ms/step - loss: 3.0386e-04 - accuracy: 0.8571\n",
            "Trained Kernel: [[ 1.0268909 -1.0358001]]\n",
            "1/1 [==============================] - 0s 11ms/step - loss: 3.0907e-04 - accuracy: 0.8571\n",
            "Trained Kernel: [[ 1.0267447 -1.035884 ]]\n",
            "1/1 [==============================] - 0s 11ms/step - loss: 3.1000e-04 - accuracy: 0.8571\n",
            "Trained Kernel: [[ 1.0263888 -1.0357453]]\n",
            "1/1 [==============================] - 0s 12ms/step - loss: 3.0703e-04 - accuracy: 0.8571\n",
            "Trained Kernel: [[ 1.0258619 -1.0354018]]\n",
            "1/1 [==============================] - 0s 11ms/step - loss: 3.0059e-04 - accuracy: 0.8571\n",
            "Trained Kernel: [[ 1.0252025 -1.0348712]]\n",
            "1/1 [==============================] - 0s 11ms/step - loss: 2.9116e-04 - accuracy: 0.8571\n",
            "Trained Kernel: [[ 1.0244466 -1.0341705]]\n",
            "1/1 [==============================] - 0s 11ms/step - loss: 2.7920e-04 - accuracy: 0.8571\n",
            "Trained Kernel: [[ 1.0236256 -1.0333165]]\n",
            "1/1 [==============================] - 0s 12ms/step - loss: 2.6514e-04 - accuracy: 0.8571\n",
            "Trained Kernel: [[ 1.0227654 -1.0323259]]\n",
            "1/1 [==============================] - 0s 12ms/step - loss: 2.4943e-04 - accuracy: 0.8571\n",
            "Trained Kernel: [[ 1.0218854 -1.0312152]]\n",
            "1/1 [==============================] - 0s 10ms/step - loss: 2.3249e-04 - accuracy: 0.8571\n",
            "Trained Kernel: [[ 1.0209985 -1.0300009]]\n",
            "1/1 [==============================] - 0s 11ms/step - loss: 2.1473e-04 - accuracy: 0.8571\n",
            "Trained Kernel: [[ 1.0201113 -1.0286993]]\n",
            "1/1 [==============================] - 0s 12ms/step - loss: 1.9652e-04 - accuracy: 0.8571\n",
            "Trained Kernel: [[ 1.019225  -1.0273262]]\n",
            "1/1 [==============================] - 0s 11ms/step - loss: 1.7823e-04 - accuracy: 0.8571\n",
            "Trained Kernel: [[ 1.0183364 -1.0258973]]\n",
            "1/1 [==============================] - 0s 13ms/step - loss: 1.6018e-04 - accuracy: 0.8571\n",
            "Trained Kernel: [[ 1.01744   -1.0244272]]\n",
            "1/1 [==============================] - 0s 12ms/step - loss: 1.4264e-04 - accuracy: 0.8571\n",
            "Trained Kernel: [[ 1.0165285 -1.0229303]]\n",
            "1/1 [==============================] - 0s 16ms/step - loss: 1.2585e-04 - accuracy: 0.8571\n",
            "Trained Kernel: [[ 1.0155956 -1.0214195]]\n",
            "1/1 [==============================] - 0s 12ms/step - loss: 1.0998e-04 - accuracy: 0.8571\n",
            "Trained Kernel: [[ 1.0146359 -1.0199071]]\n",
            "1/1 [==============================] - 0s 13ms/step - loss: 9.5153e-05 - accuracy: 0.8571\n",
            "Trained Kernel: [[ 1.0136473 -1.0184038]]\n",
            "1/1 [==============================] - 0s 11ms/step - loss: 8.1457e-05 - accuracy: 0.8571\n",
            "Trained Kernel: [[ 1.0126305 -1.0169191]]\n",
            "1/1 [==============================] - 0s 12ms/step - loss: 6.8939e-05 - accuracy: 0.8571\n",
            "Trained Kernel: [[ 1.0115899 -1.0154616]]\n",
            "1/1 [==============================] - 0s 11ms/step - loss: 5.7624e-05 - accuracy: 0.8571\n",
            "Trained Kernel: [[ 1.0105332 -1.0140381]]\n",
            "1/1 [==============================] - 0s 11ms/step - loss: 4.7512e-05 - accuracy: 0.8571\n",
            "Trained Kernel: [[ 1.009471  -1.0126547]]\n",
            "1/1 [==============================] - 0s 11ms/step - loss: 3.8587e-05 - accuracy: 0.8571\n",
            "Trained Kernel: [[ 1.008416  -1.0113162]]\n",
            "1/1 [==============================] - 0s 11ms/step - loss: 3.0815e-05 - accuracy: 0.8571\n",
            "Trained Kernel: [[ 1.0073818 -1.0100267]]\n",
            "1/1 [==============================] - 0s 14ms/step - loss: 2.4145e-05 - accuracy: 0.8571\n",
            "Trained Kernel: [[ 1.0063819 -1.0087893]]\n",
            "1/1 [==============================] - 0s 10ms/step - loss: 1.8510e-05 - accuracy: 0.8571\n",
            "Trained Kernel: [[ 1.0054288 -1.0076067]]\n",
            "1/1 [==============================] - 0s 11ms/step - loss: 1.3832e-05 - accuracy: 0.8571\n",
            "Trained Kernel: [[ 1.004533 -1.006481]]\n",
            "1/1 [==============================] - 0s 11ms/step - loss: 1.0020e-05 - accuracy: 0.8571\n",
            "Trained Kernel: [[ 1.0037026 -1.0054139]]\n",
            "1/1 [==============================] - 0s 11ms/step - loss: 6.9824e-06 - accuracy: 0.8571\n",
            "Trained Kernel: [[ 1.0029424 -1.0044068]]\n",
            "1/1 [==============================] - 0s 14ms/step - loss: 4.6238e-06 - accuracy: 0.8571\n",
            "Trained Kernel: [[ 1.002254  -1.0034609]]\n",
            "1/1 [==============================] - 0s 11ms/step - loss: 2.8531e-06 - accuracy: 0.8571\n",
            "Trained Kernel: [[ 1.0016361 -1.0025772]]\n",
            "1/1 [==============================] - 0s 12ms/step - loss: 1.5843e-06 - accuracy: 0.8571\n",
            "Trained Kernel: [[ 1.0010848 -1.0017563]]\n",
            "1/1 [==============================] - 0s 11ms/step - loss: 7.3761e-07 - accuracy: 0.8571\n",
            "Trained Kernel: [[ 1.0005941 -1.0009987]]\n",
            "1/1 [==============================] - 0s 11ms/step - loss: 2.3970e-07 - accuracy: 0.8571\n",
            "Trained Kernel: [[ 1.0001571 -1.0003046]]\n"
          ]
        }
      ]
    },
    {
      "cell_type": "markdown",
      "metadata": {
        "id": "-sWbsvXQLxGk"
      },
      "source": [
        "### Q4: Complete the following function max_pool2d(X, K) which performs maxpooling with kernel size K on X and returns and two dim numpy array"
      ]
    },
    {
      "cell_type": "code",
      "execution_count": 16,
      "metadata": {
        "id": "0Qjsv_v_LxGk"
      },
      "outputs": [],
      "source": [
        "def max_pool2d(X: np.array, K: tuple) -> np.array:\n",
        "    # write a function for this job\n",
        "    X_rows , X_cols = X.shape\n",
        "    K_rows , K_cols = K\n",
        "    Y = np.zeros(( X_rows-K_rows+1 , X_cols-K_cols+1 ))\n",
        "    for i in range(Y.shape[0]):\n",
        "      for j in range(Y.shape[1]):\n",
        "        Y[i][j] = np.max( X[i : i + K_rows ,j : j + K_cols ])\n",
        "    return Y"
      ]
    },
    {
      "cell_type": "code",
      "execution_count": 17,
      "metadata": {
        "id": "ZiLo_mjSLxGl",
        "colab": {
          "base_uri": "https://localhost:8080/"
        },
        "outputId": "ceeaf44b-bb0a-495a-8c62-025b675d1e36"
      },
      "outputs": [
        {
          "output_type": "execute_result",
          "data": {
            "text/plain": [
              "array([[4., 5.],\n",
              "       [7., 8.]])"
            ]
          },
          "metadata": {},
          "execution_count": 17
        }
      ],
      "source": [
        "X = np.array([[0.0, 1.0, 2.0], [3.0, 4.0, 5.0], [6.0, 7.0, 8.0]], dtype=np.float32)\n",
        "max_pool2d(X, (2, 2)) # check if the output matches with your calculation"
      ]
    },
    {
      "cell_type": "markdown",
      "metadata": {
        "id": "v-niSYY3LxGl"
      },
      "source": [
        "# **SECTION:B**\n",
        "\n"
      ]
    },
    {
      "cell_type": "markdown",
      "source": [
        "### **JUST RUN THE CELLS AND VISUALIZE**( Nothing to code 🙂 )\n",
        "\n",
        "> Indented block\n",
        "\n"
      ],
      "metadata": {
        "id": "pfa0otIGY4vf"
      }
    },
    {
      "cell_type": "code",
      "execution_count": 11,
      "metadata": {
        "id": "mI1blAXSLxGl"
      },
      "outputs": [],
      "source": [
        "import matplotlib.pyplot as plt\n",
        "import tensorflow as tf"
      ]
    },
    {
      "cell_type": "code",
      "source": [
        "#importing the dataset\n",
        "(X_train,Y_train),(X_test,Y_test) = tf.keras.datasets.cifar10.load_data()\n",
        "from sklearn.model_selection import train_test_split\n",
        "X_train,X_test,Y_train,Y_test=train_test_split(X_train,Y_train,test_size=0.3)"
      ],
      "metadata": {
        "id": "hjSRQ2QuNf69"
      },
      "execution_count": 12,
      "outputs": []
    },
    {
      "cell_type": "code",
      "source": [
        "# Print shape of all 4 variables: X_train,Y_train,X_test, and Y_test\n",
        "print(X_train.shape)\n",
        "print(X_test.shape)\n",
        "print(Y_train.shape)\n",
        "print(Y_test.shape)"
      ],
      "metadata": {
        "id": "fhl64KENQSuq",
        "colab": {
          "base_uri": "https://localhost:8080/"
        },
        "outputId": "0f3e247a-3b20-40e7-8444-48d4ada3885a"
      },
      "execution_count": 13,
      "outputs": [
        {
          "output_type": "stream",
          "name": "stdout",
          "text": [
            "(35000, 32, 32, 3)\n",
            "(15000, 32, 32, 3)\n",
            "(35000, 1)\n",
            "(15000, 1)\n"
          ]
        }
      ]
    },
    {
      "cell_type": "code",
      "source": [
        "#Lets visualize the CIFAR-10 dataset\n",
        "\n",
        "import random\n",
        "figure = plt.figure(figsize=(6,6))\n",
        "\n",
        "for i in range(9):\n",
        "  index = random.randint(0,len(X_train)-1) # showing the index_th image\n",
        "  \n",
        "  plt.subplot(3,3,i+1)\n",
        "  plt.imshow(X_train[index])\n",
        "  plt.title(Y_train[index])\n",
        "  plt.axis(False)"
      ],
      "metadata": {
        "id": "Oygw7B1fNm0O",
        "colab": {
          "base_uri": "https://localhost:8080/",
          "height": 521
        },
        "outputId": "30be034c-1e66-45db-c19a-505ac6d46ae0"
      },
      "execution_count": 14,
      "outputs": [
        {
          "output_type": "display_data",
          "data": {
            "text/plain": [
              "<Figure size 600x600 with 9 Axes>"
            ],
            "image/png": "[encoded data removed]"
          },
          "metadata": {}
        }
      ]
    },
    {
      "cell_type": "code",
      "source": [
        "\"\"\"\n",
        "So you can probably notice here that the images are 3D(coloured) but still \n",
        "not of great quality ( what can you expect from 32x32 image). Also there are\n",
        "certain other factors which makes the classification a bit tougher than the \n",
        "cases of 2D( the digit and the fashion data) you dealt before. We will try to\n",
        "understand the difficulties and find probable solution for them.\n",
        "\"\"\""
      ],
      "metadata": {
        "id": "mIY0GmLjSMvK"
      },
      "execution_count": null,
      "outputs": []
    },
    {
      "cell_type": "markdown",
      "source": [
        "![image.png](data:image/png;base64,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)"
      ],
      "metadata": {
        "id": "ATuu2w_SNuCU"
      }
    },
    {
      "cell_type": "code",
      "source": [
        "\"\"\"\n",
        "Lets first start with the CNN model discussed in the class for digit\n",
        " classification. Notice that I have changed the input shape for this usecase.\n",
        " Earlier it was (28,28,1) for the digit dataset.\n",
        "\"\"\""
      ],
      "metadata": {
        "id": "w1yCGBaMSz5Q"
      },
      "execution_count": null,
      "outputs": []
    },
    {
      "cell_type": "code",
      "source": [
        "# model initialization\n",
        "cnn_model = tf.keras.Sequential()\n",
        "\n",
        "# adding the 1st layer of CNN\n",
        "cnn_model.add(tf.keras.layers.Conv2D(26, (5,5), activation = 'relu', input_shape=(32,32,3)))\n",
        "\n",
        "# adding a maxpooling\n",
        "cnn_model.add(tf.keras.layers.MaxPooling2D((2,2)))\n",
        "\n",
        "#adding another CNN layer\n",
        "cnn_model.add(tf.keras.layers.Conv2D(16, (5,5), activation = 'relu'))\n",
        "\n",
        "# adding another maxpooling layer\n",
        "cnn_model.add(tf.keras.layers.MaxPooling2D((2,2)))\n",
        "\n",
        "#flattening the layer\n",
        "cnn_model.add(tf.keras.layers.Flatten())\n",
        "\n",
        "# 20 x 20 x 16\n",
        "#dense layer\n",
        "cnn_model.add(tf.keras.layers.Dense(64, activation='relu'))\n",
        "\n",
        "# final layer \n",
        "cnn_model.add(tf.keras.layers.Dense(10, activation='softmax'))"
      ],
      "metadata": {
        "id": "UNr0XFiKNpnE"
      },
      "execution_count": 15,
      "outputs": []
    },
    {
      "cell_type": "code",
      "source": [
        "cnn_model.compile(optimizer = tf.keras.optimizers.Adam(learning_rate=0.001),\n",
        "                  loss = tf.keras.losses.SparseCategoricalCrossentropy(from_logits=True),\n",
        "                  metrics=['accuracy'])"
      ],
      "metadata": {
        "id": "tWoQIGv7N0tY"
      },
      "execution_count": 16,
      "outputs": []
    },
    {
      "cell_type": "code",
      "source": [
        "\"\"\"\n",
        "Explain what is Adam optimizer below in atleast 250 words.[ read on web and explain ]\n",
        "\n",
        "Answer:\n",
        "Adaptive Moment Estimation (Adam) is an algorithm for optimization technique for gradient descent. The method is really efficient when working with large problem involving a lot of data or parameters. \n",
        "It requires less memory. It is an extension of the stochastic gradient descent (SGD) optimization method that adapts the learning rate for each parameter in the network. \n",
        "Adam optimizer combines the advantages of two other optimization algorithms: Adaptive Gradient Algorithm (AdaGrad) and Root Mean Square Propagation (RMSProp). \n",
        "Like RMSProp, Adam computes the adaptive learning rates for each parameter based on the estimates of both the first moment (mean) and second moment (variance) of the gradients. \n",
        "However, it also incorporates the momentum term from SGD, which helps accelerate the convergence.\n",
        "\n",
        "--Momentum: \n",
        "This algorithm is used to accelerate the gradient descent algorithm by taking into consideration the 'exponentially weighted average' of the gradients. \n",
        "\n",
        "--Root Mean Square Propagation (RMSP): \n",
        "Root mean square prop or RMSprop is an adaptive learning algorithm that tries to improve AdaGrad. \n",
        "Instead of taking the cumulative sum of squared gradients like in AdaGrad, it takes the 'exponential moving average'.\n",
        "Using averages makes the algorithm converge towards the minima in a faster pace.\n",
        "\n",
        "Adam Optimizer inherits the strengths or the positive attributes of the above two methods and builds upon them to give a more optimized gradient descent. \n",
        "Here, we control the rate of gradient descent in such a way that there is minimum oscillation when it reaches the global minimum while taking big enough steps (step-size) \n",
        "so as to pass the local minima hurdles along the way. Hence, combining the features of the above methods to reach the global minimum efficiently.\n",
        "\n",
        "Working of the Adam optimizer:\n",
        "1. Initializing the first moment (mean) and second moment (variance) of the gradients for each parameter to zero.\n",
        "2. Compute the gradients of the parameters with respect to the loss function for a batch of training examples.\n",
        "3. Update the first and second moments.\n",
        "4. Correct for the bias introduced during the initialization phase.\n",
        "5. Update the parameters using the computed first and second moments, and repeat all steps until convergence is achieved.\n",
        "\n",
        "\"\"\""
      ],
      "metadata": {
        "id": "yau4nndbTU4r"
      },
      "execution_count": null,
      "outputs": []
    },
    {
      "cell_type": "markdown",
      "source": [
        "### **Make sure that you are connected to GPU runtime other wise the training in next cell is going to take a long time**"
      ],
      "metadata": {
        "id": "x5rLNjUlPKrH"
      }
    },
    {
      "cell_type": "code",
      "source": [
        "history = cnn_model.fit(X_train, Y_train, epochs=10, validation_split=0.2)"
      ],
      "metadata": {
        "id": "9RPCnjevN3W7",
        "colab": {
          "base_uri": "https://localhost:8080/"
        },
        "outputId": "481ec5d6-2e3e-4123-fb70-009ca9340a3b"
      },
      "execution_count": 17,
      "outputs": [
        {
          "output_type": "stream",
          "name": "stdout",
          "text": [
            "Epoch 1/10\n",
            "875/875 [==============================] - 6s 4ms/step - loss: 2.5880 - accuracy: 0.1010 - val_loss: 2.3018 - val_accuracy: 0.0964\n",
            "Epoch 2/10\n",
            "875/875 [==============================] - 4s 5ms/step - loss: 2.3019 - accuracy: 0.1036 - val_loss: 2.3002 - val_accuracy: 0.1081\n",
            "Epoch 3/10\n",
            "875/875 [==============================] - 4s 5ms/step - loss: 2.2998 - accuracy: 0.1023 - val_loss: 2.2980 - val_accuracy: 0.0994\n",
            "Epoch 4/10\n",
            "875/875 [==============================] - 4s 4ms/step - loss: 2.3007 - accuracy: 0.1080 - val_loss: 2.2987 - val_accuracy: 0.1077\n",
            "Epoch 5/10\n",
            "875/875 [==============================] - 6s 7ms/step - loss: 2.2773 - accuracy: 0.1271 - val_loss: 2.1621 - val_accuracy: 0.2191\n",
            "Epoch 6/10\n",
            "875/875 [==============================] - 7s 7ms/step - loss: 2.0540 - accuracy: 0.2491 - val_loss: 1.9202 - val_accuracy: 0.2929\n",
            "Epoch 7/10\n",
            "875/875 [==============================] - 5s 5ms/step - loss: 1.8875 - accuracy: 0.3060 - val_loss: 1.9298 - val_accuracy: 0.2999\n",
            "Epoch 8/10\n",
            "875/875 [==============================] - 6s 6ms/step - loss: 1.7597 - accuracy: 0.3536 - val_loss: 1.7789 - val_accuracy: 0.3629\n",
            "Epoch 9/10\n",
            "875/875 [==============================] - 4s 5ms/step - loss: 1.6531 - accuracy: 0.3947 - val_loss: 1.6843 - val_accuracy: 0.3869\n",
            "Epoch 10/10\n",
            "875/875 [==============================] - 4s 4ms/step - loss: 1.5848 - accuracy: 0.4253 - val_loss: 1.6092 - val_accuracy: 0.4157\n"
          ]
        }
      ]
    },
    {
      "cell_type": "code",
      "source": [
        "\"\"\" \n",
        "Write about validation accuracy in 100 words.\n",
        "\n",
        "Answer: \n",
        "Validation accuracy is an important metric to evaluate the performance of a model. \n",
        "It measures the accuracy of the model's predictions on a separate dataset, which consists of examples that the model has not seen during training (validation dataset). \n",
        "The purpose of using a validation set is to assess how well the model generalizes to new, unseen data.\n",
        "Low validation accuracy suggests that our model is not able to generate patterns from the training data, hence does not fit well for unseen data (validation data).\n",
        "\n",
        "We can also judge if there is overfitting in our model by comparing validation and train accuracy. If there is a significant gap between the plots of these two, \n",
        "it might be a case of overfitting. In the above example, validation accuracy has increased with increasing number of epochs, indicating that our model is getting\n",
        "trained, and there is no random guessing.\n",
        "\n",
        "\"\"\""
      ],
      "metadata": {
        "id": "XMqr0nejTrrM"
      },
      "execution_count": null,
      "outputs": []
    },
    {
      "cell_type": "code",
      "source": [
        "plt.plot(history.history['accuracy'],label=\"Train accuracy\")\n",
        "plt.plot(history.history['val_accuracy'], label = \"Validation accuracy\")\n",
        "plt.legend()"
      ],
      "metadata": {
        "id": "2AkZcRmbN6SF",
        "colab": {
          "base_uri": "https://localhost:8080/",
          "height": 447
        },
        "outputId": "0817f134-32cb-4e51-cf68-231044c8932a"
      },
      "execution_count": 10,
      "outputs": [
        {
          "output_type": "execute_result",
          "data": {
            "text/plain": [
              "<matplotlib.legend.Legend at 0x7effd8516c20>"
            ]
          },
          "metadata": {},
          "execution_count": 10
        },
        {
          "output_type": "display_data",
          "data": {
            "text/plain": [
              "<Figure size 640x480 with 1 Axes>"
            ],
            "image/png": "[encoded data removed]"
          },
          "metadata": {}
        }
      ]
    },
    {
      "cell_type": "code",
      "source": [
        "\"\"\"\n",
        "What do you think is happening? Is the model training or not?\n",
        " You can see that both the training and validation accuracy are\n",
        " just roaming around 0.1. \n",
        " One reason for this can be our model architecture. We had 26 filters\n",
        " in our first layer and 16 filters in our next layer. This funnel down approach\n",
        " works for dense layers but for Conv layers( which are good at feature extraction)\n",
        " we want them to extract more and more features.\n",
        "\n",
        " So lets change that to funnel up --> 16 and 32 in the layers respectively\n",
        "\n",
        "\n",
        " Answer: \n",
        "With increasing number of iterations, both train loss and validation loss decrease- hence the model is training.\n",
        "But, as mentioned, their accuracies are quite low, which implies that funnelling down (hence reducing the number of features) as in the case of dense layers is not working out \n",
        "to give a model that can work well on unseen data (validation set).\n",
        "\n",
        "\"\"\""
      ],
      "metadata": {
        "id": "xEQ0UpBDTN_9"
      },
      "execution_count": null,
      "outputs": []
    },
    {
      "cell_type": "code",
      "source": [
        "# model initialization\n",
        "cnn_model = tf.keras.Sequential()\n",
        "\n",
        "\"\"\"adding the 1st layer of CNN(Changed)\"\"\"\n",
        "cnn_model.add(tf.keras.layers.Conv2D(16, (5,5), activation = 'relu', input_shape=(32,32,3)))\n",
        "\n",
        "# adding a maxpooling\n",
        "cnn_model.add(tf.keras.layers.MaxPooling2D((2,2)))\n",
        "\n",
        "\"\"\"adding the 2nd layer of CNN(Changed)\"\"\"\n",
        "cnn_model.add(tf.keras.layers.Conv2D(32, (5,5), activation = 'relu'))\n",
        "\n",
        "# adding another maxpooling layer\n",
        "cnn_model.add(tf.keras.layers.MaxPooling2D((2,2)))\n",
        "\n",
        "#flattening the layer\n",
        "cnn_model.add(tf.keras.layers.Flatten())\n",
        "\n",
        "# 20 x 20 x 16\n",
        "#dense layer\n",
        "cnn_model.add(tf.keras.layers.Dense(64, activation='relu'))\n",
        "\n",
        "# final layer \n",
        "cnn_model.add(tf.keras.layers.Dense(10, activation='softmax'))"
      ],
      "metadata": {
        "id": "6HcpdtBuN8_F"
      },
      "execution_count": 18,
      "outputs": []
    },
    {
      "cell_type": "code",
      "source": [
        "cnn_model.compile(optimizer = tf.keras.optimizers.Adam(learning_rate=0.001),\n",
        "                  loss = tf.keras.losses.SparseCategoricalCrossentropy(from_logits=True),\n",
        "                  metrics=['accuracy'])"
      ],
      "metadata": {
        "id": "tFXQBRGPRjK6"
      },
      "execution_count": 19,
      "outputs": []
    },
    {
      "cell_type": "code",
      "source": [
        "history = cnn_model.fit(X_train, Y_train, epochs=20, validation_split=0.2)"
      ],
      "metadata": {
        "id": "WzC0iaowRmpb",
        "colab": {
          "base_uri": "https://localhost:8080/"
        },
        "outputId": "4cb6e5e4-17f5-4f1a-8eec-4fb2b6ad5f45"
      },
      "execution_count": 20,
      "outputs": [
        {
          "output_type": "stream",
          "name": "stdout",
          "text": [
            "Epoch 1/20\n",
            "875/875 [==============================] - 7s 6ms/step - loss: 2.6044 - accuracy: 0.1019 - val_loss: 2.3021 - val_accuracy: 0.1081\n",
            "Epoch 2/20\n",
            "875/875 [==============================] - 4s 5ms/step - loss: 2.2985 - accuracy: 0.1054 - val_loss: 2.3006 - val_accuracy: 0.1026\n",
            "Epoch 3/20\n",
            "875/875 [==============================] - 4s 4ms/step - loss: 2.2672 - accuracy: 0.1447 - val_loss: 2.1386 - val_accuracy: 0.2179\n",
            "Epoch 4/20\n",
            "875/875 [==============================] - 5s 5ms/step - loss: 2.0614 - accuracy: 0.2351 - val_loss: 1.7944 - val_accuracy: 0.3297\n",
            "Epoch 5/20\n",
            "875/875 [==============================] - 4s 4ms/step - loss: 1.7026 - accuracy: 0.3788 - val_loss: 1.6220 - val_accuracy: 0.4079\n",
            "Epoch 6/20\n",
            "875/875 [==============================] - 4s 4ms/step - loss: 1.5735 - accuracy: 0.4311 - val_loss: 1.5388 - val_accuracy: 0.4483\n",
            "Epoch 7/20\n",
            "875/875 [==============================] - 4s 5ms/step - loss: 1.4797 - accuracy: 0.4691 - val_loss: 1.4661 - val_accuracy: 0.4763\n",
            "Epoch 8/20\n",
            "875/875 [==============================] - 4s 4ms/step - loss: 1.3958 - accuracy: 0.4976 - val_loss: 1.4707 - val_accuracy: 0.4813\n",
            "Epoch 9/20\n",
            "875/875 [==============================] - 4s 4ms/step - loss: 1.3170 - accuracy: 0.5323 - val_loss: 1.4301 - val_accuracy: 0.5034\n",
            "Epoch 10/20\n",
            "875/875 [==============================] - 5s 6ms/step - loss: 1.2617 - accuracy: 0.5509 - val_loss: 1.5090 - val_accuracy: 0.4877\n",
            "Epoch 11/20\n",
            "875/875 [==============================] - 4s 5ms/step - loss: 1.1987 - accuracy: 0.5729 - val_loss: 1.5056 - val_accuracy: 0.5037\n",
            "Epoch 12/20\n",
            "875/875 [==============================] - 4s 4ms/step - loss: 1.1486 - accuracy: 0.5913 - val_loss: 1.4613 - val_accuracy: 0.5127\n",
            "Epoch 13/20\n",
            "875/875 [==============================] - 4s 5ms/step - loss: 1.1103 - accuracy: 0.6090 - val_loss: 1.4883 - val_accuracy: 0.5020\n",
            "Epoch 14/20\n",
            "875/875 [==============================] - 4s 5ms/step - loss: 1.0655 - accuracy: 0.6218 - val_loss: 1.4992 - val_accuracy: 0.5087\n",
            "Epoch 15/20\n",
            "875/875 [==============================] - 4s 4ms/step - loss: 1.0247 - accuracy: 0.6385 - val_loss: 1.5567 - val_accuracy: 0.5043\n",
            "Epoch 16/20\n",
            "875/875 [==============================] - 4s 5ms/step - loss: 0.9802 - accuracy: 0.6582 - val_loss: 1.5969 - val_accuracy: 0.5151\n",
            "Epoch 17/20\n",
            "875/875 [==============================] - 4s 5ms/step - loss: 0.9458 - accuracy: 0.6637 - val_loss: 1.5791 - val_accuracy: 0.5194\n",
            "Epoch 18/20\n",
            "875/875 [==============================] - 4s 4ms/step - loss: 0.9257 - accuracy: 0.6765 - val_loss: 1.6175 - val_accuracy: 0.5107\n",
            "Epoch 19/20\n",
            "875/875 [==============================] - 4s 4ms/step - loss: 0.8939 - accuracy: 0.6833 - val_loss: 1.6437 - val_accuracy: 0.5163\n",
            "Epoch 20/20\n",
            "875/875 [==============================] - 4s 5ms/step - loss: 0.8622 - accuracy: 0.6964 - val_loss: 1.7087 - val_accuracy: 0.5106\n"
          ]
        }
      ]
    },
    {
      "cell_type": "code",
      "source": [
        "plt.plot(history.history['accuracy'],label=\"Train accuracy\")\n",
        "plt.plot(history.history['val_accuracy'], label = \"Validation accuracy\")\n",
        "plt.legend()"
      ],
      "metadata": {
        "id": "HdnpcDQoRrGo",
        "colab": {
          "base_uri": "https://localhost:8080/",
          "height": 447
        },
        "outputId": "e804de62-d3e3-4057-8c14-4531cb8bb876"
      },
      "execution_count": 21,
      "outputs": [
        {
          "output_type": "execute_result",
          "data": {
            "text/plain": [
              "<matplotlib.legend.Legend at 0x7effce0e5de0>"
            ]
          },
          "metadata": {},
          "execution_count": 21
        },
        {
          "output_type": "display_data",
          "data": {
            "text/plain": [
              "<Figure size 640x480 with 1 Axes>"
            ],
            "image/png": "[encoded data removed]"
          },
          "metadata": {}
        }
      ]
    },
    {
      "cell_type": "code",
      "source": [
        "\"\"\"\n",
        "Did our model improve??\n",
        "Are we done with the job?\n",
        "What is happening after 5( roughly ) epochs? Why is there a gap between\n",
        "training and validation accuracy?\n",
        "\n",
        "Our training accuracy reached to 0.73( and still increasing ) but \n",
        "the validation accuracy seems to stagnate at 0.52.\n",
        "\n",
        "Is our model overfitting on the training data so much that it can't work well \n",
        "on unseen data.\n",
        "\n",
        "Answer: \n",
        "Training accuracy has increased, which indicates that the model did improve.\n",
        "We are not done with the job since validation accuracy and training accuracy seem to diverge.\n",
        "With increasing epochs, validation loss first decreases, then increases; also there is a significant gap between training and validation accuracy\n",
        "because there has been overfitting in our model- meaning our model is able to perform well on training set (seen data), but not on unseen data (validation set).\n",
        "\n",
        "\n",
        "\"\"\""
      ],
      "metadata": {
        "id": "MX4njN_DUwlU"
      },
      "execution_count": null,
      "outputs": []
    },
    {
      "cell_type": "code",
      "source": [
        "\"\"\"\n",
        "How are we gonna tackel this problem?\n",
        "Well, we will see that in next part of this assignment.\n",
        "Till then let's learn about about overfitting.\n",
        "\"\"\""
      ],
      "metadata": {
        "id": "3l82eHENWI-R"
      },
      "execution_count": null,
      "outputs": []
    },
    {
      "cell_type": "markdown",
      "source": [
        "> **Well using Chatgpt to answer these question is something which everyone can think of right?? To create a difference write answer in your own terms after reading from web or reading the answer of Chatgpt.**\n",
        "### **After all this is your midterm evaluation. Cheating is something we can catch easily** ( we have also done this )"
      ],
      "metadata": {
        "id": "m5PHy4o-XSpQ"
      }
    },
    {
      "cell_type": "code",
      "source": [
        "\"\"\"\n",
        "[CLARIFICATION]: Reading and understanding by searching on Chatgpt is not \n",
        "considered as cheating as long as you are writing that in your own word\n",
        "( only problem is the crediblity of its information)\n",
        "\n",
        "\"\"\""
      ],
      "metadata": {
        "id": "7AzClJq2Z8zI"
      },
      "execution_count": null,
      "outputs": []
    },
    {
      "cell_type": "code",
      "source": [
        "\"\"\"\n",
        "Question: What are overfitting and underfitting? ( atleast 200 words )\n",
        "\n",
        "Answer:\n",
        "1. OVERFITTING-\n",
        "Overfitting occurs when our machine learning model tries to cover all the data points or more than the required data points present in the given dataset. \n",
        "Because of this, the model starts catching noise and inaccurate values present in the dataset, and all these factors reduce the efficiency and accuracy of the model.\n",
        "Hence, the model does not make accurate predictions on testing data.\n",
        "The chances of occurrence of overfitting increase as we provide more and more training to our model. \n",
        "It means the more we train our model, the more chances of occurring the overfitted model.\n",
        "Can be overcome by simplifying the model, and splitting the dataset to training, test and validation datasets.\n",
        "\n",
        "2.UNDERFITTING-\n",
        "Underfitting occurs when our machine learning model is not able to capture the underlying trend of the data (meaning, it is not able to learn enough from the given data).\n",
        "It usually happens when we have fewer data to build an accurate model and also when we try to build a linear model with fewer non-linear data.\n",
        "To avoid the overfitting in the model, the fed of training data can be stopped at an early stage, due to which the model may not learn enough from the training data. \n",
        "As a result, it may fail to find the best fit of the dominant trend in the data. \n",
        "Hence it reduces the accuracy and produces unreliable predictions. \n",
        "In a nutshell, underfitting refers to a model that can neither perform well on the training data nor generalize to new data.\n",
        "Can be overcome by increasing the training time of the model, and increasing the number of features.\n",
        "\n",
        "Links: 1. https://www.geeksforgeeks.org/underfitting-and-overfitting-in-machine-learning/\n",
        "       2. https://www.javatpoint.com/overfitting-and-underfitting-in-machine-learning\n",
        "       \n",
        "\"\"\""
      ],
      "metadata": {
        "id": "aNTS7DqAWXVl"
      },
      "execution_count": null,
      "outputs": []
    },
    {
      "cell_type": "code",
      "source": [
        "\"\"\"\n",
        "Question: What are regularization techniques in machine learning?(200 words)\n",
        "\n",
        "Answer: \n",
        "Regularization is a technique used in machine learning and deep learning to prevent overfitting and hence improve the generalization performance of a model. \n",
        "It involves adding a penalty term to the loss function during training. \n",
        "This penalty discourages the model from becoming too complex or having large parameter values, which helps in controlling the model's ability to fit noise in the training data.\n",
        "In simpler terms, this penalty encourages the model to learn simpler patterns that generalize well to unseen data.\n",
        "Hnece, the whole point of regularization techniques is to make a simple model, to avoid overfitting.\n",
        "\n",
        "Some types of regularization techniques:\n",
        "1. L2 regularization- Also known as Ridge regression.\n",
        "                      Ridge regression is one of the types of linear regression in which a small amount of bias is introduced so that we can get better long-term predictions.\n",
        "                      The penalty term regularizes the coefficients of the model, and hence ridge regression reduces the amplitudes of the coefficients that decreases the complexity of the model.\n",
        "2. L1 regularization- Also known as Lasso regression (Least Absolute Shrinkage and Selection Operator).\n",
        "                      It is similar to the Ridge Regression except that the penalty term contains only the absolute weights instead of a square of weights.\n",
        "                      Since it takes absolute values, hence, it can shrink the slope to 0, whereas Ridge Regression can only shrink it near to 0.\n",
        "Ridge regression is mostly used to reduce the overfitting in the model, and it includes all the features present in the model. It reduces the complexity of the model by shrinking the coefficients.\n",
        "Lasso regression helps to reduce the overfitting in the model as well as feature selection.\n",
        "\n",
        "Hence, regularization is a technique which makes slight modifications to the learning algorithm such that the model generalizes better. \n",
        "This in turn improves the model's performance on the unseen data as well, thereby reducing overfitting.\n",
        "\n",
        "Links: 1. https://www.analyticsvidhya.com/blog/2018/04/fundamentals-deep-learning-regularization-techniques/\n",
        "       2. https://www.javatpoint.com/regularization-in-machine-learning\n",
        "\"\"\""
      ],
      "metadata": {
        "id": "TfDCiJG1X652"
      },
      "execution_count": null,
      "outputs": []
    },
    {
      "cell_type": "code",
      "source": [
        "\"\"\"\n",
        "Question: What dropout layer and what does it do?( read it from Tensorflow.org and write in 200 words)\n",
        "\n",
        "Answer: \n",
        "A dropout layer is a regularization technique commonly used in neural networks, particularly in deep learning models. \n",
        "It is designed to prevent overfitting, which occurs when a model becomes too specialized to the training data and performs poorly on unseen data. \n",
        "The Dropout layer randomly sets input units to 0 with a frequency of rate at each step during training time, which helps prevent overfitting. \n",
        "Inputs not set to 0 are scaled up by 1/(1 - rate) such that the sum over all inputs is unchanged.\n",
        "This technique minimizes overfitting because each neuron becomes independently sufficient, in the sense that the neurons within the layers learn weight values that are not based on the cooperation of its neighbouring neurons.\n",
        "During the training phase, a dropout layer randomly sets a fraction of input units to zero at each update. \n",
        "These \"dropped out\" units are effectively ignored by the subsequent layers during that particular forward and backward pass. \n",
        "The fraction of units to be dropped out is typically set as a hyperparameter and can vary between different layers of the network.\n",
        "Hence, it reduces the interdependencies between neurons and helps to avoid over-reliance on a small subset of features.\n",
        "This, in turn, can lead to better performance on unseen data, as the model becomes less sensitive to the specific details of the training set.\n",
        "\n",
        "Links: 1. https://www.tensorflow.org/api_docs/python/tf/keras/layers/Dropout#:~:text=The%20Dropout%20layer%20randomly%20sets,over%20all%20inputs%20is%20unchanged.\n",
        "       2. https://towardsdatascience.com/understanding-and-implementing-dropout-in-tensorflow-and-keras-a8a3a02c1bfa\n",
        "\"\"\""
      ],
      "metadata": {
        "id": "_VGMmK3XYEcn"
      },
      "execution_count": null,
      "outputs": []
    },
    {
      "cell_type": "code",
      "source": [
        "\"\"\"\n",
        "Question: What is L1 normalization? write its formulae as well( atleast 200 words )\n",
        "\n",
        "Answer: \n",
        "Also known as Lasso regression (Least Absolute Shrinkage and Selection Operator).\n",
        "L1 regularization is the preferred choice when having a high number of features as it provides sparse solutions. \n",
        "Even, we obtain the computational advantage because features with zero coefficients can be avoided.\n",
        "This method adds 'absolute value of magnitude' of coefficient as penalty term to the loss function.\n",
        "In L1 normalization, the regularization term is defined as the sum of the absolute values of the model's coefficients, multiplied by a regularization parameter (λ). \n",
        "The objective function, including the L1 regularization term, is then minimized during the training process. \n",
        "The formula for L1 normalization can be represented as follows:\n",
        "L1 regularization term = λ * ∑|w|,\n",
        "where: λ is the regularization parameter that controls the impact of the regularization term.\n",
        "       w represents the model's weights.\n",
        "Now our aim will be to minimize the new loss function (including the L1 penalty term).\n",
        "This encourages the model to reduce the impact of less important features by shrinking their coefficients towards zero.\n",
        "If λ is zero then we will get back OLS (ordinary least squares) whereas very large value will make coefficients zero hence it will under-fit.\n",
        "Consequently, the L1 regularization promotes feature selection, as it encourages many coefficients to become exactly zero, effectively removing irrelevant features from the model.\n",
        "\n",
        "Links: 1. https://towardsdatascience.com/l1-and-l2-regularization-methods-ce25e7fc831c\n",
        "       2. https://www.analyticssteps.com/blogs/l2-and-l1-regularization-machine-learning\n",
        "       3. https://medium.com/analytics-vidhya/regularization-understanding-l1-and-l2-regularization-for-deep-learning-a7b9e4a409bf\n",
        "\n",
        "\"\"\""
      ],
      "metadata": {
        "id": "xxRFxeCzYqir"
      },
      "execution_count": null,
      "outputs": []
    },
    {
      "cell_type": "code",
      "source": [
        "\"\"\"\n",
        "Question: What is L2 normalization? write its formulae as well( atleast 200 words )\n",
        "\n",
        "Answer: \n",
        "Also known as Ridge regression.\n",
        "Regularization adds the penalty as model complexity increases. \n",
        "The regularization parameter (lambda) penalizes all the parameters except intercept so that the model generalizes the data and does not overfit. \n",
        "Ridge regression adds 'squared magnitude of the coefficient' as penalty term to the loss function.\n",
        "In L2 normalization, the regularization term is defined as the sum of the squared magnitudes of the model's coefficients, multiplied by a regularization parameter (λ). \n",
        "The objective function, including the L2 regularization term, is then minimized during the training process. \n",
        "The formula for L2 normalization can be represented as follows:\n",
        "L2 regularization term = λ * ∑(w^2),\n",
        "where: λ is the regularization parameter that controls the impact of the regularization term.\n",
        "       w represents the model's weights.\n",
        "Ridge regularization forces the weights to be small but does not make them zero and does not give the sparse solution.\n",
        "Ridge is not robust to outliers as square terms blow up the error differences of the outliers, and the regularization term tries to fix it by penalizing the weights.\n",
        "Ridge regression performs better when all the input features influence the output, and all with weights are of roughly equal size.\n",
        "L2 regularization can learn complex data patterns.\n",
        "\n",
        "Links: 1. https://towardsdatascience.com/l1-and-l2-regularization-methods-ce25e7fc831c\n",
        "       2. https://www.analyticssteps.com/blogs/l2-and-l1-regularization-machine-learning\n",
        "       3. https://medium.com/analytics-vidhya/regularization-understanding-l1-and-l2-regularization-for-deep-learning-a7b9e4a409bf\n",
        "\"\"\""
      ],
      "metadata": {
        "id": "Qdqqsw9iYyMW"
      },
      "execution_count": null,
      "outputs": []
    },
    {
      "cell_type": "code",
      "source": [
        "\"\"\"\n",
        "Question: What is data augmentation techniques and why is it needed in machine learning?( atleast 200 words )\n",
        "\n",
        "Answer: \n",
        "Data augmentation is also a type of regularization technique.\n",
        "Data augmentation is a technique of artificially increasing the training set by creating modified copies of a dataset using existing data. \n",
        "It includes making minor changes to the dataset or using deep learning to generate new data points. \n",
        "Augmented data is driven from original data with some minor changes. \n",
        "For example, in the case of image augmentation, we make geometric and color space transformations (flipping, resizing, cropping, brightness, contrast) to increase the size and diversity of the training set.\n",
        "When to use Data augmentation: 1. To prevent models from overfitting.\n",
        "                               2. The initial training set is too small.\n",
        "                               3. To improve the model accuracy.\n",
        "                               4. To reduce the operational cost of labeling and cleaning the raw dataset.\n",
        "By applying diverse transformations to the data, data augmentation helps the model generalize better to new, unseen samples.\n",
        "Since machine learning models often require a large amount of labeled data to achieve good performance, data augmentation helps overcome limitations when only a limited dataset is available.\n",
        "Hence, apart from solving the issue of overfitting, it can also solve underfitting by increasing our dataset.\n",
        "The data augmentation tools make the data rich and sufficient and thus makes the model perform better and accurately. \n",
        "Data augmentation techniques reduce the operational costs by introducing transformation in the datasets.\n",
        "It assists in data cleaning, which is essential for high accuracy models and makes machine learning more robust by creating variations in the model.\n",
        "\n",
        "Links: 1. https://www.datacamp.com/tutorial/complete-guide-data-augmentation\n",
        "       2. https://www.analyticssteps.com/blogs/data-augmentation-techniques-benefits-and-applications\n",
        "\"\"\""
      ],
      "metadata": {
        "id": "E-U7uWKxY0yv"
      },
      "execution_count": null,
      "outputs": []
    }
  ],
  "metadata": {
    "kernelspec": {
      "display_name": "Python 3",
      "name": "python3"
    },
    "language_info": {
      "codemirror_mode": {
        "name": "ipython",
        "version": 3
      },
      "file_extension": ".py",
      "mimetype": "text/x-python",
      "name": "python",
      "nbconvert_exporter": "python",
      "pygments_lexer": "ipython3",
      "version": "3.10.8"
    },
    "orig_nbformat": 4,
    "colab": {
      "provenance": [],
      "gpuType": "T4"
    },
    "accelerator": "GPU"
  },
  "nbformat": 4,
  "nbformat_minor": 0
}