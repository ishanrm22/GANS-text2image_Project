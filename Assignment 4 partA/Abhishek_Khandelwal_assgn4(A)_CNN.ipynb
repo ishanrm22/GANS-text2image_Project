{
  "cells": [
    {
      "cell_type": "markdown",
      "source": [
        "> This assignment as two parts Section A and B. The first part is the implementation of function required in applying the CNN layers and the next section will be around the use of built in function of Tensorflow"
      ],
      "metadata": {
        "id": "P3hDtc9rMxkR"
      }
    },
    {
      "cell_type": "markdown",
      "source": [
        "\n",
        "\n",
        "`Before moving ahead as we have reached the stage of applying CNNs. We are going to deal with large number of parameters and hence more computational power. So you will need to connect runtime of collab to GPU: https://www.youtube.com/watch?v=-9CLfrZISRw`"
      ],
      "metadata": {
        "id": "48fGpBzYOjt1"
      }
    },
    {
      "cell_type": "markdown",
      "source": [
        "### **BOTH THE SECTION CAN BE SOLVED INDEPENDENTLY** BUT SECTION A has **3X** more weightage than SECTION B doesn't have any code to write."
      ],
      "metadata": {
        "id": "4mSFI4ExalwM"
      }
    },
    {
      "cell_type": "markdown",
      "source": [
        "## **SECTION:A**"
      ],
      "metadata": {
        "id": "CjXMqW4cMrFg"
      }
    },
    {
      "cell_type": "code",
      "execution_count": 1,
      "metadata": {
        "id": "e8eFBZbMLxGM"
      },
      "outputs": [],
      "source": [
        "import numpy as np"
      ]
    },
    {
      "cell_type": "markdown",
      "metadata": {
        "id": "LbWwF7vkLxGP"
      },
      "source": [
        "### Q1: Complete the following function corr2d(X, K), which implements the cross correlation operation for matrix X and kernel K, both are two dimensional numpy arrays (height x width). The function should return a 2 dimensional numpy array which is the result of cross correlation operation between X and K. \n",
        "\n",
        "- not giving channels right now : assume channels = 1"
      ]
    },
    {
      "cell_type": "code",
      "execution_count": 2,
      "metadata": {
        "id": "2rVZCrIDLxGT"
      },
      "outputs": [],
      "source": [
        "def corr2d(X: np.array, K: np.array) -> np.array:\n",
        "\n",
        "    # no padding for now and assume stride = 1\n",
        "\n",
        "    Xx = X.shape[0]\n",
        "    Xy = X.shape[1]\n",
        "    Kx = K.shape[0]\n",
        "    Ky = K.shape[1]\n",
        "    result = np.zeros((Xx - Kx +1,Xy-Ky+1))\n",
        "    for i in range(Xx - Kx +1) :\n",
        "      \n",
        "      for j in range(Xy - Ky +1) :\n",
        "       \n",
        "        result[i][j] = np.sum(K * X[ i:i+Kx,j:j+Ky ] )\n",
        "    return result   \n",
        "\n",
        "\n"
      ]
    },
    {
      "cell_type": "code",
      "execution_count": 3,
      "metadata": {
        "id": "FYF60FbvLxGd",
        "colab": {
          "base_uri": "https://localhost:8080/"
        },
        "outputId": "afcdbf79-7d64-4369-d367-ee2db22a6ae5"
      },
      "outputs": [
        {
          "output_type": "stream",
          "name": "stdout",
          "text": [
            "[[19. 25.]\n",
            " [37. 43.]]\n"
          ]
        }
      ],
      "source": [
        "X = np.array([[0.0, 1.0, 2.0], [3.0, 4.0, 5.0], [6.0, 7.0, 8.0]], dtype=np.float32)\n",
        "K = np.array([[0.0, 1.0], [2.0, 3.0]], dtype=np.float32)\n",
        "print(corr2d(X, K)) # example done in class, try to print this and check if you get the right answer"
      ]
    },
    {
      "cell_type": "markdown",
      "metadata": {
        "id": "uLMP6bE3LxGf"
      },
      "source": [
        "### now try to make a new function corr2d_multiple_input_channels(X, K) : where each X and K have the same number of channels, both of them are now 3 dimensional numpy arrays, the output should be a 2 dimensional numpy array (output_h, output_w).\n",
        "\n",
        "- hint : Use the above corr2d function and read about np.stack"
      ]
    },
    {
      "cell_type": "code",
      "execution_count": 4,
      "metadata": {
        "id": "glmBGALxLxGg"
      },
      "outputs": [],
      "source": [
        "def corr2d_multiple_input_channels(X: np.array, K: np.array) -> np.array: \n",
        "    # write a function for this task\n",
        "    Xx = X.shape[1]\n",
        "    Xy = X.shape[2]\n",
        "    Kx = K.shape[1]\n",
        "    Ky = K.shape[2]\n",
        "    result = np.zeros((Xx - Kx +1,Xy-Ky+1))\n",
        "    for i in range(Xx - Kx +1) :\n",
        "      \n",
        "      for j in range(Xy - Ky +1) :\n",
        "       \n",
        "        result[i][j] = np.sum(K * X[ :,i:i+Kx,j:j+Ky ] )\n",
        "    return result  \n",
        "     "
      ]
    },
    {
      "cell_type": "code",
      "execution_count": 5,
      "metadata": {
        "id": "Iw3vxttBLxGg",
        "colab": {
          "base_uri": "https://localhost:8080/"
        },
        "outputId": "268dcb6c-a712-4b00-9215-5ce4fed28779"
      },
      "outputs": [
        {
          "output_type": "stream",
          "name": "stdout",
          "text": [
            "new_X.shape = (3, 3, 3), new_K.shape = (3, 2, 2)\n",
            "[[119. 149.]\n",
            " [209. 239.]]\n"
          ]
        }
      ],
      "source": [
        "new_X = np.stack([X, X+1, X+2], axis=0) # stacking along a new dimension\n",
        "new_K = np.stack([K, K+1, K+2], axis=0) \n",
        "\n",
        "print(f\"new_X.shape = {new_X.shape}, new_K.shape = {new_K.shape}\")\n",
        "print(corr2d_multiple_input_channels(new_X, new_K))\n",
        "# calculate the output by hand and then check whether you get the same answer\n",
        "# answer should be a 2 dim np array : (output_height, output_width) "
      ]
    },
    {
      "cell_type": "markdown",
      "metadata": {
        "id": "fhXuwIj9LxGh"
      },
      "source": [
        "### Write another function corr2d_mutli_in_out(X, K): where X (3 dim np array), K (4 dim numpy array), 0th dimension of K represents the number of kernel/filters we are using. Perform the cross correlation operation for K on X and return the output : 3 dim numpy array whose shape should be (num_output_channels, output_height, output_width)\n",
        "\n",
        "- hint : use the above corr_2d_mutliple_input_channels(X, K) for each kernel in K and then stack them."
      ]
    },
    {
      "cell_type": "code",
      "execution_count": 10,
      "metadata": {
        "id": "f3H-oe3xLxGi"
      },
      "outputs": [],
      "source": [
        "# I haven't stacked using np.stack function but rather changed the dimensions of result array and ran a for loop for stacking part.\n",
        "def corr2d_multi_in_out(X: np.array, K: np.array) -> np.array:\n",
        "    # X -> (num_in_channels, n_h, n_w)\n",
        "    # K -> (num_out_channels, num_in_channels, k_h, k_w)\n",
        "    # output -> (num_out_channels, o_h, o_w)\n",
        "    Xx = X.shape[1]\n",
        "    Xy = X.shape[2]\n",
        "    Kx = K.shape[2]\n",
        "    Ky = K.shape[3]\n",
        "    num_out_channels = K.shape[0]\n",
        "    result = np.zeros((num_out_channels,Xx - Kx +1,Xy-Ky+1))\n",
        "    for l in range(K.shape[0]) :\n",
        "      result[l] = corr2d_multiple_input_channels(X,K[l])\n",
        "    return result\n",
        "\n",
        "    #Alternate\n",
        "\n",
        "    '''import numpy as np\n",
        "\n",
        "def corr2d_multi_in_out(X: np.array, K: np.array) -> np.array:\n",
        "    num_kernels = K.shape[0]\n",
        "    output = []\n",
        "\n",
        "    for kernel in range(num_kernels):\n",
        "        output.append(corr2d_multiple_input_channels(X, K[kernel]))\n",
        "\n",
        "    return np.stack(output, axis=0)'''\n",
        "    \n",
        "\n",
        "    "
      ]
    },
    {
      "cell_type": "code",
      "execution_count": 11,
      "metadata": {
        "id": "8KvPQ4eYLxGi",
        "colab": {
          "base_uri": "https://localhost:8080/"
        },
        "outputId": "0bc91c86-ef03-47ae-e7ac-ecabe47a83c5"
      },
      "outputs": [
        {
          "output_type": "stream",
          "name": "stdout",
          "text": [
            "my_K.shape = (4, 3, 2, 2)\n",
            "[[[119. 149.]\n",
            "  [209. 239.]]\n",
            "\n",
            " [[155. 197.]\n",
            "  [281. 323.]]\n",
            "\n",
            " [[191. 245.]\n",
            "  [353. 407.]]\n",
            "\n",
            " [[227. 293.]\n",
            "  [425. 491.]]]\n"
          ]
        }
      ],
      "source": [
        "my_K = np.stack([new_K, new_K+1, new_K+2, new_K + 3], axis=0) \n",
        "print(f\"my_K.shape = {my_K.shape}\")\n",
        "\n",
        "print(corr2d_multi_in_out(new_X, my_K)) # cross check the calculation"
      ]
    },
    {
      "cell_type": "markdown",
      "metadata": {
        "id": "uGjUjrXQLxGj"
      },
      "source": [
        "### Q2: What is the computational and statistical benefits of stride larger than 1?? (not more than 20 word answer for each)"
      ]
    },
    {
      "cell_type": "markdown",
      "source": [
        "**Computational benefits**\n",
        "It reduces the number of computations by skipping intermediate values hence\n",
        "Decreasing the spatial dimensions, leading to smaller feature maps which\n",
        "Speeds up the processing time by reducing the number of operations.\n",
        "\n",
        "**Statistical benefits**\n",
        "By decreasing the spatial resolution, we can develop invariance to local variations and noise and our output is now aggregated over a larger region."
      ],
      "metadata": {
        "id": "f80ljp8gGJJo"
      }
    },
    {
      "cell_type": "markdown",
      "metadata": {
        "id": "6_dSJFchLxGj"
      },
      "source": [
        "### Q3: Now let's implement a model with just a single convolution layer, given X(input), Y(output) and K(kernel). Y is the output of the cross-correlation operation of K on X. You need to build a model to learn that kernel K.(try to print the kernel at each epoch)\n",
        "\n",
        "- hint : conv_layer(output_channels = 1, input_channels = 1, kerenl_size=(1, 2), bias=False)"
      ]
    },
    {
      "cell_type": "code",
      "execution_count": null,
      "metadata": {
        "id": "uWAF0RPhLxGj",
        "colab": {
          "base_uri": "https://localhost:8080/"
        },
        "outputId": "97931ef8-a24e-4414-9bfa-513016b7d0e3"
      },
      "outputs": [
        {
          "output_type": "stream",
          "name": "stdout",
          "text": [
            "[[1. 1. 0. 0. 0. 0. 1. 1.]\n",
            " [1. 1. 0. 0. 0. 0. 1. 1.]\n",
            " [1. 1. 0. 0. 0. 0. 1. 1.]\n",
            " [1. 1. 0. 0. 0. 0. 1. 1.]\n",
            " [1. 1. 0. 0. 0. 0. 1. 1.]\n",
            " [1. 1. 0. 0. 0. 0. 1. 1.]]\n"
          ]
        }
      ],
      "source": [
        "X = np.ones((6, 8), dtype=np.float32)\n",
        "X[:, 2:6] = 0\n",
        "print(X)"
      ]
    },
    {
      "cell_type": "code",
      "execution_count": null,
      "metadata": {
        "id": "pr0_V5lpLxGj",
        "colab": {
          "base_uri": "https://localhost:8080/"
        },
        "outputId": "a11ca703-de2f-450c-d6b4-fbb6f381c791"
      },
      "outputs": [
        {
          "output_type": "stream",
          "name": "stdout",
          "text": [
            "[[ 0.  1.  0.  0.  0. -1.  0.]\n",
            " [ 0.  1.  0.  0.  0. -1.  0.]\n",
            " [ 0.  1.  0.  0.  0. -1.  0.]\n",
            " [ 0.  1.  0.  0.  0. -1.  0.]\n",
            " [ 0.  1.  0.  0.  0. -1.  0.]\n",
            " [ 0.  1.  0.  0.  0. -1.  0.]]\n"
          ]
        }
      ],
      "source": [
        "K = np.array([[1.0, -1.0]], dtype=np.float32) # kernel, you need to learn this using a model\n",
        "Y = corr2d(X, K)\n",
        "#print(K.shape)\n",
        "\n",
        "print(Y)"
      ]
    },
    {
      "cell_type": "code",
      "execution_count": null,
      "metadata": {
        "id": "4HSVk5foLxGk"
      },
      "outputs": [],
      "source": [
        "X = X.reshape((1,6, 8,1)) # this will be the input to the model\n",
        "Y = Y.reshape((1, 6, 7,1)) # this is the output, to be used while calculation loss\n",
        "lr = 3e-2 # use this learning rate"
      ]
    },
    {
      "cell_type": "code",
      "source": [
        "#Alternate but not giving that good result.\n",
        "'''import tensorflow as tf\n",
        "\n",
        "model = tf.keras.models.Sequential()\n",
        "model.add(tf.keras.layers.Conv2D(1, (1, 2), input_shape=X.shape[1:], use_bias=False))\n",
        "\n",
        "# Compiling the model\n",
        "model.compile(tf.keras.optimizers.SGD(learning_rate=lr), loss = 'mse',\n",
        "                  metrics=['accuracy'])\n",
        "\n",
        "# Training the model\n",
        "num_epochs = 50\n",
        "for epoch in range(num_epochs):\n",
        "    model.fit(X, Y, epochs=1)  \n",
        "\n",
        "    # Printing the kernel after each epoch\n",
        "    kernel = model.get_weights()\n",
        "    print(f\"Epoch {epoch+1} - Kernel: {kernel}\")'''\n",
        "\n",
        "\n",
        "import tensorflow as tf    \n",
        "# Just an another way to write the 2 lines that follows the commented code.\n",
        "'''model = tf.keras.models.Sequential([\n",
        "    tf.keras.layers.Conv2D(1, (1, 2), use_bias=False)\n",
        "])'''\n",
        "model = tf.keras.models.Sequential()\n",
        "model.add(tf.keras.layers.Conv2D(1, (1, 2), use_bias=False))\n",
        "\n",
        "\n",
        "# Compiling the model\n",
        "optimizer = tf.keras.optimizers.Adam(learning_rate=lr)\n",
        "model.compile(optimizer=optimizer, loss='mse', metrics = ['accuracy'])\n",
        "\n",
        "# Training the model\n",
        "num_epochs = 100\n",
        "for i in range(num_epochs) :\n",
        "    model.fit(X, Y, epochs=1)\n",
        "\n",
        "# Retrieve the learned kernel\n",
        "    kernel = model.get_weights()[0]\n",
        "    kernel = np.array(kernel).flatten()\n",
        "    kernel = kernel.reshape((-1,2))\n",
        "\n",
        "    print(f\"Learned Kernel: {kernel}\")    \n"
      ],
      "metadata": {
        "colab": {
          "base_uri": "https://localhost:8080/"
        },
        "id": "5qz-rNwvFxrB",
        "outputId": "2378dd07-1331-4323-f137-92a50c4d4911"
      },
      "execution_count": null,
      "outputs": [
        {
          "output_type": "stream",
          "name": "stdout",
          "text": [
            "1/1 [==============================] - 0s 401ms/step - loss: 1.2969 - accuracy: 0.7143\n",
            "Learned Kernel: [[-0.6775566 -1.0174311]]\n",
            "1/1 [==============================] - 0s 9ms/step - loss: 1.2229 - accuracy: 0.7143\n",
            "Learned Kernel: [[-0.6475825 -0.9874717]]\n",
            "1/1 [==============================] - 0s 8ms/step - loss: 1.1516 - accuracy: 0.7143\n",
            "Learned Kernel: [[-0.61765295 -0.9575828 ]]\n",
            "1/1 [==============================] - 0s 8ms/step - loss: 1.0830 - accuracy: 0.7143\n",
            "Learned Kernel: [[-0.5877869 -0.9277958]]\n",
            "1/1 [==============================] - 0s 12ms/step - loss: 1.0172 - accuracy: 0.7143\n",
            "Learned Kernel: [[-0.55800426 -0.89814466]]\n",
            "1/1 [==============================] - 0s 8ms/step - loss: 0.9541 - accuracy: 0.7143\n",
            "Learned Kernel: [[-0.5283255 -0.8686651]]\n",
            "1/1 [==============================] - 0s 9ms/step - loss: 0.8937 - accuracy: 0.7143\n",
            "Learned Kernel: [[-0.49877176 -0.8393951 ]]\n",
            "1/1 [==============================] - 0s 9ms/step - loss: 0.8362 - accuracy: 0.7143\n",
            "Learned Kernel: [[-0.46936494 -0.81037486]]\n",
            "1/1 [==============================] - 0s 8ms/step - loss: 0.7815 - accuracy: 0.7143\n",
            "Learned Kernel: [[-0.4401273  -0.78164655]]\n",
            "1/1 [==============================] - 0s 8ms/step - loss: 0.7296 - accuracy: 0.7143\n",
            "Learned Kernel: [[-0.4110815 -0.7532543]]\n",
            "1/1 [==============================] - 0s 8ms/step - loss: 0.6805 - accuracy: 0.7143\n",
            "Learned Kernel: [[-0.38225082 -0.7252446 ]]\n",
            "1/1 [==============================] - 0s 8ms/step - loss: 0.6342 - accuracy: 0.7143\n",
            "Learned Kernel: [[-0.35365883 -0.6976658 ]]\n",
            "1/1 [==============================] - 0s 8ms/step - loss: 0.5906 - accuracy: 0.7143\n",
            "Learned Kernel: [[-0.32532924 -0.670568  ]]\n",
            "1/1 [==============================] - 0s 8ms/step - loss: 0.5498 - accuracy: 0.7143\n",
            "Learned Kernel: [[-0.297286 -0.644003]]\n",
            "1/1 [==============================] - 0s 8ms/step - loss: 0.5117 - accuracy: 0.7143\n",
            "Learned Kernel: [[-0.26955307 -0.618024  ]]\n",
            "1/1 [==============================] - 0s 9ms/step - loss: 0.4762 - accuracy: 0.7143\n",
            "Learned Kernel: [[-0.24215418 -0.59268546]]\n",
            "1/1 [==============================] - 0s 8ms/step - loss: 0.4433 - accuracy: 0.7143\n",
            "Learned Kernel: [[-0.21511298 -0.5680427 ]]\n",
            "1/1 [==============================] - 0s 8ms/step - loss: 0.4128 - accuracy: 0.7143\n",
            "Learned Kernel: [[-0.1884528  -0.54415154]]\n",
            "1/1 [==============================] - 0s 9ms/step - loss: 0.3848 - accuracy: 0.7143\n",
            "Learned Kernel: [[-0.16219646 -0.52106804]]\n",
            "1/1 [==============================] - 0s 9ms/step - loss: 0.3591 - accuracy: 0.7143\n",
            "Learned Kernel: [[-0.13636607 -0.49884766]]\n",
            "1/1 [==============================] - 0s 8ms/step - loss: 0.3356 - accuracy: 0.7143\n",
            "Learned Kernel: [[-0.11098315 -0.47754526]]\n",
            "1/1 [==============================] - 0s 13ms/step - loss: 0.3143 - accuracy: 0.7143\n",
            "Learned Kernel: [[-0.0860682  -0.45721412]]\n",
            "1/1 [==============================] - 0s 10ms/step - loss: 0.2949 - accuracy: 0.7143\n",
            "Learned Kernel: [[-0.06164065 -0.4379055 ]]\n",
            "1/1 [==============================] - 0s 10ms/step - loss: 0.2774 - accuracy: 0.7143\n",
            "Learned Kernel: [[-0.03771875 -0.41966802]]\n",
            "1/1 [==============================] - 0s 9ms/step - loss: 0.2617 - accuracy: 0.7143\n",
            "Learned Kernel: [[-0.01431934 -0.40254703]]\n",
            "1/1 [==============================] - 0s 8ms/step - loss: 0.2476 - accuracy: 0.7143\n",
            "Learned Kernel: [[ 0.00854222 -0.38658392]]\n",
            "1/1 [==============================] - 0s 8ms/step - loss: 0.2350 - accuracy: 0.7143\n",
            "Learned Kernel: [[ 0.03085225 -0.37181562]]\n",
            "1/1 [==============================] - 0s 10ms/step - loss: 0.2238 - accuracy: 0.7143\n",
            "Learned Kernel: [[ 0.05259883 -0.3582739 ]]\n",
            "1/1 [==============================] - 0s 9ms/step - loss: 0.2138 - accuracy: 0.7143\n",
            "Learned Kernel: [[ 0.07377192 -0.34598503]]\n",
            "1/1 [==============================] - 0s 8ms/step - loss: 0.2048 - accuracy: 0.7143\n",
            "Learned Kernel: [[ 0.09436348 -0.3349692 ]]\n",
            "1/1 [==============================] - 0s 8ms/step - loss: 0.1969 - accuracy: 0.7143\n",
            "Learned Kernel: [[ 0.11436749 -0.3252403 ]]\n",
            "1/1 [==============================] - 0s 9ms/step - loss: 0.1898 - accuracy: 0.7143\n",
            "Learned Kernel: [[ 0.13378009 -0.31680566]]\n",
            "1/1 [==============================] - 0s 9ms/step - loss: 0.1834 - accuracy: 0.7143\n",
            "Learned Kernel: [[ 0.15259957 -0.30966586]]\n",
            "1/1 [==============================] - 0s 9ms/step - loss: 0.1777 - accuracy: 0.7143\n",
            "Learned Kernel: [[ 0.17082642 -0.30381474]]\n",
            "1/1 [==============================] - 0s 10ms/step - loss: 0.1725 - accuracy: 0.7143\n",
            "Learned Kernel: [[ 0.18846329 -0.29923955]]\n",
            "1/1 [==============================] - 0s 8ms/step - loss: 0.1677 - accuracy: 0.7143\n",
            "Learned Kernel: [[ 0.20551498 -0.29592106]]\n",
            "1/1 [==============================] - 0s 10ms/step - loss: 0.1633 - accuracy: 0.7143\n",
            "Learned Kernel: [[ 0.22198844 -0.29383394]]\n",
            "1/1 [==============================] - 0s 9ms/step - loss: 0.1592 - accuracy: 0.7143\n",
            "Learned Kernel: [[ 0.23789266 -0.29294705]]\n",
            "1/1 [==============================] - 0s 12ms/step - loss: 0.1553 - accuracy: 0.7143\n",
            "Learned Kernel: [[ 0.25323856 -0.29322398]]\n",
            "1/1 [==============================] - 0s 8ms/step - loss: 0.1515 - accuracy: 0.7143\n",
            "Learned Kernel: [[ 0.26803893 -0.29462343]]\n",
            "1/1 [==============================] - 0s 10ms/step - loss: 0.1478 - accuracy: 0.7143\n",
            "Learned Kernel: [[ 0.28230828 -0.29709986]]\n",
            "1/1 [==============================] - 0s 10ms/step - loss: 0.1442 - accuracy: 0.7143\n",
            "Learned Kernel: [[ 0.29606274 -0.30060393]]\n",
            "1/1 [==============================] - 0s 9ms/step - loss: 0.1407 - accuracy: 0.7143\n",
            "Learned Kernel: [[ 0.30931988 -0.30508322]]\n",
            "1/1 [==============================] - 0s 8ms/step - loss: 0.1371 - accuracy: 0.7143\n",
            "Learned Kernel: [[ 0.32209855 -0.31048262]]\n",
            "1/1 [==============================] - 0s 10ms/step - loss: 0.1336 - accuracy: 0.7143\n",
            "Learned Kernel: [[ 0.33441877 -0.31674504]]\n",
            "1/1 [==============================] - 0s 9ms/step - loss: 0.1301 - accuracy: 0.7143\n",
            "Learned Kernel: [[ 0.34630147 -0.3238118 ]]\n",
            "1/1 [==============================] - 0s 11ms/step - loss: 0.1265 - accuracy: 0.7143\n",
            "Learned Kernel: [[ 0.3577684  -0.33162323]]\n",
            "1/1 [==============================] - 0s 10ms/step - loss: 0.1229 - accuracy: 0.7143\n",
            "Learned Kernel: [[ 0.3688419 -0.3401191]]\n",
            "1/1 [==============================] - 0s 9ms/step - loss: 0.1194 - accuracy: 0.7143\n",
            "Learned Kernel: [[ 0.37954476 -0.34923905]]\n",
            "1/1 [==============================] - 0s 10ms/step - loss: 0.1158 - accuracy: 0.7143\n",
            "Learned Kernel: [[ 0.3899001  -0.35892302]]\n",
            "1/1 [==============================] - 0s 9ms/step - loss: 0.1122 - accuracy: 0.7143\n",
            "Learned Kernel: [[ 0.39993104 -0.36911154]]\n",
            "1/1 [==============================] - 0s 10ms/step - loss: 0.1086 - accuracy: 0.7143\n",
            "Learned Kernel: [[ 0.40966073 -0.37974617]]\n",
            "1/1 [==============================] - 0s 11ms/step - loss: 0.1050 - accuracy: 0.7143\n",
            "Learned Kernel: [[ 0.41911206 -0.3907697 ]]\n",
            "1/1 [==============================] - 0s 10ms/step - loss: 0.1015 - accuracy: 0.7143\n",
            "Learned Kernel: [[ 0.4283076 -0.4021264]]\n",
            "1/1 [==============================] - 0s 8ms/step - loss: 0.0980 - accuracy: 0.7143\n",
            "Learned Kernel: [[ 0.43726945 -0.41376233]]\n",
            "1/1 [==============================] - 0s 8ms/step - loss: 0.0945 - accuracy: 0.7143\n",
            "Learned Kernel: [[ 0.44601908 -0.4256255 ]]\n",
            "1/1 [==============================] - 0s 8ms/step - loss: 0.0911 - accuracy: 0.7143\n",
            "Learned Kernel: [[ 0.45457727 -0.437666  ]]\n",
            "1/1 [==============================] - 0s 9ms/step - loss: 0.0878 - accuracy: 0.7143\n",
            "Learned Kernel: [[ 0.46296397 -0.44983616]]\n",
            "1/1 [==============================] - 0s 9ms/step - loss: 0.0845 - accuracy: 0.7143\n",
            "Learned Kernel: [[ 0.4711982 -0.4620908]]\n",
            "1/1 [==============================] - 0s 9ms/step - loss: 0.0813 - accuracy: 0.7143\n",
            "Learned Kernel: [[ 0.479298   -0.47438714]]\n",
            "1/1 [==============================] - 0s 9ms/step - loss: 0.0782 - accuracy: 0.7143\n",
            "Learned Kernel: [[ 0.48728034 -0.486685  ]]\n",
            "1/1 [==============================] - 0s 8ms/step - loss: 0.0752 - accuracy: 0.7143\n",
            "Learned Kernel: [[ 0.49516106 -0.49894685]]\n",
            "1/1 [==============================] - 0s 10ms/step - loss: 0.0723 - accuracy: 0.7143\n",
            "Learned Kernel: [[ 0.5029549 -0.5111378]]\n",
            "1/1 [==============================] - 0s 16ms/step - loss: 0.0695 - accuracy: 0.8571\n",
            "Learned Kernel: [[ 0.5106753 -0.5232257]]\n",
            "1/1 [==============================] - 0s 9ms/step - loss: 0.0667 - accuracy: 0.8571\n",
            "Learned Kernel: [[ 0.51833457 -0.5351812 ]]\n",
            "1/1 [==============================] - 0s 18ms/step - loss: 0.0641 - accuracy: 0.8571\n",
            "Learned Kernel: [[ 0.52594376 -0.5469776 ]]\n",
            "1/1 [==============================] - 0s 9ms/step - loss: 0.0615 - accuracy: 0.8571\n",
            "Learned Kernel: [[ 0.53351265 -0.5585908 ]]\n",
            "1/1 [==============================] - 0s 14ms/step - loss: 0.0591 - accuracy: 0.8571\n",
            "Learned Kernel: [[ 0.54104984 -0.56999964]]\n",
            "1/1 [==============================] - 0s 9ms/step - loss: 0.0567 - accuracy: 0.8571\n",
            "Learned Kernel: [[ 0.54856265 -0.5811853 ]]\n",
            "1/1 [==============================] - 0s 20ms/step - loss: 0.0545 - accuracy: 0.8571\n",
            "Learned Kernel: [[ 0.5560573 -0.5921317]]\n",
            "1/1 [==============================] - 0s 11ms/step - loss: 0.0523 - accuracy: 0.8571\n",
            "Learned Kernel: [[ 0.5635388  -0.60282516]]\n",
            "1/1 [==============================] - 0s 9ms/step - loss: 0.0502 - accuracy: 0.8571\n",
            "Learned Kernel: [[ 0.57101107 -0.61325455]]\n",
            "1/1 [==============================] - 0s 9ms/step - loss: 0.0482 - accuracy: 0.8571\n",
            "Learned Kernel: [[ 0.5784769  -0.62341094]]\n",
            "1/1 [==============================] - 0s 9ms/step - loss: 0.0462 - accuracy: 0.8571\n",
            "Learned Kernel: [[ 0.5859381 -0.6332877]]\n",
            "1/1 [==============================] - 0s 9ms/step - loss: 0.0443 - accuracy: 0.8571\n",
            "Learned Kernel: [[ 0.59339553 -0.64288026]]\n",
            "1/1 [==============================] - 0s 10ms/step - loss: 0.0425 - accuracy: 0.8571\n",
            "Learned Kernel: [[ 0.60084915 -0.65218604]]\n",
            "1/1 [==============================] - 0s 10ms/step - loss: 0.0408 - accuracy: 0.8571\n",
            "Learned Kernel: [[ 0.60829806 -0.66120434]]\n",
            "1/1 [==============================] - 0s 9ms/step - loss: 0.0391 - accuracy: 0.8571\n",
            "Learned Kernel: [[ 0.61574054 -0.66993624]]\n",
            "1/1 [==============================] - 0s 9ms/step - loss: 0.0375 - accuracy: 0.8571\n",
            "Learned Kernel: [[ 0.62317425 -0.6783843 ]]\n",
            "1/1 [==============================] - 0s 9ms/step - loss: 0.0359 - accuracy: 0.8571\n",
            "Learned Kernel: [[ 0.6305962  -0.68655264]]\n",
            "1/1 [==============================] - 0s 13ms/step - loss: 0.0344 - accuracy: 0.8571\n",
            "Learned Kernel: [[ 0.6380029 -0.6944467]]\n",
            "1/1 [==============================] - 0s 11ms/step - loss: 0.0330 - accuracy: 0.8571\n",
            "Learned Kernel: [[ 0.6453901 -0.702073 ]]\n",
            "1/1 [==============================] - 0s 10ms/step - loss: 0.0316 - accuracy: 0.8571\n",
            "Learned Kernel: [[ 0.6527535 -0.7094391]]\n",
            "1/1 [==============================] - 0s 10ms/step - loss: 0.0302 - accuracy: 0.8571\n",
            "Learned Kernel: [[ 0.6600882  -0.71655357]]\n",
            "1/1 [==============================] - 0s 14ms/step - loss: 0.0289 - accuracy: 0.8571\n",
            "Learned Kernel: [[ 0.6673891 -0.7234256]]\n",
            "1/1 [==============================] - 0s 14ms/step - loss: 0.0276 - accuracy: 0.8571\n",
            "Learned Kernel: [[ 0.67465097 -0.7300651 ]]\n",
            "1/1 [==============================] - 0s 11ms/step - loss: 0.0264 - accuracy: 0.8571\n",
            "Learned Kernel: [[ 0.68186826 -0.73648244]]\n",
            "1/1 [==============================] - 0s 12ms/step - loss: 0.0252 - accuracy: 0.8571\n",
            "Learned Kernel: [[ 0.6890355  -0.74268824]]\n",
            "1/1 [==============================] - 0s 9ms/step - loss: 0.0241 - accuracy: 0.8571\n",
            "Learned Kernel: [[ 0.696147  -0.7486935]]\n",
            "1/1 [==============================] - 0s 10ms/step - loss: 0.0230 - accuracy: 0.8571\n",
            "Learned Kernel: [[ 0.70319736 -0.7545093 ]]\n",
            "1/1 [==============================] - 0s 9ms/step - loss: 0.0219 - accuracy: 0.8571\n",
            "Learned Kernel: [[ 0.71018106 -0.76014674]]\n",
            "1/1 [==============================] - 0s 10ms/step - loss: 0.0209 - accuracy: 0.8571\n",
            "Learned Kernel: [[ 0.7170927 -0.7656168]]\n",
            "1/1 [==============================] - 0s 10ms/step - loss: 0.0200 - accuracy: 0.8571\n",
            "Learned Kernel: [[ 0.72392714 -0.77093023]]\n",
            "1/1 [==============================] - 0s 10ms/step - loss: 0.0190 - accuracy: 0.8571\n",
            "Learned Kernel: [[ 0.73067945 -0.7760977 ]]\n",
            "1/1 [==============================] - 0s 11ms/step - loss: 0.0181 - accuracy: 0.8571\n",
            "Learned Kernel: [[ 0.73734486 -0.7811295 ]]\n",
            "1/1 [==============================] - 0s 11ms/step - loss: 0.0172 - accuracy: 0.8571\n",
            "Learned Kernel: [[ 0.74391896 -0.78603536]]\n",
            "1/1 [==============================] - 0s 10ms/step - loss: 0.0164 - accuracy: 0.8571\n",
            "Learned Kernel: [[ 0.7503975 -0.7908248]]\n",
            "1/1 [==============================] - 0s 7ms/step - loss: 0.0156 - accuracy: 0.8571\n",
            "Learned Kernel: [[ 0.75677675 -0.7955066 ]]\n",
            "1/1 [==============================] - 0s 10ms/step - loss: 0.0149 - accuracy: 0.8571\n",
            "Learned Kernel: [[ 0.7630532 -0.8000892]]\n",
            "1/1 [==============================] - 0s 10ms/step - loss: 0.0141 - accuracy: 0.8571\n",
            "Learned Kernel: [[ 0.7692237  -0.80458033]]\n"
          ]
        }
      ]
    },
    {
      "cell_type": "markdown",
      "metadata": {
        "id": "-sWbsvXQLxGk"
      },
      "source": [
        "### Q4: Complete the following function max_pool2d(X, K) which performs maxpooling with kernel size K on X and returns and two dim numpy array"
      ]
    },
    {
      "cell_type": "code",
      "execution_count": null,
      "metadata": {
        "id": "0Qjsv_v_LxGk"
      },
      "outputs": [],
      "source": [
        "\n",
        "def max_pool2d(X: np.array, K: tuple) -> np.array:\n",
        "    # write a function for this job\n",
        "    Xx , Xy = X.shape\n",
        "    Kx, Ky = K\n",
        "    X_output = int(Xx/Kx)\n",
        "    Y_output = int(Xy/Ky)\n",
        "    output = np.zeros((X_output, Y_output))\n",
        "    for i in range(X_output) :\n",
        "      for j in range(Y_output) :\n",
        "        m = j*Kx\n",
        "        n = m + Kx\n",
        "        o = i*Ky\n",
        "        p= o + Ky\n",
        "        output[i][j]= np.max(X[o:p,m:n])\n",
        "    return output    \n",
        "\n",
        "\n"
      ]
    },
    {
      "cell_type": "code",
      "execution_count": null,
      "metadata": {
        "id": "ZiLo_mjSLxGl",
        "colab": {
          "base_uri": "https://localhost:8080/"
        },
        "outputId": "b0b26090-7d0e-42ea-d911-8992bff02e8d"
      },
      "outputs": [
        {
          "output_type": "execute_result",
          "data": {
            "text/plain": [
              "array([[4.]])"
            ]
          },
          "metadata": {},
          "execution_count": 54
        }
      ],
      "source": [
        "X = np.array([[0.0, 1.0, 2.0], [3.0, 4.0, 5.0], [6.0, 7.0, 8.0]], dtype=np.float32)\n",
        "max_pool2d(X, (2, 2)) # check if the output matches with your calculation"
      ]
    },
    {
      "cell_type": "markdown",
      "metadata": {
        "id": "v-niSYY3LxGl"
      },
      "source": [
        "# **SECTION:B**\n",
        "\n"
      ]
    },
    {
      "cell_type": "markdown",
      "source": [
        "### **JUST RUN THE CELLS AND VISUALIZE**( Nothing to code 🙂 )\n",
        "\n",
        "> Indented block\n",
        "\n"
      ],
      "metadata": {
        "id": "pfa0otIGY4vf"
      }
    },
    {
      "cell_type": "code",
      "execution_count": null,
      "metadata": {
        "id": "mI1blAXSLxGl"
      },
      "outputs": [],
      "source": [
        "import matplotlib.pyplot as plt\n",
        "import tensorflow as tf"
      ]
    },
    {
      "cell_type": "code",
      "source": [
        "#importing the dataset\n",
        "(X_train,Y_train),(X_test,Y_test) = tf.keras.datasets.cifar10.load_data()\n",
        "from sklearn.model_selection import train_test_split\n",
        "X_train,X_test,Y_train,Y_test=train_test_split(X_train,Y_train,test_size=0.3)"
      ],
      "metadata": {
        "id": "hjSRQ2QuNf69"
      },
      "execution_count": null,
      "outputs": []
    },
    {
      "cell_type": "code",
      "source": [
        "# Print shape of all 4 variables: X_train,Y_train,X_test, and Y_test\n",
        "print(X_train.shape)\n",
        "print(X_test.shape)\n",
        "print(Y_train.shape)\n",
        "print(Y_test.shape)"
      ],
      "metadata": {
        "id": "fhl64KENQSuq",
        "colab": {
          "base_uri": "https://localhost:8080/"
        },
        "outputId": "731811bb-5e63-4c22-de25-ea031a89f4ef"
      },
      "execution_count": null,
      "outputs": [
        {
          "output_type": "stream",
          "name": "stdout",
          "text": [
            "(35000, 32, 32, 3)\n",
            "(15000, 32, 32, 3)\n",
            "(35000, 1)\n",
            "(15000, 1)\n"
          ]
        }
      ]
    },
    {
      "cell_type": "code",
      "source": [
        "#Lets visualize the CIFAR-10 dataset\n",
        "\n",
        "import random\n",
        "figure = plt.figure(figsize=(6,6))\n",
        "\n",
        "for i in range(9):\n",
        "  index = random.randint(0,len(X_train)-1) # showing the index_th image\n",
        "  \n",
        "  plt.subplot(3,3,i+1)\n",
        "  plt.imshow(X_train[index])\n",
        "  plt.title(Y_train[index])\n",
        "  plt.axis(False)"
      ],
      "metadata": {
        "id": "Oygw7B1fNm0O",
        "colab": {
          "base_uri": "https://localhost:8080/",
          "height": 521
        },
        "outputId": "31ffdc9b-8c1b-48f9-9f5f-152304008302"
      },
      "execution_count": null,
      "outputs": [
        {
          "output_type": "display_data",
          "data": {
            "text/plain": [
              "<Figure size 600x600 with 9 Axes>"
            ],
            "image/png": "[encoded data removed]"
          },
          "metadata": {}
        }
      ]
    },
    {
      "cell_type": "code",
      "source": [
        "\"\"\"\n",
        "So you can probably notice here that the images are 3D(coloured) but still \n",
        "not of great quality ( what can you expect from 32x32 image). Also there are\n",
        "certain other factors which makes the classification a bit tougher than the \n",
        "cases of 2D( the digit and the fashion data) you dealt before. We will try to\n",
        "understand the difficulties and find probable solution for them.\n",
        "\"\"\""
      ],
      "metadata": {
        "id": "mIY0GmLjSMvK",
        "colab": {
          "base_uri": "https://localhost:8080/",
          "height": 69
        },
        "outputId": "0931fd9d-788f-4dc4-d000-c7c1af0906c0"
      },
      "execution_count": null,
      "outputs": [
        {
          "output_type": "execute_result",
          "data": {
            "text/plain": [
              "'\\nSo you can probably notice here that the images are 3D(coloured) but still \\nnot of great quality ( what can you expect from 32x32 image). Also there are\\ncertain other factors which makes the classification a bit tougher than the \\ncases of 2D( the digit and the fashion data) you dealt before. We will try to\\nunderstand the difficulties and find probable solution for them.\\n'"
            ],
            "application/vnd.google.colaboratory.intrinsic+json": {
              "type": "string"
            }
          },
          "metadata": {},
          "execution_count": 59
        }
      ]
    },
    {
      "cell_type": "markdown",
      "source": [
        "![image.png](data:image/png;base64,iVBORw0KGgoAAAANSUhEUgAAA+UAAAHhCAYAAAAIzR+1AAAgAElEQVR4nOzdf3RV1Z3//6dfWNwOlkupDYNOWJCEaIcQGQgFyUcrWRTJWCFtEaj8SDWAFoiWQFWko5jaxqhFLCD+AMQGsEVi24Bj0dYJtk7SKkmGInyqklZWMsjHW4bhWpi5rLLy/QOUBMIPK2RjeD7Wuq7cc/bZ532zcpa87t5nnwuampqakCRJkiRJbe7/C12AJEmSJEnnK0O5JEmSJEmBGMolSZIkSQrEUC5JkiRJUiCGckmSJEmSAjGUS5IkSZIUiKFckiRJkqRADOWSJEmSJAViKJckSZIkKZCObXmyt+t3tuXpJEmSJEkKJj2t1ynbtGkoj0a7tOXpJEmSJEk6pzl9XZIkSZKkQAzlkiRJkiQFYiiXJEmSJCkQQ7kkSZIkSYEYyiVJkiRJCsRQLkmSJElSIIZySZIkSZICMZRLkiRJkhSIoVySJEmSpEAM5ZIkSZIkBWIolyRJkiQpEEO5JEmSJEmBGMolSZIkSQrEUC5JkiRJUiCGckmSJEmSAjGUS5IkSZIUiKFckiRJkqRADOWSJEmSJAViKFc7tpVFQ4ZwxZBFbP1bu3hvPbOHDOGKxX9zD8Ae1hd9zDqks+qDa+Xo64ujpjJ/9Wb2HApd22EHaxYxYshVzP7FnnOiH0mSpDPFUC5JOiKTkVNu4sYpE8m5eBeVi2fy1RsfZ+v/hK4LiHTioo96TGtfqv0t/UiSJJ1FHUMXIEk6V1zO9Td/k0yAm2/jlueL+Pp9K5m5+HJ+dUc2nQJW1qnfN/nJ7755zvQjSZJ0pjhSrvPe+2+UM//ma/nikCFcMXI8c59qZcruoT+x6cGpfDlnCFfkXMvs1Vt5v3mb/3mH9R/sH/Ilpj24nnfOhdFF6WO45Lrbua0fHHxuPZX/fXT7npqVzB3/pSPT3It4uqblVPDm+1u9pg7tYfNTc/n6yCFcMeQqvnzzQ6yvP3hk55Gp9EVreHH1TEYMGcKiLcCWRVwxZAiznz98rj3PF3HFkHye2fQiP5hy+Fwjxs/lmTfeP9zL4iFcMer7VAGsnsoVQ4pY/97x/QDw/lbK7z16/X79zpVsfq/Z53m+iCuGDGHRpq08c+d4RgwZwhUjp/KDl3edod+0JEk6nxnKdV47+MbjTJvyEJXk8u0fLOTbV8GmJ2Yyc/WbLRv++Pt8v+EyRt0wkZHJ71O1eCqzn3vnSCdbefzG8ZQ89z6ZeTdx4w2DeP+57/P1eevZdY7cjyv9bS7h8i9eAlTyZv3hLXt+UcRXZzxOVdccbpxyE7kXb+bxGVNZVHM4VB9843Fmznicqq7XU7x4Id8eFqHqiZnMXLGVwy3eZ9O9X6HwiX+n0+CJ3DhlNCk7yymZMIPyd5qdumoR8xe/yUX/eBmf63Ci+t5kUfEa3s+8nhtvGMnF71WyaMo9rH8Pel/7KEvum8ilAMNvY8niAgZ9ppUu/mcri6ZO5QevHGRQ3k3ceEM2nV57nMLxRbz4Xsumz9xZRNVFOYy5YSSXHtxK+byHDgd9SZKkj8Hp6zqPHWTzCyt5h0HMK76N0RcD2Z3YtWEmzzxdydZvXHZ4Gi/A8O/y05KRdAGYPIgu1xZR/kwlb427iYs3reHpdyBzzgOUjusNQO4lU/n6gocof2M0t/UP8+mkM+Gii3oDu3jn3T1w6M9seKKKg52v5+Ef3k723wGTL6fTtUU8s3ojE7NGs6tqDe+Qybfv+SYjk4HBven033Mpr/o9b96cSeZb5Sx66SCdxixk+QdT4odfQv6ERSx6aSvX33zkxJ2zmffMwsPXJcCW1usb/d3lzLvq8MT6iX0PMuLuSp7+xZuM/sYgBnXZxeeAty6+nEGDM1s9ftcLP+SZd2DYfY9SfE0XAAqu+hxfn7GGJ55/k5EFl33Ydth9P6P0SJvRvffwtfureGvHQegecmK/JEn6pHOkXOexTmTf8Tt++7tHj/7Dv0MKvbOBAwdbNr34ksOBHODvBpH9z8C7v+cP771PzW8qgUGMuqr3h817X3Y5cJC3/uT0VrUj9VWsfxfIyzkcyAH+7jIu/Seg6h3+dAh6p+XQia088cBKXvy/u3j/4CWMfqCMsqcnkgnseev37AJGXzno6D3qaRNZ/uKv+NfJzYLzP+Xwfy7mlD4dPRqIuwwdyUhg13+8yemtrb6HrdVbgZHkDv3wCqdTVg7DgF2/3krzwftL/v5om0jHw+fd9V/vn9aZJEmSTsSRcp3fDu1h849/yNMbqtj8zun+47oTXT4IJBwk/heAzZR8ZQglx7Tc3LAHuOQMFSu1vT17DsfS3hdfBP/zPrsAfjyTK358bMs/sWsPDBr+L5Td3YXvL36c+Tc+DnTioqsKKL7rJgY1W/a804UtR5c7fabLx19IrsvnPvLK6olDAJ/joi7Nt15E7yygZhfvA11aO1CSJOkMMZTrPHaQrUunUrj6z2TPWMpP83rThV28OC+fH9Sc/Lj3P1zErRPRTwNcxoT7biP72HtWL+oNHDPqLn1i7OL3v94FZNO7J/DfXbgE2DX8NpZ85bJj2ka45DMAneh93e0su+52Dr73DptfepxFix+ncG8XfrrieiJHWh/cfxDO9Hru7//5NEfIj4p0APgze1qk7z28UwNc3OXDeiVJks4Wp6/rPPYm//7TXcBYJkzK5JLPdKFLlwgHD7TS9N3DI2YA/M9mqn4BXHw5n+/ehUv/KRP4E3tIYdDgQUdelxOlC5enOcamT65dzz/Eojeg05ix5HYHemeS3RmoP0g0a9DRv/eeQM9MLum0ixfvzif/xpVsPQSduvcme9LtTMgG3tjFHuCiSy/nEqDqtd8f/brqnXKmDRnCF5/c2nohJ/GX+NEvvQ5u3UwlcMk/XXaaI+YXkTk0E6ik8rWjM2UO1lSyCbhkdPbhheIkSZLOIkfKdR74PeVPPs6/t9j2Of7PDSP5/PBOsGEdi+6F7J7w7u/W8+L/baWLl+/ha7f+njGZEd79zTpePACZ03MO/4P92m8x4dmpPHP3ePb8x/X0+wz8ZWs55a9dwjefXs6N/9gWn1E6Ez64Vg7y7uaNVG7ZA5fexKO3HlmQrdMgJszJZv19jzP1xj9x/VWX0OnALqoqXuSdK0v52X05DMq+iO/f+zjfn9eJm8ZcBm+V80wVdLomk94Al17Pbdc8xdwfFzF1z1iye8I7L69hK5l8+5pM4KMF8/X3TCWRl83FHK7jYOdsbvnnI6P4f9fl8OD3T39ISSSXUTdcz7HLvV3ywfX7vZmw9Wg/uzpnU3zdsbMBJEmSzjxDuc4DW3lxxbH/0M/mkq9cz+g5q5jX6Xssfm4NT3+mN8Mmf5dv/30RP3h5M2++A5mdD7cedMejXF//OA/9eCt7uIjsWx+geMyRhd3+LpPblpfR+7GHeOIXK9l8oBMX9R/NvFXfZPSlrsqsT5Kj10qX3oPIufW73HbDIC5q9kiyS65byM+6r+ShBWt4ZsX78JneDJv8KAu/Mejw6PQ/L+Qnn17EoiUrmX/rkf2Tvkvp1Jwjs8O7MOzen7Mk5SF+sHYNT7/UiYv6X8+8Z77F6N7HV3Qq1xdOhBce4uk33qdL7xxuu/e7jOx+ZGeXHG65dySbH3yR9T/+HFljjg/lh6/f5Vyy4IesrFjJngNd6D3smyyZcxODuh/bWJIk6cy7oKmpqamtTvb/Yv/VVqeSJLVje54v4sv3VTHhyd/52EFJknTO+vukz56yjfeUS5IkSZIUiKFckiRJkqRAnL4uSZIkSdJZ4PR1SZIkSZLOYYZySZIkSZICMZRLkiRJkhSIoVySJEmSpEAM5ZIkSZIkBWIolyRJkiQpEEO5JEmSJEmBGMolSZIkSQrEUC5JkiRJUiCGckmSJEmSAjGUS5IkSZIUiKFckiRJkqRADOWSJEmSJAViKJckSZIkKRBDuSRJkiRJgRjKJUmSJEkKxFAuSZIkSVIghnJJkiRJkgLp2JYni8ffb8vTSZIkSZIUzN8nffaUbS5oampqaoNaJEmSJEnSMZy+LkmSJElSIIZySZIkSZICMZRLkiRJkhSIoVySJEmSpEAM5ZIkSZIkBWIolyRJkiQpEEO5JEmSJEmBGMolSZIkSQrEUC5JkiRJUiCGckmSJEmSAjGUS5IkSZIUiKFcOpF4Hcum59I/NZ2U1CzGzFlNbTx0UVIYie0bWPDkJhoOfbx+YuXTSEktpfbMlCVJkvSJZyiXWtVI2U3jWPDX0aysrGFL5XJy4qWMuWk1DaFLkwJINFSzbPFLbNsfuhJJkqT2pWPoAqRz0vb1LK8bRnHVDAb2ABhA4X3zqc1eSsX2SRT2DV2g1LaiI0v4w8jQVUiSJLU/jpRLrYhtr6MheQD9ejTb2CODgcmN1G6PBatLOmsOxahaPJMRWemkpPZj8LhiKnYe3X3stPNY+TRSClZQuWY2gzPTKSiPweZSUlJLqaheSkF2P1JS0+k/ppi1byVOeurEW+uYPy6bz6emk5KVy/Qn64h/ME1+9zoKUtMpebmetXePO3w7SVYus9bU06LXA4f3D85MJyUzmzF3b/jYU+0lSZLagqFcasW+/e9BnyS6t9iaRFKfQAVJZ1WCyntzmLi+O/N+WsOWqgq+k1HNrOuKqTpZnn59IXe+2IfvPFZG4RXRIxtXcM+aCIU/rmJLZRn5HdYxd0wplQdO0Ef9aibkFtPw5eX8pqaGXz8xmsTicdz0k8YWzcruuIv6wffzq5pKnpvak413T2XZ1iM7DzWy9lt5zH9zKI88X8OW50vo99vZjLh3Eyf/OkCSJCk8Q7nUivi720OXILWdeDXVv09jzoPzyekVJdojjbwpU8jev5pNW09yXLcZrFw5g7wrhzIwOXJk4yQeWTCFgb2iRHsNZc7TS8hnNateaH2GyY7fvkLiq/fzwDf6ktQtSs9BM5g6Hmpfrqb5ETn3LmfeqDSSuiUzcHoRhcmN1L55uEX8V0uZ//LVPPBEEdm9okR7DaP44SK6r1nDz3efkd+QJEnSWeM95ZJ0vosOY17FsJbbOkKk9dZH9Umie4djN0bo2vzAzgMZOhzKdjQCScd3MXEZz09sue1TrfyfqefF0WbvWs5a2VG3jsTwh8nu1qzJpX3JYSH1jUDz21AkSZLOMYZyqRXRi/vCW6GrkNrQ7mqWPbSQZS/VEWu2wvrHv2MjSvcewP59rU8lPxRn2wtLWbJoHRvrmz1zcFhrjVsT5729wMuzGZw6+7i9OQ0xGHT8lwGSJEnnCkO51IquF3aHHTHeo/nYXiONrwOjgpUlnR2JauaPmEbDjFU8d98AenYGqKMkddwZ6DxGQz2Q1rXVkfeGn0zluqczeOTxjTzSO4lIh8OLyA1+4XT7j9K9GzDxUV6bfcXx5+gcbeUYSZKkc4f3lEutSOo7gJ6Nm6hptvo0O7dRtT+ZgZc56qZ2ZusrlO0fysivfhDIgQP7iJ/0oBNJsK/5kPiBbdT+FnL6JLfSNkbVy3UwfDR5aYcDOcC++Hsf6Yx9Mq6BV2p5OxIl2u3oCyB6yjn4kiRJYRnKpdb0Hcuc4dspuX0hVTvjxHfWseR7pdQOm8F4n1Gu9iYtg1w2sfyJdWzbGWPHq6uZO66QtX9TZ6spuWc1tR9cN98qpIxJTL62tS+zkug3IBnWLGXJq/XEdm6nYnE+Y7730RZajF4zlcLICgpuPHK97m2kds08xnzxXjb6BENJknSOM5RLrUoi74fPMq9nNdNzsuifM5XK6FyeXzK2laWqpE+4bqN44Lm59Hm1lOtyshmzsJ4BDy5h2oWwbUfjqY9vYQqFX4mz5IZs+ueMY9l/jeWR5+eT07n11hkzVvHIV/ZRNj2XwddNpYLprCwZBpvqeft0nzMeGcCcio0UX1bNrOuy6J+Vyzc3RSl87n5yvWAlSdI57oKmpqam0EVIktqBzaWkjIPn/jiXgaFrkSRJ+oRwpFySJEmSpEAM5ZIkSZIkBeL0dUmSJEmSAnGkXJIkSZKkQAzlkiRJkiQFYiiXJEmSJCkQQ7kkSZIkSYEYyiVJkiRJCsRQLkmSJElSIIZySZIkSZICMZRLkiRJkhSIoVySJEmSpEAM5ZIkSZIkBWIolyRJkiQpkI5tebK363e25ekkSZIkSQomPa3XKdtc0NTU1NQGtUiSJEmSpGM4fV2SJEmSpEAM5ZIkSZIkBWIolyRJkiQpEEO5JEmSJEmBGMolSZIkSQrEUC5JkiRJUiCGckmSJEmSAjGUS5IkSZIUiKFckiRJkqRADOWSJEmSJAViKJckSZIkKRBDuXQK8fpNLJk2m4rdoSuR9NHUUZKaTsnmk7WJUfnkQtZuTRx+u7mUlNRprPV6lyRJbcRQLp1AfOsGSvKz6D9iGgtefp//DV2QdK7bXEpKaim1oev4SOLsWLeU5dWNoQuRJEnnKUO51Jrd65g14X529L2X55dMCl2NpLMmjWm/fJtf3pwWuhBJknSeMpRLrek2kkf+o4qn5o4io3skdDXS2XcoRtXimYzISicltR+DxxVTsfPo7trSdFIK1hFrfsyHI+Mx1hakkzJuBbCCManppJTWfdgsVr2U6SOySElN5/PZ45hfXk/i6F7WFqRTsKaairvHMTgznZTMbAoWVxM7FKf2yQ9qymLE9BVsO9C8gAQ7yosZk92PlNR0+o+YyZLqFhUetqeOZdNz6Z+aTkrWsec/PMW9oLyV445+AJZ8eHwu05+sI37odH+xkiRJJ2col1oTiRLtELoIqa0kqLw3h4nruzPvpzVsqargOxnVzLqumKrEqY+GJL7ySA1blk0CJvFUTQ1bbhsAQPyF2Vw1cT1db1nFazU1/PLBobxRnMf08pbTxStLS9k2+H7+9ddV/LJkJA0L85mQO5nv7x/LY/9aw2sVc8nYVsqYh6o/DNTbHstjRPE2sh/cyJaaKp65pSsVEydTsrll0cu+fT/x6x/lVzWVPDe7D1V35HHnC/HT+9UcqKNkQj4V0Sk8U1XDa09PIrF4HDetrj+94yVJkk7BUC5J57t4NdW/T2POg/PJ6RUl2iONvClTyN6/mk1bT6+LSDRKtGsEiNC1W5RoZ+DQdspKN5Ax/1FKr+9LUrcoPa8sYmXJ1VTe8TAbm+XijKKHmTcqjaRuSfQZVcSc0bCj81geKBpGnx5RkjLHUjilL4mX69gBsHcDSx5qJH/xKuZcmUy0WxIZ15fwSFGCZbNXsK1Zbbkly5kzPI2kbskMnDif4m9ARfmLnGRs/EM7Vt/FskQRj5SMJaNHlKTMSTxScg21P1hHraPlkiTpDDCUS9L5LjqMeRUVFA5otq0jfOwbN97dRnVjMjlfaHm/dvTqPPLYQO1bR7d1j0abt6B7D+CiCF2bbe16YXdojB8eKf/DNjZyDUMHtqwyY/hYejbW8Uaz1dN7Xty87whZV4+FTfU0nPIDxKj5bT2Rrw4lo9nMmWjfoWTsr+ft00n1kiRJp9AxdAGSpHPA7mqWPbSQZS/VEdt/dHOfj9VnPVX0YfRnj9keTaL7x+kXiP1nPZBG9+gxOz6bdMqaI5+OAPW8vRsG9jhZyzjxBkhsGkfK4uN6ofFd4KTHS5IknZqhXJLOd4lq5o+YRsOMVTx33wB6dobDC6CN+3j99kgjm2oS+4/ZHmtkBx8v8Cf9QxqQYF+ClkP67zZSBYw8ybGJvySANHomneosUaI9YeANFaz8avJxeyPHfiEgSZL0N3D6uiSd77a+Qtn+oYz86geBHDiwj+ZLoUUv7gt7Euxrti2xr/XF0v73g3utL85gaPJ2Kl5tuSha/LcbqWQUAy/9GDV/PoNc1rGpuuWibtteXU8ieQD9mo1gN7zbvM4ENa+sg2FppJ9yMcck+g1IpvbVbeyLRol2++AVAaJEXAxSkiSdAYZySTrfpWWQyyaWP7GObTtj7Hh1NXPHFbK2WZM+A0fSc2spJT/aTmxvjB0vL2TCrHUt++kcpScvsuk3MWJ7E9ChL/lzR7GteCZzy7cT2xun4dWF3DTvFbLvm0nuxxlp7jaKwtuTKbt1MgtebSS+N8a28nnMWhgnv2QKGc2abpw3lQUv1xPb20jtmmLm/wjy80dzyoFyIGPsbHJen0fBvHVs2x0nvrueyoWTGTx5KdtOa2V6SZKkkzOUS9L5rtsoHnhuLn1eLeW6nGzGLKxnwINLmHYhbNtx5NFlmVN46sGx7FuUx+CsHCb8JMKckikt++k7lnlfj1JWkM1VT28HIHrtw/xmzWj2PTGZwVlZjLijmn7zK3hqYhofV8b0Cn45P4OqO3Lpn5XNhCf2kbdmI8VXtlz8bdoP7iJaPpMvZeUw5uEdZP9wI8XDTnMZux6jeOrfysiLr2BCdhb9s8expHEkT62cQcbHXglPkiQJLmhqamoKXYQkSZIkSecjR8olSZIkSQrEUC5JkiRJUiCGckmSJEmSAjGUS5IkSZIUiKFckiRJkqRADOWSJEmSJAViKJckSZIkKRBDuSRJkiRJgRjKJUmSJEkKxFAuSZIkSVIghnJJkiRJkgIxlEuSJEmSFIihXJIkSZKkQAzlkiRJkiQFYiiXJEmSJCmQjm15srfrd7bl6SRJkiRJCiY9rdcp21zQ1NTU1Aa1SJIkSZKkYzh9XZIkSZKkQAzlkiRJkiQFYiiXJEmSJCkQQ7kkSZIkSYEYyiVJkiRJCsRQLkmSJElSIIZySZIkSZICMZRLkiRJkhSIoVySJEmSpEAM5ZIkSZIkBWIol04g8dYGSqbn0j81nZTULEZMX0pVLHRV0tlQR0lqOiWbT9YmRuWTC1m7NfGRe68tTSeltO5vrk6SJKk9M5RLrWlcx/Qxd1Fz6Vyeq6phS+UScvcsZeKEpWw7FLo4KYQ4O9YtZXl1Y+hCJEmS2hVDudSK2nXFVF46l0eKhtGnR5Ror6HMuX8uGfVL2fj70NVJIaQx7Zdv88ub00IXIkmS1K4YyqXjxOHiKRTePIyezTdfnEw/EiQcKVd7taeOZR/cspE1jvnl9RydrH54intB+ZF7ODaXkpJaSsWmUsZkNZuefihG1eJpDM5MJyUzm4LF1TT8NcBnkSRJ+oQwlEvHiTLw60XMGZnccnP9dqoYxcBLw1QlnW3Lvn0/8esf5Vc1lTw3uw9Vd+Rx5wvxkxyxmnsWx8l7sIw1X0sDEtQumszEJyF/ZSVbfv0sU/+6kDufaqtPIEmS9MnTMXQB0ifCoXrK7l1I5PYKcqOhi5HOjtyS5cwZfvgPPGnifIp3rGdi+Yt859qxJLV6xNV8d3kJed2OvI2/RNniRvKfqqBwUASA7KJVPLa7HwVt8QEkSZI+gRwpl04pQe1DM5kfn8EDBX1DFyOdNT0vbv6NU4Ssq8fCpnoaTnwEPbs1e/tWLRUMZWBGpEU/Xbsde5wkSZI+YCiXTqGhvJAJa3pSurKIgZFTt5fai8inI0A9b+/+KEel0bP1YXVJkiS1wlAunURD+TRGFEPxL5YxPvnU7aX2JPGXBB89ZL/Heye7DV2SJEktGMqlE0hsLqXgjgbyVy4xkOu80PBu8zSdoOaVdTAsjfQOp9nBpQPJ4yWqaxPNNibYt/cMFilJktTOGMql1jSuY/pNK4jOvZ9paQnie+NHX/HEqY+XPoE2zpvKgpfrie1tpHZNMfN/BPn5o0+wyFsroleTf2syZbcWsmRzI/Hd9VQunMz0dWezakmSpE82V1+XWhH77UtU7gdKxzG49Jidw0p47akTrUYtfXJN+8FdRMtn8qVp9cS7DSD/hxspHvZRFlKIMPC2VazpOI9ZN+WwgCRybl7AAwX5zDprVUuSJH2yXdDU1NQUughJkiRJks5HTl+XJEmSJCkQQ7kkSZIkSYEYyiVJkiRJCsRQLkmSJElSIIZySZIkSZICMZRLkiRJkhSIoVySJEmSpEAM5ZIkSZIkBWIolyRJkiQpEEO5JEmSJEmBGMolSZIkSQrEUC5JkiRJUiCGckmSJEmSAjGUS5IkSZIUiKFckiRJkqRAOrblyd6u39mWp5MkSZIkKZj0tF6nbHNBU1NTUxvUIkmSJEmSjuH0dUmSJEmSAjGUS5IkSZIUiKFckiRJkqRADOWSJEmSJAViKJckSZIkKRBDuSRJkiRJgRjKJUmSJEkKxFAuSZIkSVIghnJJkiRJkgIxlEuSJEmSFIihXJIkSZKkQAzl0gkk3tpAybRsPp+aTkpmNmPmrKY2HroqSZIkSe2JoVxqze4NTB9zFzV9F/DLmhq2PP8oOfFSxty0mobQtUnnpBhrC9IpKI+FLkSSJOkTxVAutWLbzx6mMnUuDxQNpWe3KNFeAyicO5eMunVU1oeuTpIkSVJ7YSiXWpHxjQq2rBpLn+P2xIknAhQknW2HYlQ9OZsxWemkpPZj8Lhi1r7V/I89wY7yYsZk9yMlNZ3+I2ayrO7I/RybS0lJzWbuJqi8I5uU1Gms3R3kU0iSJH3iGMql1nSOEo1Gjr5P1FOxeAU7hs9mfN9wZUlnR4LahyYzcd2nGPd0FVtqNvLI0G3MH1NIxZFwveNHkxlR3EjeE5Vsqalk5dcOsmDMVMp2AgOK2FJTQfFQyJ5fwZaaBXwlKegHkiRJ+sQwlEsnESufRkpqOin/mMusXZN4fskozBpqd3avZ8mTCeY8XML4zCSi3ZLJLnqU4i9sYsHPtgP1VL2SIK+khPwj+wfeXEA+dWx6PQYdIkS7JRGJQOTCJKLdokQ6hP5QkiRJnwwdQxcgncuSRi1gy3BI/FctZXcVcl1hlF8+PpaeBg61I4k/bKeSkUxtMQskifFPvc34I+/yn6ogv/nuDp9qs/okSZLaM0fKpZOJRIl2i5KUNow5i+aT/XIxq+pCFyWdWfE/NwLwqZN92RTfTkXpTEZkpR+ePZI6jmVtU54kSVK7ZiiXWpGIx4kfOGZjjz70IcGOd3zkk9qX6OeSAfjfQydq0UjZTXksSeTy2MY3+NMf3+ZPf6yidFiblShJktRuGcqlVtQsykXipNYAAB8HSURBVKL/HRuIN9+4ewc7iJCR5l3lal8in+9LDi9Su7351jgb786jYE097K5mUx3kfHkUfZKOLIB4KE58z/F9Jf7q4wkkSZI+CkO51IqsL8+gzwt3MeuxOhr2xonvrGPJ3cVUDZ1L3uWhq5POsB6jKbw5woLZ81i7NUZ8byO1j81h1s+7M/LqNEjKYGAylD2xlKr6GA1bN7DkpnGUbG3eSYSuUah6aRM79sZ8dKAkSdJpuqCpqakpdBHSuSi+fR0L7l3I2s0xEhcmMfArRTxw11j6dA5dmXQWHIpRtfRe5j/9Ejv2RkgaPonv3F5E3qVHRsZ3bmD+7fezdnMMegyj8MEZJP1oHHN7lfGnfxkKQGL7Cgoml1K1dxiP/G4ZeU4qkSRJOiVDuSRJkiRJgTh9XZIkSZKkQAzlkiRJkiQFYiiXJEmSJCkQQ7kkSZIkSYEYyiVJkiRJCsRQLkmSJElSIIZySZIkSZICMZRLkiRJkhSIoVySJEmSpEAM5ZIkSZIkBWIolyRJkiQpEEO5JEmSJEmBGMolSZIkSQrEUC5JkiRJUiAd2/Jkb9fvbMvTSZIkSZIUTHpar1O2uaCpqampDWqRJEmSJEnHcPq6JEmSJEmBGMolSZIkSQrEUC5JkiRJUiCGckmSJEmSAjGUS5IkSZIUiKFckiRJkqRADOWSJEmSJAViKJckSZIkKRBDuSRJkiRJgRjKJUmSJEkKxFAuSZIkSVIghnLpdGxfyojUdArKY6ErkdpMbWk6KaV1ocuQJElq1wzl0qkcqqfs7oXsCF2HJEmSpHbHUC6dQsO6UuZ3ncK0YaErkSRJktTeGMqlk9n7Egu+38Ccb08iLXQt0tl0KEbV4mkMzkwnJTObgsXVNPz12EYJdpQXMya7Hymp/Rg8rpiKnS1bxKqXMn1EFimp6fQfMZNldfGj+8qnkVKwgso1sxmc6e0gkiRJYCiXTiJB5cOzqZ14P9P6RkIXI51FCWoXTWbik5C/spItv36WqX9dyJ1PtWzVUF7IdcXbyH5wI1tqNvJARjWzrium8sCRXjaXMmHierresorXaqp4ZtJBFoyZSll9s05eX8idL/bhO4+VUXhFtM0+oSRJ0rmqY+gCpHNVonoh838+luLfDSCCI3pqx+KvULa4kfynKigcdPgLqOyiVTy2ux8FH7Z5iUeLN5FTUsOcKw+H6Zx/eZg5L+ex6oUZ5Fwfp+yuFSSKKii9vi8ASd9YwAOvZ3Hnujry5w443E+3GaxcOYOMDm38GSVJks5RjpRLrTm0nWX3rKbPd2eQ0zl0MdJZ9lYtFQxlYEbzGSERunZr2Wbt/mHkNh/d7pBGxtVQuaMRdtdSXR8h78q+zQ6KkvGFviTe2nH0a60+SXQ3kEuSJH3IkXKpFTtW38uCnvP59eik0KVIbSSNnif5c4/viQObmDUknVnH7hzeSCwep4EElWPSWXLs/gsbaQB6nslyJUmS2glDuXScOp4trgPq+GL6vJa7NmWTcscwSquWMb5HkOKks+Q93osDJ7jNO3pRFJjEY78rIvvY/3N0iBA9sJ6eDGBcxXLGJx97dIQoeBOIJElSKwzl0nEGMKemhsIW2xr5eWEeL15TwWOjk4m4PpXak0sHksdsqmsT5A77YAp7gn17gQ+msKdlkMvD1O6YS+7QZtPc43HiF0bgwgwGJs+jelucaZnNUvmBOPGICyVKkiSdiPeUS62IdIsSbfFKIhKByIVJRLtFiXhPrNqT6NXk35pM2a2FLNncSHx3PZULJzN9XbM23a5h2q0Rlt08mQWvNhLfG6dh82rmjsnmnhdj0KEv44uGUTVvKnPLtxPbGydWv4kFN2Yz4cntJIJ9OEmSpHOboVySznsRBt62ijU3Q9lNOfQfMZlVHYt4oOCYNkUV/HJ+BlV35NI/K4sRt71C9LYKHrj28M3oSV9dxm/WjGbfE5MZnJXF4HFLafjSMlbe3BfHyiVJklp3QVNTU1PoIiRJkiRJOh85Ui5JkiRJUiCGckmSJEmSAjGUS5IkSZIUiKFckiRJkqRADOWSJEmSJAViKJckSZIkKRBDuSRJkiRJgRjKJUmSJEkKxFAuSZIkSVIghnJJkiRJkgIxlEuSJEmSFIihXJIkSZKkQAzlkiRJkiQFYiiXJEmSJCkQQ7kkSZIkSYF0bMuTvV2/sy1PJ0mSJElSMOlpvU7Z5oKmpqamNqhFkiRJkiQdw+nrkiRJkiQFYiiXJEmSJCkQQ7kkSZIkSYEYyiVJkiRJCsRQLkmSJElSIIZySZIkSZICMZRLkiRJkhSIoVySJEmSpEAM5ZIkSZIkBWIolyRJkiQpEEO5JEmSJEmBGMqlE9lcSkpq+nGvgvJY6MqkNlFbmk5KaV3oMiRJktq1jqELkM5VsXfqIXMKj9x+NUnNtn+qdzRYTZIkSZLaF0O5dAL79r8HF11D9pVDW4RySZIkSTpTnL4unUD83e1waR8Duc4Ph2JULZ7G4Mx0UjKzKVhcTcNfj22UYEd5MWOy+5GSmk7/ETNZUn3M7RyHGqm4e1yLfiq+5zR4SZKkEzGUS62K895u4PWFFDQLIMvq4qELk86CBLWLJjPxSchfWcmWXz/L1L8u5M6nWrba9lgeI4q3kf3gRrbUVPHMLV2pmDiZks2JD/upun8ys37e9aT9SJIk6ShDudSqBHRIIunCK8h78Fmer1jGnIH1lIyZSll96NqkMyz+CmWLG8lfvITCQclEuyWTXbSKx8Y2a7N3A0seaiR/8SrmXJlMtFsSGdeX8EhRgmWzV7ANYPd6lj8VO3k/kiRJasF7yqVWJZG7oIrcD9/3JaOkJ4k/5FKyro78uQMC1iadYW/VUsFQHsmINNsYoWu3Zm//sI2NXMNjAyMtDs0YPpaeC+t4YzdkNNZTeap+JEmS1IIj5dLp6pBG1lBIvLUDH4qm9ieNnidZQCH2n/VAd7of+/CBzybR58iPib8kTtmPJEmSWjKUS605lCC+N07iUOhCpLbyHu+dZMmEpH9IAxLsSxyz491Gqo78GPl05JT9SJIkqSVDudSa2HpmZU0+5v7xRt54HSKuyK725tKB5PES1bXNE3eCfXubvf18BrmsY1N1y1S+7dX1JJIH0K/HafYjSZKkFgzlUmt6jGTc6HoWzC6loj5GfG8jVQtnU1I3gHljvZ9c7Uz0avJvTabs1kKWbG4kvrueyoWTmb6uWZtuoyi8PZmyWyez4NVG4ntjbCufx6yFcfJLppBxuv1IkiSphQuampqaQhchnZMOxahaei/zn36JHXsjJA0ay5zvzWX8pZFTHyt90hyKUbV0HrOe3ESMJHJuXkDevnxmdXyWP324sGGCHeWl3PnwOmp3J4imXcO0795L4dBmc0cONbLx3tnc8/O6k/QjSZKkDxjKJUlnziGgQ/MN9ZTl5bI8t4JfT+8bqChJkqRzl9PXJUlnSIyKb2UzcfEmduyOH5m+fhclfxzGnK8ayCVJklrjSLkk6cyJVbOsdCHLXqojtt/bPiRJkk7FUC5JkiRJUiBOX5ckSZIkKRBDuSRJkiRJgRjKJUmSJEkKxFAuSZIkSVIghnJJkiRJkgIxlEuSJEmSFIihXJIkSZKkQAzlkiRJkiQFYiiXJEmSJCkQQ7kkSZIkSYEYyiVJkiRJCqRjW57s7fqdbXk6SZIkSZKCSU/rdco2FzQ1NTW1QS2SJEmSJOkYTl+XJEmSJCkQQ7kkSZIkSYEYyiVJkiRJCsRQLkmSJElSIIZySZIkSZICMZRLkiRJkhSIoVySJEmSpEAM5ZIkSZIkBWIolyRJkiQpEEO5JEmSJEmBGMolSZIkSQrEUC6dzKE42zaUMv26bD6fOo21u0MXJJ09DRuKGZPdj5TUdEo2h65GkiTp/NAxdAHSOetQI2u/mcvcd65m3m3LmXdlMt2joYuSzpKdq5n1rXV0vX0Vv/56Ml0joQuSJEk6PxjKpRPY9uRU5r4ziecq5jKwc+hqpLMs1kgtQyn96gB6dgtdjCRJ0vnD6etSaw7VUbG0kfz5RQZytXu1pemkjFsBbGJudjopBeuIAbHyaaQUrKByzWwGZ6ZTUB47fMCBetbePY7BmemkpGYxYvpSqmLHdLpzA/PHZfP51HQ+nz2NJdUbKHFavCRJ0nEM5VJr3qxm4/6rSd67goIj99j2H1PM2rcSoSuTzriBt9WwZdkkYCjFz9ew5ZHRJH2w8/WF3PliH77zWBmFV0Th0HaW5OUy/82hPPJ8DVuqVjE1up6JE0qpPXDkmAPVlEyezdquk3imsobXflxAYuFdLAvz8SRJks5phnKpFYn3YjTwEiWLGhn5RCVbqiqY16eauWPuYuPe0NVJZ1jnKNGuESBC5LNRotFmN5R3m8HKlTPIu3IoA5MjxF94lAW7J/HY00Vk94oS7dGX8SUPMyexglk/2g5A7IWnWLZ3Eo/9cAYDe0WJ9hrKnKeXMD7Mp5MkSTqnGcqlVsT/3AgMo3RlCeMzk44Gj24bWPZCY+jypLbTJ4nuHY6+fWPLSzB8KFnNb+vo0JecG5JpeH0bMaBhxya4YiD9mrfp3BXXSZQkSTqeoVw6oTTSk5u97ZBGxtVQ23DszbPS+SJGwx+BHknHBezuSX2O/JRg334gLfnoFHhJkiSdkKFcakXSP6QBCfZ5C7nUTBI9U4H9+zj20mhoqD7yU4SuFwK7Y8TbtjhJkqRPJEO51JqMgeSxjk3VzaLHoXq2vQI5fZJPfJzUzvXrfw38/BWqDjTbeGg7VT9L0PMLGSQBfS4fBS9XU9O8zYF9hnRJkqRWGMql1kSvYdrtyZTdWsiSzY3Ed29n7bzZLNg7icnXOilX56/otTOZ02M1029cSNXO+NFrY/8kSr/R93Cb4ZMp7LGa6d9aSu3OOLH6TSy4sZC1gWuXJEk6FxnKpRPIuPlZnpvbhcpbcuifPY4F/zWaNf82nxyfW67zWYe+FFZspPiyamZdl0X/7Mksj49mzcb5ZH9wbUQGMGflo4zft5oJOVlcNXkNkaL7mRa0cEmSpHPTBU1NTU2hi5AktTOHgGartlO/mutGrCD3+UoK+4YqSpIk6dzjSLkk6cyKbWD6Vfksebme2N4j09fvKmXH8NmMN5BLkiS14Ei5JOmMi1Wv4PsLV7Bxc4zEhUkM/EoRD9w1lj7e/iFJktSCoVySJEmSpECcvi5JkiRJUiCGckmSJEmSAjGUS5IkSZIUiKFckiRJkqRADOWSJEmSJAViKJckSZIkKRBDuSRJkiRJgRjKJUmSJEkKxFAuSZIkSVIghnJJkiRJkgIxlEuSJEmSFEjHtjzZ2/U72/J0kiRJkiQFk57W65RtLmhqampqg1okSZIkSdIxnL4uSZIkSVIghnJJkiRJkgIxlEuSJEmSFIihXJIkSZKkQAzlkiRJkiQFYiiXJEmSJCkQQ7kkSZIkSYEYyiVJkiRJCsRQLkmSJElSIIZySZIkSZICMZRLkiRJkhSIoVw6Toy1BemkpJ7gVbCOWOgSpTNp9zoKUtMp2Ry6EEmSpPNPx9AFSOeeJL7ySA3/fOjY7fWU3TCOyuFDSQpRliRJkqR2x1AutSISjRI5duPWap79z1HMuzY5REmSJEmS2iGnr0unJUHVT5fCzVPJ7Ra6Fuks2VfP2rvH0T81nZSsXGatqSfRfP+Bw/sHZ6aTkprFiOlLqWp+L8fmUlJSS6nYVMqYrHRSSusOb4/XUTbnSL+tHQfEqpcyfUQWKanp9B8xk2V18bP8YSVJks4NhnLpdOxcx4If9WXq6L6hK5HOmrI77qJ+8P38qqaS56b2ZOPdU1m29cjOQ9tZkpfL/DeH8sjzNWypWsXU6HomTiil9kDzXlZzz+I4eQ+WseZraUAjZTeNoyQ+mmeqathSuZy8vy5l4oSlbDtyi0hicykTJq6n6y2reK2mimcmHWTBmKmU1bft55ckSQrB6evSadi2fgW1185mZa/QlUhnT869y5k3KgpA0vQiCn+cR+2bMchMIv7CoyzYPYmnKorI7gzQl/ElDxPLyWPWj0bz6+kffGF1Nd9dXkLeBzNKdr/IpjrIf3YSGT0ABlB43xIiP24ksR+I1lN21woSRRWUXn+4j6RvLOCB17O4c10d+XMHtOnvQJIkqa05Ui6dSqKaZ5+Mkf/1a4iGrkU6i3pe3PwvPImkPkffvbHlJRg+lKzOzZp06EvODck0vL6t2RMJetKz+S0ePYYybACUPVjK2s2NxBNAj2FMK5rEwCiwu5bq+gh5VzafhRIl4wt9Sby1wycdSJKkds+RcukU4i+tpqzbDJ4fetzSb9J5IkbDH4FLk477Yqp78+TeqmTyV22k66KHWXJLDnP3RkgaPokH/mUuOb2AeJwGElSOSWfJsYde2EgD+LQDSZLUrhnKpZM5VM/Pn36JgbfcRUaH0MVIoSTRMxXYv48EtHgyQUNDNXDNyQ/vnEbe3EfJmwuJWD0bl86k4Lo4j/17CbnRKD0ZwLiK5Yw/7sEGEWenSJKkds/p69JJJKpXU1J3Dfk+Bk3nuX79r4Gfv0JV80XdDm2n6mcJen4h44Sj2YnNC7kubyFVR5ZxjySlkXfLFHL2r6P2LSApg4HJdVRvixPtFj36isDh/0iSJLVvhnLphOJs/Mlq+MYkH4Om81702pnM6bGa6TcupGpnnPju7aydN5sF+ydR+o0TP5Ug0ncAWX9cyvx71rFtd5z47noqnlhB5YWTGJYJdOjL+KJhVM2bytzy7cT2xonVb2LBjdlMeHJ7y0eySZIktUOGculE6tdT9kIyhV8biuN1Ou916EthxUaKL6tm1nVZ9M+ezPL4aNZsnH9kNfYT6DyM4n8rIy++ggnZWfTPHseS3cN46vn5ZB+5sJK+uozfrBnNvicmMzgri8HjltLwpWWsvLmv154kSWr3LmhqamoKXYQkSZIkSecjR8olSZIkSQrEUC5JkiRJUiCGckmSJEmSAjGUS5IkSZIUiKFckiRJkqRADOWSJEmSJAViKJckSZIkKRBDuSRJkiRJgRjKJUmSJEkKxFAuSZIkSVIghnJJkiRJkgIxlEuSJEmSFIihXJIkSZKkQAzlkiRJkiQFYiiXJEmSJCmQjm15srfrd7bl6SRJkiRJCiY9rdcp21zQ1NTU1Aa1SJIkSZKkYzh9XZIkSZKkQAzlkiRJkiQFYiiXJEmSJCkQQ7kkSZIkSYEYyiVJkiRJCsRQLkmSJElSIIZySZIkSZICMZRLkiRJkhSIoVySJEmSpEAM5ZIkSZIkBWIolyRJkiQpEEO5dCKxapZMz6V/ajopqVmMmL6UqljooqQQ6ihJTaeg/CQXwO5NLFu4jm0H2q4qSZKk9sBQ/v+3d/+xVdf7HcdfBpKTYFbDEghmEoW25o7KNS33utDcZCXuKllQliCYi5XkgtVdLpt4id7eLrHpvXe91YXBtJeby695i3iHyB9OYnDEtbtZitulNNwNsqutV0L/IDYL4SSaNZF0fyhYXSsuAt9SH4//zreffr/vk5z+8TzfH4XxjPRn8+o16fzg3vx9d1+Od+/M8g+25YHV23LifNHDwSRUHsyLz+5K71DRgwAAXFtEOYznZE92DC5OW+v61N1ckYqba7OhtTX1g9ty6DdFDweT0K3rcvjtQ2m6tehBAACuLaIcJlRKpo95OT0pFTYLXGHl/nRtWvXZt2t8MJTeZ5tyx8LqzFtYnxUdPRm+cOXI0Y7Mm9+UfWfGvu7Iy0e2ZW39bZk3vzq3r2jLvjdHruKbAgCY/EQ5jOerd2dDZU92Pnck5fNJzpfT+9yudFeuz9KvFj0cXG5D6fr2qrSX780LvRPfrtH719/NntL6HPhVbw63353y9qY8+Wr5M/a7K0/uLWXDL3tzvLsra6btT/OKjnS77xwA4KLpl14CX0LTFmTDCz/N0LI1uX37R9tuXZe9L65PzbRCJ4PL78yR9PQna15sTM2cJKnNhh91pvTLoYy8l6Tiw2WzH96Znz284MMX9zyWTa8/n++cGEzuqZ1gx43Zunld6kpJsjibnutM+Y+asufV9Vly36wr/a4AAK4JzpTDeM4PZV/L99LX0J6DvX053v1iWqr2Z+0T+3Pag96YauYsTkNt0vV0R/YdHUp5JMmchjQ91pi6io+XVd04NqQrMnvOpXZcyg1j7/mYUZfFdybdA54GBwBwgSiHcZRf+9s0v7EybT9cmZo5Hz7orWlzZ+5/oyWbX/usy3XhWnRT1uw5lKfqTmfnI0ty+x/eljuaOtJ96nIf56OQf+9c3FkOAPAhUQ7jGPjNK8nXF6R67Fm+UlUWfD059NvBwuaCK2ZGZZY3/zSH+97Kf/3by/mrm3qydllLDl3W76CGc3owyfU3eGgiAMBHRDmMY25VQzIwnHfHXqp+fiiDv07qb7mpsLngShg5uiXLlm9J70enr0uzKrP8kXVZ8t7+HHvzC+0558aeEn//RI69kSyp8jcEAHCBKIdxzLpzZZaf3ZKNLftz4kw55TMns6/lB9mRe7KqwQOqmFpKC2qz6O1taX3ywud9MC//fFe6r29Mw8Ivsufn0/7k8zl2qpzyqf50ProhXWnMg3/qbwgA4AJPX4fxzLwrWw93pbOtLavrW1JORaruXpe9h9enfmbRw8FlNqMhbf/clc4nx37eV2b3webUf6HrzNdlw5+V0/mt+nSfGUlFbWO2HmzNkhmXa3AAgGvfdaOjo6NFDwHAFHO0I/NWJQfebk5d0bMAAExiLl8HAACAgohyAAAAKIjL1wEAAKAgzpQDAABAQUQ5AAAAFESUAwAAQEFEOQAAABRElAMAAEBBRDkAAAAURJQDAABAQUQ5AAAAFESUAwAAQEFEOQAAABRElAMAAEBBpl/Ng701eOpqHg4AAAAKU1158yXXXDc6Ojp6FWYBAAAAPsXl6wAAAFAQUQ4AAAAFEeUAAABQEFEOAAAABRHlAAAAUBBRDgAAAAUR5QAAAFAQUQ4AAAAFEeUAAABQEFEOAAAABRHlAAAAUBBRDhMZPpLOpvp8ZX515i1amu9s70/5fNFDwbVv+KWmzFu7P8NFDwIAMAmIchjP+/1pX70mL//+YznQ25df/fzejDy7Kiu2nyx6MrgihDIAQDFEOYxj+NVt2THyWLa2r0zNnIrM/dr6/OzZxpz+m505VC56OgAAYKoQ5TCO0wM9yR8vSNW0j7eV6hZnaV7JsTeLmwsuv/60z6/OHU/0JD0tuWN+dda+NJxkOPvWVmft7p50bazPV+Y3Zd+Z5FhH9f89o360I/Pmd+TYxQ0jGXilI2vrb8u8+dW5/ZvfTeeRzzgHP7Q/axdW55sd/Rm5Um8TAGCSEuXweVXMyuwkA6dd4MtUUptNfX052Lo4Wdyag3192XrPrIs/7d3Sktcqf5DdXetTP/Pz7fH0SxuyrOVYap4+lON9vXnhkRvy8gMPZnP/OMn9fn/av92S0w905cDjtSldpncFAHCtmF70ADAZza1qSJ45mYHzDam5cLZ8aCADSeJhb0wxpZkVmX19KSmVMntmRSrG/Gz2wzuz9y8WXHx9ya+kzvdnT1tPlrT3ZdM3PtxTzX3teWrgtqz4xb+kqfauMWuHsu/RB9N1S3sOP744FdMm2CcAwBTmTDmMY9adK7P87JZsbNmfE2fKOX30+TT/eVt6k1T9waxL/j5MFVU3/j8/7++cSO97i9NQW/GJzXXN/5nfbb3rE8Hft/2hNP+2Mbv/bmXmCnIA4EtKlMN4Zt6Vpw60p36gI8vqF2XZTwZT+6Of5P7clIobih4OJrGzQzmR0qWvw/p1WzrfqcuSoZ4ce+eqTAYAMCmJcphA6daVaTvQl9+9/VaOH2jN/dNPpzsNqaksejKYxGbelJqMJB9cal1jWlrb09Y+N5sf7cix96/KdAAAk44oh8/j/FD2PbMtefje1HsSFVPVSPI/l1hSceOC5L9Hcm7sr50b838Cb6lJ/fVH0tP/yf8deGL3miz7cU8ubq2qTPWMZO7K5rRV7Mr3n/HkdQDgy0mUw0TOj6R8dignXt+f9m8tTfM7jdn6l54OzdRUmvF7yZF/Sveb5QyXJ87jqrq7M/c/OtL+i5MZPjucgde3ZPXG/R8vmFabB1sb0t3yUDb/61DKZ4cz8EpbNv743dQvXZyKT+9wWmXWPN2aiu3fy+YjshwA+PIR5TCR4X/MxkVLsrrjlbz7Jzvy74eaUzej6KHgyqi486G0fONYWpcuyvdfL0+8cOG67H56Zc49szx3LFqS1f9Qyqb2dZ9YMve+zhxsrUnvE0tz+6L6rHjuXFbt3ZOWr03wlVZlY374eCk7Hu5I92ccGgBgKrpudHR0tOghAAAA4MvImXIAAAAoiCgHAACAgohyAAAAKIgoBwAAgIKIcgAAACiIKAcAAICCiHIAAAAoiCgHAACAgohyAAAAKIgoBwAAgIKIcgAAACiIKAcAAICCiHIAAAAoiCgHAACAgohyAAAAKMj0q3mwtwZPXc3DAQAAQGGqK2++5JrrRkdHR6/CLAAAAMCnuHwdAAAACiLKAQAAoCCiHAAAAAoiygEAAKAgohwAAAAKIsoBAACgIKIcAAAACiLKAQAAoCCiHAAAAAoiygEAAKAgohwAAAAK8r9mUO9edgA6lgAAAABJRU5ErkJggg==)"
      ],
      "metadata": {
        "id": "ATuu2w_SNuCU"
      }
    },
    {
      "cell_type": "code",
      "source": [
        "\"\"\"\n",
        "Lets first start with the CNN model discussed in the class for digit\n",
        " classification. Notice that I have changed the input shape for this usecase.\n",
        " Earlier it was (28,28,1) for the digit dataset.\n",
        "\"\"\""
      ],
      "metadata": {
        "id": "w1yCGBaMSz5Q",
        "colab": {
          "base_uri": "https://localhost:8080/",
          "height": 52
        },
        "outputId": "5e0be4ab-c196-4853-8906-322214984f46"
      },
      "execution_count": null,
      "outputs": [
        {
          "output_type": "execute_result",
          "data": {
            "text/plain": [
              "'\\nLets first start with the CNN model discussed in the class for digit\\n classification. Notice that I have changed the input shape for this usecase.\\n Earlier it was (28,28,1) for the digit dataset.\\n'"
            ],
            "application/vnd.google.colaboratory.intrinsic+json": {
              "type": "string"
            }
          },
          "metadata": {},
          "execution_count": 60
        }
      ]
    },
    {
      "cell_type": "code",
      "source": [
        "# model initialization\n",
        "cnn_model = tf.keras.Sequential()\n",
        "\n",
        "# adding the 1st layer of CNN\n",
        "cnn_model.add(tf.keras.layers.Conv2D(26, (5,5), activation = 'relu', input_shape=(32,32,3)))\n",
        "\n",
        "# adding a maxpooling\n",
        "cnn_model.add(tf.keras.layers.MaxPooling2D((2,2)))\n",
        "\n",
        "#adding another CNN layer\n",
        "cnn_model.add(tf.keras.layers.Conv2D(16, (5,5), activation = 'relu'))\n",
        "\n",
        "# adding another maxpooling layer\n",
        "cnn_model.add(tf.keras.layers.MaxPooling2D((2,2)))\n",
        "\n",
        "#flattening the layer\n",
        "cnn_model.add(tf.keras.layers.Flatten())\n",
        "\n",
        "# 20 x 20 x 16\n",
        "#dense layer\n",
        "cnn_model.add(tf.keras.layers.Dense(64, activation='relu'))\n",
        "\n",
        "# final layer \n",
        "cnn_model.add(tf.keras.layers.Dense(10, activation='softmax'))"
      ],
      "metadata": {
        "id": "UNr0XFiKNpnE"
      },
      "execution_count": null,
      "outputs": []
    },
    {
      "cell_type": "code",
      "source": [
        "cnn_model.compile(optimizer = tf.keras.optimizers.Adam(learning_rate=0.001),\n",
        "                  loss = tf.keras.losses.SparseCategoricalCrossentropy(from_logits=False),\n",
        "                  metrics=['accuracy'])"
      ],
      "metadata": {
        "id": "tWoQIGv7N0tY"
      },
      "execution_count": null,
      "outputs": []
    },
    {
      "cell_type": "code",
      "source": [
        "\"\"\"\n",
        "Explain what is Adam optimizer below in atleast 250 words.[ read on web and explain ]\n",
        "\n",
        "Answer: The Adam optimizer is a popular optimization algorithm used in deep learning for training neural networks. \n",
        "It is an extension of the stochastic gradient descent (SGD) optimizer that combines the concepts of adaptive\n",
        " learning rates and momentum(basically I understood from momentum as it takes into account mean(1st moment estimate)\n",
        "  and variance(2nd moment estimate) of the computed gradients.) to achieve efficient and effective optimization.\n",
        "\n",
        "Here's a high-level overview of the Adam optimizer:\n",
        "\n",
        "1)Initialization: Initialize the first and second moment estimates, usually with zero values, for each parameter.\n",
        "2)Compute gradients: Calculate the gradients of the parameters with respect to the loss function using techniques like backpropagation.\n",
        "3)Update first and second moment estimates: Update the first-moment estimate by taking a weighted average of the current gradients\n",
        " and the previous first-moment estimate. Update the second-moment estimate by taking a weighted average of the squared gradients \n",
        " and the previous second-moment estimate.\n",
        "4)Bias correction: Adjust the first and second moment estimates to correct for their initialization bias.\n",
        "5)Update parameters: Update the parameters by taking a step in the direction opposite to the gradients, scaled by the adaptive learning rate.\n",
        "\n",
        "\"\"\""
      ],
      "metadata": {
        "id": "yau4nndbTU4r",
        "colab": {
          "base_uri": "https://localhost:8080/",
          "height": 137
        },
        "outputId": "e3cdbcf1-482f-4a1c-d897-0bc24ea4d3b4"
      },
      "execution_count": null,
      "outputs": [
        {
          "output_type": "execute_result",
          "data": {
            "text/plain": [
              "\"\\nExplain what is Adam optimizer below in atleast 250 words.[ read on web and explain ]\\n\\nAnswer: The Adam optimizer is a popular optimization algorithm used in deep learning for training neural networks. \\nIt is an extension of the stochastic gradient descent (SGD) optimizer that combines the concepts of adaptive\\n learning rates and momentum(basically I understood from momentum as it takes into account mean(1st moment estimate)\\n  and variance(2nd moment estimate) of the computed gradients.) to achieve efficient and effective optimization.\\n\\nHere's a high-level overview of the Adam optimizer:\\n\\n1)Initialization: Initialize the first and second moment estimates, usually with zero values, for each parameter.\\n2)Compute gradients: Calculate the gradients of the parameters with respect to the loss function using techniques like backpropagation.\\n3)Update first and second moment estimates: Update the first-moment estimate by taking a weighted average of the current gradients\\n and the previous first-moment estimate. Update the second-moment estimate by taking a weighted average of the squared gradients \\n and the previous second-moment estimate.\\n4)Bias correction: Adjust the first and second moment estimates to correct for their initialization bias.\\n5)Update parameters: Update the parameters by taking a step in the direction opposite to the gradients, scaled by the adaptive learning rate.\\n\\n\""
            ],
            "application/vnd.google.colaboratory.intrinsic+json": {
              "type": "string"
            }
          },
          "metadata": {},
          "execution_count": 63
        }
      ]
    },
    {
      "cell_type": "markdown",
      "source": [
        "### **Make sure that you are connected to GPU runtime other wise the training in next cell is going to take a long time**"
      ],
      "metadata": {
        "id": "x5rLNjUlPKrH"
      }
    },
    {
      "cell_type": "code",
      "source": [
        "history = cnn_model.fit(X_train, Y_train, epochs=10, validation_split=0.2)"
      ],
      "metadata": {
        "id": "9RPCnjevN3W7",
        "colab": {
          "base_uri": "https://localhost:8080/"
        },
        "outputId": "9502701a-31ca-4993-bf41-37f9010b2a36"
      },
      "execution_count": null,
      "outputs": [
        {
          "output_type": "stream",
          "name": "stdout",
          "text": [
            "Epoch 1/10\n",
            "875/875 [==============================] - 5s 4ms/step - loss: 2.5204 - accuracy: 0.0970 - val_loss: 2.3029 - val_accuracy: 0.0957\n",
            "Epoch 2/10\n",
            "875/875 [==============================] - 4s 5ms/step - loss: 2.3025 - accuracy: 0.0994 - val_loss: 2.3033 - val_accuracy: 0.0954\n",
            "Epoch 3/10\n",
            "875/875 [==============================] - 4s 4ms/step - loss: 2.3025 - accuracy: 0.1026 - val_loss: 2.3029 - val_accuracy: 0.0993\n",
            "Epoch 4/10\n",
            "875/875 [==============================] - 4s 4ms/step - loss: 2.3031 - accuracy: 0.0991 - val_loss: 2.3046 - val_accuracy: 0.0956\n",
            "Epoch 5/10\n",
            "875/875 [==============================] - 4s 5ms/step - loss: 2.3027 - accuracy: 0.1008 - val_loss: 2.3028 - val_accuracy: 0.0959\n",
            "Epoch 6/10\n",
            "875/875 [==============================] - 4s 4ms/step - loss: 2.3017 - accuracy: 0.1001 - val_loss: 2.3030 - val_accuracy: 0.0960\n",
            "Epoch 7/10\n",
            "875/875 [==============================] - 4s 4ms/step - loss: 2.3015 - accuracy: 0.1021 - val_loss: 2.3025 - val_accuracy: 0.0963\n",
            "Epoch 8/10\n",
            "875/875 [==============================] - 4s 4ms/step - loss: 2.3012 - accuracy: 0.1011 - val_loss: 2.3063 - val_accuracy: 0.0976\n",
            "Epoch 9/10\n",
            "875/875 [==============================] - 4s 5ms/step - loss: 2.3017 - accuracy: 0.1035 - val_loss: 2.3050 - val_accuracy: 0.0970\n",
            "Epoch 10/10\n",
            "875/875 [==============================] - 4s 4ms/step - loss: 2.3026 - accuracy: 0.1005 - val_loss: 2.3084 - val_accuracy: 0.0970\n"
          ]
        }
      ]
    },
    {
      "cell_type": "code",
      "source": [
        "\"\"\" \n",
        "Write about validation accuracy in 100 words.\n",
        "Answer :\n",
        "We have split our training dataset into 2 parts - one which is used for training(here 80%) and one which is used for validation(here 20%).\n",
        "Validation accuracy represents how accurately model can predict the images of the validation dataset after being trained from trained dataset.\n",
        "basically, it is perecentage of accurate predictions out of total prediction in the validation dataset.\n",
        "\n",
        "\n",
        "\"\"\""
      ],
      "metadata": {
        "id": "XMqr0nejTrrM",
        "colab": {
          "base_uri": "https://localhost:8080/",
          "height": 69
        },
        "outputId": "ef7348d8-205a-4454-dc4e-c1fd5faf682f"
      },
      "execution_count": null,
      "outputs": [
        {
          "output_type": "execute_result",
          "data": {
            "text/plain": [
              "' \\nWrite about validation accuracy in 100 words.\\nAnswer :\\nWe have split our training dataset into 2 parts - one which is used for training(here 80%) and one which is used for validation(here 20%).\\nValidation accuracy represents how accurately model can predict the images of the validation dataset after being trained from trained dataset.\\nbasically, it is perecentage of accurate predictions out of total prediction in the validation dataset.\\n\\n\\n'"
            ],
            "application/vnd.google.colaboratory.intrinsic+json": {
              "type": "string"
            }
          },
          "metadata": {},
          "execution_count": 65
        }
      ]
    },
    {
      "cell_type": "code",
      "source": [
        "plt.plot(history.history['accuracy'],label=\"Train accuracy\")\n",
        "plt.plot(history.history['val_accuracy'], label = \"Validation accuracy\")\n",
        "plt.legend()"
      ],
      "metadata": {
        "id": "2AkZcRmbN6SF",
        "colab": {
          "base_uri": "https://localhost:8080/",
          "height": 447
        },
        "outputId": "63ae2142-d5dd-49e0-b9c3-ad299401ddf8"
      },
      "execution_count": null,
      "outputs": [
        {
          "output_type": "execute_result",
          "data": {
            "text/plain": [
              "<matplotlib.legend.Legend at 0x7fe427957e80>"
            ]
          },
          "metadata": {},
          "execution_count": 66
        },
        {
          "output_type": "display_data",
          "data": {
            "text/plain": [
              "<Figure size 640x480 with 1 Axes>"
            ],
            "image/png": "[encoded data removed]"
          },
          "metadata": {}
        }
      ]
    },
    {
      "cell_type": "code",
      "source": [
        "\"\"\"\n",
        "What do you think is happening? Is the model training or not?\n",
        " You can see that both the training and validation accuracy are\n",
        " just roaming around 0.1. \n",
        " One reason for this can be our model architecture. We had 26 filters\n",
        " in our first layer and 16 filters in our next layer. This funnel down approach\n",
        " works for dense layers but for Conv layers( which are good at feature extraction)\n",
        " we want them to extract more and more features.\n",
        "\n",
        " So lets change that to funne up --> 16 and 32 in the layers respectively\n",
        "\"\"\""
      ],
      "metadata": {
        "id": "xEQ0UpBDTN_9",
        "colab": {
          "base_uri": "https://localhost:8080/",
          "height": 86
        },
        "outputId": "89aab723-c62d-4687-f876-d5ce91bbefd4"
      },
      "execution_count": null,
      "outputs": [
        {
          "output_type": "execute_result",
          "data": {
            "text/plain": [
              "'\\nWhat do you think is happening? Is the model training or not?\\n You can see that both the training and validation accuracy are\\n just roaming around 0.1. \\n One reason for this can be our model architecture. We had 26 filters\\n in our first layer and 16 filters in our next layer. This funnel down approach\\n works for dense layers but for Conv layers( which are good at feature extraction)\\n we want them to extract more and more features.\\n\\n So lets change that to funne up --> 16 and 32 in the layers respectively\\n'"
            ],
            "application/vnd.google.colaboratory.intrinsic+json": {
              "type": "string"
            }
          },
          "metadata": {},
          "execution_count": 67
        }
      ]
    },
    {
      "cell_type": "code",
      "source": [
        "# model initialization\n",
        "cnn_model = tf.keras.Sequential()\n",
        "\n",
        "\"\"\"adding the 1st layer of CNN(Changed)\"\"\"\n",
        "cnn_model.add(tf.keras.layers.Conv2D(16, (5,5), activation = 'relu', input_shape=(32,32,3)))\n",
        "\n",
        "# adding a maxpooling\n",
        "cnn_model.add(tf.keras.layers.MaxPooling2D((2,2)))\n",
        "\n",
        "\"\"\"adding the 2nd layer of CNN(Changed)\"\"\"\n",
        "cnn_model.add(tf.keras.layers.Conv2D(32, (5,5), activation = 'relu'))\n",
        "\n",
        "# adding another maxpooling layer\n",
        "cnn_model.add(tf.keras.layers.MaxPooling2D((2,2)))\n",
        "\n",
        "#flattening the layer\n",
        "cnn_model.add(tf.keras.layers.Flatten())\n",
        "\n",
        "# 20 x 20 x 16\n",
        "#dense layer\n",
        "cnn_model.add(tf.keras.layers.Dense(64, activation='relu'))\n",
        "\n",
        "# final layer \n",
        "cnn_model.add(tf.keras.layers.Dense(10, activation='softmax'))"
      ],
      "metadata": {
        "id": "6HcpdtBuN8_F"
      },
      "execution_count": null,
      "outputs": []
    },
    {
      "cell_type": "code",
      "source": [
        "cnn_model.compile(optimizer = tf.keras.optimizers.Adam(learning_rate=0.001),\n",
        "                  loss = tf.keras.losses.SparseCategoricalCrossentropy(from_logits=True),\n",
        "                  metrics=['accuracy'])"
      ],
      "metadata": {
        "id": "tFXQBRGPRjK6"
      },
      "execution_count": null,
      "outputs": []
    },
    {
      "cell_type": "code",
      "source": [
        "history = cnn_model.fit(X_train, Y_train, epochs=20, validation_split=0.2)"
      ],
      "metadata": {
        "id": "WzC0iaowRmpb",
        "colab": {
          "base_uri": "https://localhost:8080/"
        },
        "outputId": "fcd9f06b-a15b-4240-aeba-3a9d48438f75"
      },
      "execution_count": null,
      "outputs": [
        {
          "output_type": "stream",
          "name": "stdout",
          "text": [
            "Epoch 1/20\n",
            "875/875 [==============================] - 4s 5ms/step - loss: 0.8144 - accuracy: 0.7103 - val_loss: 1.8595 - val_accuracy: 0.5121\n",
            "Epoch 2/20\n",
            "875/875 [==============================] - 4s 4ms/step - loss: 0.8213 - accuracy: 0.7079 - val_loss: 1.9310 - val_accuracy: 0.5019\n",
            "Epoch 3/20\n",
            "875/875 [==============================] - 4s 4ms/step - loss: 0.7777 - accuracy: 0.7234 - val_loss: 2.0520 - val_accuracy: 0.4839\n",
            "Epoch 4/20\n",
            "875/875 [==============================] - 4s 5ms/step - loss: 0.7504 - accuracy: 0.7351 - val_loss: 1.9243 - val_accuracy: 0.5040\n",
            "Epoch 5/20\n",
            "875/875 [==============================] - 4s 4ms/step - loss: 0.7241 - accuracy: 0.7428 - val_loss: 2.0998 - val_accuracy: 0.5031\n",
            "Epoch 6/20\n",
            "875/875 [==============================] - 4s 4ms/step - loss: 0.7085 - accuracy: 0.7486 - val_loss: 2.1875 - val_accuracy: 0.4926\n",
            "Epoch 7/20\n",
            "875/875 [==============================] - 5s 5ms/step - loss: 0.6960 - accuracy: 0.7551 - val_loss: 2.1052 - val_accuracy: 0.5003\n",
            "Epoch 8/20\n",
            "875/875 [==============================] - 4s 4ms/step - loss: 0.6908 - accuracy: 0.7553 - val_loss: 2.4014 - val_accuracy: 0.4983\n",
            "Epoch 9/20\n",
            "875/875 [==============================] - 4s 4ms/step - loss: 0.6604 - accuracy: 0.7660 - val_loss: 2.3855 - val_accuracy: 0.5041\n",
            "Epoch 10/20\n",
            "875/875 [==============================] - 4s 5ms/step - loss: 0.6481 - accuracy: 0.7669 - val_loss: 2.3319 - val_accuracy: 0.4921\n",
            "Epoch 11/20\n",
            "875/875 [==============================] - 4s 5ms/step - loss: 0.6353 - accuracy: 0.7749 - val_loss: 2.5532 - val_accuracy: 0.4869\n",
            "Epoch 12/20\n",
            "875/875 [==============================] - 4s 4ms/step - loss: 0.6152 - accuracy: 0.7812 - val_loss: 2.4976 - val_accuracy: 0.5030\n",
            "Epoch 13/20\n",
            "875/875 [==============================] - 4s 5ms/step - loss: 0.6059 - accuracy: 0.7858 - val_loss: 2.6210 - val_accuracy: 0.4931\n",
            "Epoch 14/20\n",
            "875/875 [==============================] - 4s 4ms/step - loss: 0.5988 - accuracy: 0.7898 - val_loss: 2.7153 - val_accuracy: 0.4939\n",
            "Epoch 15/20\n",
            "875/875 [==============================] - 4s 4ms/step - loss: 0.5854 - accuracy: 0.7928 - val_loss: 2.6623 - val_accuracy: 0.4900\n",
            "Epoch 16/20\n",
            "875/875 [==============================] - 4s 5ms/step - loss: 0.5692 - accuracy: 0.7978 - val_loss: 2.9751 - val_accuracy: 0.4904\n",
            "Epoch 17/20\n",
            "875/875 [==============================] - 4s 4ms/step - loss: 0.5861 - accuracy: 0.7956 - val_loss: 2.6609 - val_accuracy: 0.4831\n",
            "Epoch 18/20\n",
            "875/875 [==============================] - 4s 4ms/step - loss: 0.5559 - accuracy: 0.8038 - val_loss: 2.9119 - val_accuracy: 0.4920\n",
            "Epoch 19/20\n",
            "875/875 [==============================] - 4s 4ms/step - loss: 0.5450 - accuracy: 0.8064 - val_loss: 2.9351 - val_accuracy: 0.4864\n",
            "Epoch 20/20\n",
            "875/875 [==============================] - 4s 5ms/step - loss: 0.5579 - accuracy: 0.8070 - val_loss: 2.9229 - val_accuracy: 0.4846\n"
          ]
        }
      ]
    },
    {
      "cell_type": "code",
      "source": [
        "plt.plot(history.history['accuracy'],label=\"Train accuracy\")\n",
        "plt.plot(history.history['val_accuracy'], label = \"Validation accuracy\")\n",
        "plt.legend()"
      ],
      "metadata": {
        "id": "HdnpcDQoRrGo",
        "colab": {
          "base_uri": "https://localhost:8080/",
          "height": 447
        },
        "outputId": "1fbb346d-ff58-4fc7-8945-dc08fb82b8ef"
      },
      "execution_count": null,
      "outputs": [
        {
          "output_type": "execute_result",
          "data": {
            "text/plain": [
              "<matplotlib.legend.Legend at 0x7fe426dceda0>"
            ]
          },
          "metadata": {},
          "execution_count": 72
        },
        {
          "output_type": "display_data",
          "data": {
            "text/plain": [
              "<Figure size 640x480 with 1 Axes>"
            ],
            "image/png": "[encoded data removed]"
          },
          "metadata": {}
        }
      ]
    },
    {
      "cell_type": "code",
      "source": [
        "\"\"\"\n",
        "Did our model improved??\n",
        "Are we done with the job?\n",
        "What is happening after 5( roughly ) epochs? Why is there a gap between\n",
        "training and validation accuracy?\n",
        "\n",
        "Our training accuracy reached to 0.73( and still increasing ) but \n",
        "the validation accuracy seems to stagnate at 0.52.\n",
        "\n",
        "Is our model overfitting on the training data so much that it can't work well \n",
        "on unseen data.\n",
        "\n",
        "\"\"\""
      ],
      "metadata": {
        "id": "MX4njN_DUwlU",
        "colab": {
          "base_uri": "https://localhost:8080/",
          "height": 69
        },
        "outputId": "44ae5abc-ec2b-4670-9207-828db797ef20"
      },
      "execution_count": null,
      "outputs": [
        {
          "output_type": "execute_result",
          "data": {
            "text/plain": [
              "\"\\nDid our model improved??\\nAre we done with the job?\\nWhat is happening after 5( roughly ) epochs? Why is there a gap between\\ntraining and validation accuracy?\\n\\nOur training accuracy reached to 0.73( and still increasing ) but \\nthe validation accuracy seems to stagnate at 0.52.\\n\\nIs our model overfitting on the training data so much that it can't work well \\non unseen data.\\n\""
            ],
            "application/vnd.google.colaboratory.intrinsic+json": {
              "type": "string"
            }
          },
          "metadata": {},
          "execution_count": 73
        }
      ]
    },
    {
      "cell_type": "markdown",
      "source": [
        "The model is so well fitted by the training set that is it has memorized it so well that it performs poorly on the new unseen data. This is known as overfitting."
      ],
      "metadata": {
        "id": "Jz6dBREFxErH"
      }
    },
    {
      "cell_type": "code",
      "source": [
        "\"\"\"\n",
        "How are we gonna tackel this problem?\n",
        "Well, we will see that in next part of this assignment.\n",
        "Till then lets learn about about overfitting.\n",
        "\"\"\""
      ],
      "metadata": {
        "id": "3l82eHENWI-R",
        "colab": {
          "base_uri": "https://localhost:8080/",
          "height": 35
        },
        "outputId": "9df0ada9-8f19-459e-fe36-b824adc0bc42"
      },
      "execution_count": null,
      "outputs": [
        {
          "output_type": "execute_result",
          "data": {
            "text/plain": [
              "'\\nHow are we gonna tackel this problem?\\nWell, we will see that in next part of this assignment.\\nTill then lets learn about about overfitting.\\n'"
            ],
            "application/vnd.google.colaboratory.intrinsic+json": {
              "type": "string"
            }
          },
          "metadata": {},
          "execution_count": 74
        }
      ]
    },
    {
      "cell_type": "markdown",
      "source": [
        "> **Well using Chatgpt to answer these question is something which everyone can think of right?? To create a difference write answer in your own terms after reading from web or reading the answer of Chatgpt.**\n",
        "### **After all this is your midterm evaluation. Cheating is something we can catch easily** ( we have also done this )"
      ],
      "metadata": {
        "id": "m5PHy4o-XSpQ"
      }
    },
    {
      "cell_type": "code",
      "source": [
        "\"\"\"\n",
        "[CLARIFICATION]: Reading and understanding by searching on Chatgpt is not \n",
        "considered as cheating as long as you are writing that in your own word\n",
        "( only problem is the crediblity of its information)\n",
        "\n",
        "\"\"\""
      ],
      "metadata": {
        "id": "7AzClJq2Z8zI",
        "colab": {
          "base_uri": "https://localhost:8080/",
          "height": 52
        },
        "outputId": "f0af7576-f724-4c38-ff1d-4bf86803b7c2"
      },
      "execution_count": null,
      "outputs": [
        {
          "output_type": "execute_result",
          "data": {
            "text/plain": [
              "'\\n[CLARIFICATION]: Reading and understanding by searching on Chatgpt is not \\nconsidered as cheating as long as you are writing that in your own word\\n( only problem is the crediblity of its information)\\n\\n'"
            ],
            "application/vnd.google.colaboratory.intrinsic+json": {
              "type": "string"
            }
          },
          "metadata": {},
          "execution_count": 88
        }
      ]
    },
    {
      "cell_type": "code",
      "source": [
        "\"\"\"\n",
        "Question: What is overfitting and underfitting below ( atleast 200 words )\n",
        "\n",
        "Answer: Source : Chat gpt, gfg\n",
        "\"\"\""
      ],
      "metadata": {
        "id": "aNTS7DqAWXVl",
        "colab": {
          "base_uri": "https://localhost:8080/",
          "height": 35
        },
        "outputId": "f1606422-0ddc-4503-846f-1da9afe2d5ff"
      },
      "execution_count": null,
      "outputs": [
        {
          "output_type": "execute_result",
          "data": {
            "text/plain": [
              "'\\nQuestion: What is overfitting and underfitting below ( atleast 200 words )\\n\\nAnswer: Source : Chat gpt, gfg\\n'"
            ],
            "application/vnd.google.colaboratory.intrinsic+json": {
              "type": "string"
            }
          },
          "metadata": {},
          "execution_count": 87
        }
      ]
    },
    {
      "cell_type": "markdown",
      "source": [
        "**Overfitting**\n",
        "Overfitting occurs when a model learns to fit the training data too closely, capturing both the patterns and the random variations in the data. In other words, the model becomes overly complex and starts to memorize the training examples instead of learning the general patterns. As a result, an overfit model performs well on the training data but fails to generalize well to new, unseen data. Signs of overfitting include excessively low training error and significantly higher test error or validation error.\n",
        "\n",
        "\n",
        "**Underfitting**\n",
        "Underfitting occurs when a model is too simple or lacks the capacity to capture the underlying patterns in the data. It fails to learn the relevant relationships and performs poorly both on the training data and new, unseen data.\n",
        "It may be caused by using a model with low complexity or insufficient capacity to represent the underlying patterns or \n",
        "Insufficient training time or iterations that prevent the model from fully learning the relationships or\n",
        "Inadequate features or representation of the data that do not capture the relevant information."
      ],
      "metadata": {
        "id": "k8IZzTgtUzTE"
      }
    },
    {
      "cell_type": "code",
      "source": [
        "\"\"\"\n",
        "Question: What are regularization techniques in machine learning?(200 words)\n",
        "\n",
        "Answer: sources : chat gpt, javatpoint\n",
        "\"\"\""
      ],
      "metadata": {
        "id": "TfDCiJG1X652",
        "colab": {
          "base_uri": "https://localhost:8080/",
          "height": 35
        },
        "outputId": "ea1be995-53a6-431b-c743-7a4f6c257130"
      },
      "execution_count": null,
      "outputs": [
        {
          "output_type": "execute_result",
          "data": {
            "text/plain": [
              "'\\nQuestion: What are regularization techniques in machine learning?(200 words)\\n\\nAnswer: sources : chat gpt, javatpoint\\n'"
            ],
            "application/vnd.google.colaboratory.intrinsic+json": {
              "type": "string"
            }
          },
          "metadata": {},
          "execution_count": 86
        }
      ]
    },
    {
      "cell_type": "markdown",
      "source": [
        "Regularization techniques in machine learning are methods used to prevent overfitting and improve the generalization performance of models. They introduce additional constraints or penalties to the model's learning process, discouraging or preventing it from excessively fitting the training data and promoting simpler or more robust solutions(What I mean by simpler is that it does not have to take into account each and every point because there are various points of high variations like from their neighbouring regions so taking them into account reduces the efficiency of the model) . Regularization techniques help to strike a balance between fitting the training data well and avoiding overemphasis on noise or irrelevant patterns."
      ],
      "metadata": {
        "id": "L2G40S81WJBQ"
      }
    },
    {
      "cell_type": "code",
      "source": [
        "\"\"\"\n",
        "Question: What dropout layer and what does it do?( read it from Tensorflow.org and write in 200 words)\n",
        "\n",
        "Answer: sources : tensorflow.org, chatgpt\n",
        "\"\"\""
      ],
      "metadata": {
        "id": "_VGMmK3XYEcn",
        "colab": {
          "base_uri": "https://localhost:8080/",
          "height": 35
        },
        "outputId": "b167cf13-6574-4952-d050-e530ebd83249"
      },
      "execution_count": null,
      "outputs": [
        {
          "output_type": "execute_result",
          "data": {
            "text/plain": [
              "'\\nQuestion: What dropout layer and what does it do?( read it from Tensorflow.org and write in 200 words)\\n\\nAnswer: sources : tensorflow.org, chatgpt\\n'"
            ],
            "application/vnd.google.colaboratory.intrinsic+json": {
              "type": "string"
            }
          },
          "metadata": {},
          "execution_count": 85
        }
      ]
    },
    {
      "cell_type": "markdown",
      "source": [
        "Dropout is a regularization technique commonly used in deep learning. It randomly sets a fraction of the input units or neurons to zero(at a rate based on the rate specified) during each training iteration, effectively dropping them out of the network temporarily.One thing we have to keep in mind is that drop out should take place during training only not at the time if inferring so we have to do training = True.Also each of the remaining neurons are scaled up by a factor of 1/(1- rate). Dropout prevents the model from relying too heavily on specific neurons and encourages the learning of more robust and distributed representations. Basically, datapoints which were showing a high variation leading to noise- their effect leading to overfitting is reduced."
      ],
      "metadata": {
        "id": "6tUdtJQuXGke"
      }
    },
    {
      "cell_type": "code",
      "source": [
        "\"\"\"\n",
        "Question: What is L1 normalization? write its formulae as well( atleast 200 words )\n",
        "\n",
        "Answer: Sources : Chatgpt, neptune.ai\n",
        "\"\"\""
      ],
      "metadata": {
        "id": "xxRFxeCzYqir",
        "colab": {
          "base_uri": "https://localhost:8080/",
          "height": 35
        },
        "outputId": "943b793a-2348-497c-e5fa-84e49daebb72"
      },
      "execution_count": null,
      "outputs": [
        {
          "output_type": "execute_result",
          "data": {
            "text/plain": [
              "'\\nQuestion: What is L1 normalization? write its formulae as well( atleast 200 words )\\n\\nAnswer: Sources : Chatgpt, neptune.ai\\n'"
            ],
            "application/vnd.google.colaboratory.intrinsic+json": {
              "type": "string"
            }
          },
          "metadata": {},
          "execution_count": 84
        }
      ]
    },
    {
      "cell_type": "markdown",
      "source": [
        "L1 normalization is a technique used to normalize vectors by dividing each element of the vector by the sum of its absolute values. It is commonly used in machine learning and data preprocessing to scale features or data points.\n",
        "\n",
        "The L1 normalization formula for a vector x with n elements is as follows:\n",
        "\n",
        "L1 normalized vector, x' = x / ||x||1\n",
        "\n",
        "Where:\n",
        "\n",
        "x' is the L1 normalized vector.\n",
        "x is the original vector.\n",
        "|x||1 is the L1 norm of the vector x, which is the sum of the absolute values of its elements.\n",
        "One thing which we need to see is that ||x|| is different from ||x||1 because in ||x|| we take square root of sum of squares!.\n",
        "It basically turns the value of data points into probabilities with the sum of all the values equal to 1.\n"
      ],
      "metadata": {
        "id": "G9nE-MGmaxA7"
      }
    },
    {
      "cell_type": "code",
      "source": [
        "\"\"\"\n",
        "Question: What is L2 normalization? write its formulae as well( atleast 200 words )\n",
        "\n",
        "Answer: Sources : chatgpt, neptune.ai\n",
        "\"\"\""
      ],
      "metadata": {
        "id": "Qdqqsw9iYyMW",
        "colab": {
          "base_uri": "https://localhost:8080/",
          "height": 35
        },
        "outputId": "5d0c2e3d-5dbc-46e1-854d-3f5283fc216c"
      },
      "execution_count": null,
      "outputs": [
        {
          "output_type": "execute_result",
          "data": {
            "text/plain": [
              "'\\nQuestion: What is L2 normalization? write its formulae as well( atleast 200 words )\\n\\nAnswer: Sources : chatgpt, neptune.ai\\n'"
            ],
            "application/vnd.google.colaboratory.intrinsic+json": {
              "type": "string"
            }
          },
          "metadata": {},
          "execution_count": 83
        }
      ]
    },
    {
      "cell_type": "markdown",
      "source": [
        "L2 normalization, also known as Euclidean normalization, is a technique used to normalize vectors by dividing each element of the vector by the Euclidean norm of the vector. It is commonly used in machine learning and data preprocessing to scale features or data points.\n",
        "\n",
        "The L2 normalization formula for a vector x with n elements is as follows:\n",
        "\n",
        "L2 normalized vector, x' = x / ||x||2. (||x||2 is same as ||x|| which we have read in our MTH courses :)\n",
        "\n",
        "Where:\n",
        "\n",
        "x' is the L2 normalized vector.\n",
        "x is the original vector.\n",
        "||x||2 is the L2 norm of the vector x, which is the square root of the sum of the squares of its elements.\n",
        "In simpler terms, to compute the L2 normalized vector x', each element of the original vector x is divided by the square root of the sum of the squares of all elements in x.\n",
        "\n",
        "The L2 normalization technique scales the vector such that the Euclidean norm or simply norm of the vector becomes 1."
      ],
      "metadata": {
        "id": "cMeJ54a_buWn"
      }
    },
    {
      "cell_type": "code",
      "source": [
        "\"\"\"\n",
        "Question: What is data augmentation techniques and why is it needed in machine learning?( atleast 200 words )\n",
        "\n",
        "Answer: Sources : chatgpt, datacamp.com\n",
        "\"\"\""
      ],
      "metadata": {
        "id": "E-U7uWKxY0yv",
        "colab": {
          "base_uri": "https://localhost:8080/",
          "height": 52
        },
        "outputId": "d4c2b0f1-bdf0-4dc8-a148-4addf0b32a39"
      },
      "execution_count": null,
      "outputs": [
        {
          "output_type": "execute_result",
          "data": {
            "text/plain": [
              "'\\nQuestion: What is data augmentation techniques and why is it needed in machine learning?( atleast 200 words )\\n\\nAnswer: Sources : chatgpt, datacamp.com\\n'"
            ],
            "application/vnd.google.colaboratory.intrinsic+json": {
              "type": "string"
            }
          },
          "metadata": {},
          "execution_count": 82
        }
      ]
    },
    {
      "cell_type": "markdown",
      "source": [
        "Data augmentation refers to the application of various transformations or modifications to the existing training data to create additional synthetic data samples. These techniques are widely used in machine learning to increase the diversity and quantity of the training data, which can lead to improved model performance and generalization.\n",
        "\n",
        "The need for data augmentation arises from the fact that machine learning models often require a large amount of labeled training data to effectively learn patterns and make accurate predictions. However, acquiring such large amounts of labeled data can be costly, time-consuming, or even impractical in certain domains.\n",
        "\n",
        "Data augmentation helps overcome the limitations of limited training data by generating new samples that are variations of the original data. Common data augmentation techniques include image transformations such as rotation, flipping, cropping, scaling, and adding noise. This technique is highly useful for GANs generator which has to make fake images on its own.\n",
        "\n",
        "\n",
        "\n",
        "\n",
        "\n",
        "\n"
      ],
      "metadata": {
        "id": "o87F-J13dXzf"
      }
    }
  ],
  "metadata": {
    "kernelspec": {
      "display_name": "Python 3",
      "name": "python3"
    },
    "language_info": {
      "codemirror_mode": {
        "name": "ipython",
        "version": 3
      },
      "file_extension": ".py",
      "mimetype": "text/x-python",
      "name": "python",
      "nbconvert_exporter": "python",
      "pygments_lexer": "ipython3",
      "version": "3.10.8"
    },
    "orig_nbformat": 4,
    "colab": {
      "provenance": [],
      "gpuType": "T4"
    },
    "accelerator": "GPU"
  },
  "nbformat": 4,
  "nbformat_minor": 0
}