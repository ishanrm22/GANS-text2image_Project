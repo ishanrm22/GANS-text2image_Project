{
  "cells": [
    {
      "cell_type": "markdown",
      "metadata": {
        "id": "uibZsQUV6UVU"
      },
      "source": [
        "# MULTICLASS CLASSIFICATION \n",
        "\n"
      ]
    },
    {
      "cell_type": "code",
      "execution_count": 1,
      "metadata": {
        "id": "LHabkN30xUYP"
      },
      "outputs": [],
      "source": [
        "#importing libraries\n",
        "#__Nothing_to_change_here__\n",
        "\n",
        "import numpy as np\n",
        "import matplotlib.pyplot as plt\n",
        "import tensorflow as tf"
      ]
    },
    {
      "cell_type": "code",
      "execution_count": 2,
      "metadata": {
        "id": "ljkELfVdxjIT",
        "colab": {
          "base_uri": "https://localhost:8080/"
        },
        "outputId": "1892f5ad-279c-4bdc-a701-b728eebb6d18"
      },
      "outputs": [
        {
          "output_type": "stream",
          "name": "stdout",
          "text": [
            "Downloading data from https://storage.googleapis.com/tensorflow/tf-keras-datasets/train-labels-idx1-ubyte.gz\n",
            "29515/29515 [==============================] - 0s 0us/step\n",
            "Downloading data from https://storage.googleapis.com/tensorflow/tf-keras-datasets/train-images-idx3-ubyte.gz\n",
            "26421880/26421880 [==============================] - 0s 0us/step\n",
            "Downloading data from https://storage.googleapis.com/tensorflow/tf-keras-datasets/t10k-labels-idx1-ubyte.gz\n",
            "5148/5148 [==============================] - 0s 0us/step\n",
            "Downloading data from https://storage.googleapis.com/tensorflow/tf-keras-datasets/t10k-images-idx3-ubyte.gz\n",
            "4422102/4422102 [==============================] - 0s 0us/step\n"
          ]
        }
      ],
      "source": [
        "#importing the dataset\n",
        "(X_train,Y_train),(X_test,Y_test) = tf.keras.datasets.fashion_mnist.load_data()\n",
        "from sklearn.model_selection import train_test_split\n",
        "X_train,X_test,Y_train,Y_test=train_test_split(X_test,Y_test,test_size=0.2)"
      ]
    },
    {
      "cell_type": "code",
      "execution_count": 3,
      "metadata": {
        "colab": {
          "base_uri": "https://localhost:8080/"
        },
        "id": "tk_1xc7rxtag",
        "outputId": "40b46b90-ee4a-495e-e098-e94d963fb822"
      },
      "outputs": [
        {
          "output_type": "stream",
          "name": "stdout",
          "text": [
            "(8000, 28, 28)\n",
            "(8000,)\n",
            "(2000, 28, 28)\n",
            "(2000,)\n"
          ]
        }
      ],
      "source": [
        "# Print shape of all 4 variables: X_train,Y_train,X_test, and Y_test\n",
        "print(X_train.shape)\n",
        "print(Y_train.shape)\n",
        "print(X_test.shape)\n",
        "print(Y_test.shape)"
      ]
    },
    {
      "cell_type": "code",
      "execution_count": 4,
      "metadata": {
        "colab": {
          "base_uri": "https://localhost:8080/"
        },
        "id": "0x-cw__lxxDi",
        "outputId": "6191df51-f4f4-4338-8064-3bb4394957f6"
      },
      "outputs": [
        {
          "output_type": "stream",
          "name": "stdout",
          "text": [
            "[0 1 2 3 4 5 6 7 8 9]\n"
          ]
        }
      ],
      "source": [
        "#print the unique values in Y_train\n",
        "print(np.unique(Y_train))"
      ]
    },
    {
      "cell_type": "code",
      "execution_count": 5,
      "metadata": {
        "colab": {
          "base_uri": "https://localhost:8080/",
          "height": 1000
        },
        "id": "fvKYksdryTlR",
        "outputId": "6fe1e563-f884-41c6-c000-fa9fb86c5a7b"
      },
      "outputs": [
        {
          "output_type": "display_data",
          "data": {
            "text/plain": [
              "<Figure size 1500x1000 with 1 Axes>"
            ],
            "image/png": "[encoded data removed]"
          },
          "metadata": {}
        },
        {
          "output_type": "display_data",
          "data": {
            "text/plain": [
              "<Figure size 640x480 with 1 Axes>"
            ],
            "image/png": "[encoded data removed]"
          },
          "metadata": {}
        },
        {
          "output_type": "display_data",
          "data": {
            "text/plain": [
              "<Figure size 640x480 with 1 Axes>"
            ],
            "image/png": "[encoded data removed]"
          },
          "metadata": {}
        },
        {
          "output_type": "display_data",
          "data": {
            "text/plain": [
              "<Figure size 640x480 with 1 Axes>"
            ],
            "image/png": "[encoded data removed]"
          },
          "metadata": {}
        },
        {
          "output_type": "display_data",
          "data": {
            "text/plain": [
              "<Figure size 640x480 with 1 Axes>"
            ],
            "image/png": "[encoded data removed]"
          },
          "metadata": {}
        },
        {
          "output_type": "display_data",
          "data": {
            "text/plain": [
              "<Figure size 640x480 with 1 Axes>"
            ],
            "image/png": "[encoded data removed]"
          },
          "metadata": {}
        },
        {
          "output_type": "display_data",
          "data": {
            "text/plain": [
              "<Figure size 640x480 with 1 Axes>"
            ],
            "image/png": "[encoded data removed]"
          },
          "metadata": {}
        },
        {
          "output_type": "display_data",
          "data": {
            "text/plain": [
              "<Figure size 640x480 with 1 Axes>"
            ],
            "image/png": "[encoded data removed]"
          },
          "metadata": {}
        },
        {
          "output_type": "display_data",
          "data": {
            "text/plain": [
              "<Figure size 640x480 with 1 Axes>"
            ],
            "image/png": "[encoded data removed]"
          },
          "metadata": {}
        }
      ],
      "source": [
        "#randomly print 9 images with label\n",
        "#edit the 2 lines of the code snippet\n",
        "\n",
        "import random\n",
        "figure = plt.figure(figsize=(15,10))\n",
        "for i in range(9):\n",
        "  index = random.randint(0,len(X_train)-1) # showing the index_th image\n",
        "  plt.subplot(3,3,i+1)\n",
        "  #edit1__plot_image_here_\n",
        "  plt.imshow(X_train[index]) \n",
        "  #edit2__add_label_here\n",
        "  plt.title(Y_train[index])\n",
        "  plt.axis('off')\n",
        "  plt.show()\n",
        " \n",
        "\n"
      ]
    },
    {
      "cell_type": "markdown",
      "metadata": {
        "id": "6VBGKOaOEelA"
      },
      "source": [
        "###These number denotes the respective object\n",
        "![image.png](data:image/png;base64,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)"
      ]
    },
    {
      "cell_type": "code",
      "execution_count": 20,
      "metadata": {
        "colab": {
          "base_uri": "https://localhost:8080/"
        },
        "id": "6wHC0NTRycq8",
        "outputId": "1773c8a1-51d6-4bdb-ce6e-e6f47003aa59"
      },
      "outputs": [
        {
          "output_type": "stream",
          "name": "stdout",
          "text": [
            "6    826\n",
            "4    810\n",
            "9    810\n",
            "8    803\n",
            "7    802\n",
            "3    800\n",
            "2    795\n",
            "5    789\n",
            "1    786\n",
            "0    779\n",
            "dtype: int64\n"
          ]
        }
      ],
      "source": [
        "# Find the count of each type of class\n",
        "import pandas as pd\n",
        "count = pd.Series(Y_train).value_counts()\n",
        "print(count)"
      ]
    },
    {
      "cell_type": "code",
      "execution_count": 37,
      "metadata": {
        "id": "fvc9TzbSy_Hv"
      },
      "outputs": [],
      "source": [
        "# model initialization\n",
        "model = tf.keras.Sequential()\n",
        "\n",
        "# adding the 1st and 2nd layer layer \n",
        "model.add(tf.keras.layers.Flatten(input_shape=(28,28)))\n",
        "model.add(tf.keras.layers.Dense(128, activation = 'relu'))\n",
        "\n",
        "#__add__ additional Intermediate Dense layers here to create the output\n",
        "model.add(tf.keras.layers.Dense(96,activation=\"relu\"))\n",
        "model.add(tf.keras.layers.Dense(64,activation=\"relu\"))\n",
        "model.add(tf.keras.layers.Dense(32,activation=\"relu\"))\n",
        "#model.add(tf.keras.layers.Dense(16,activation=\"relu\"))\n",
        "#__output__layer with correct output shape and activation function[ google if finding this difficult to get]\n",
        "\n",
        "model.add(tf.keras.layers.Dense(10, activation = 'softmax'))"
      ]
    },
    {
      "cell_type": "code",
      "execution_count": 38,
      "metadata": {
        "id": "mJSw9h5RzJV4"
      },
      "outputs": [],
      "source": [
        "# Compiling the model\n",
        "#add the lr and loss in the given space\n",
        "\n",
        "model.compile(optimizer = tf.keras.optimizers.SGD(learning_rate =0.001),\n",
        "                  loss =\"sparse_categorical_crossentropy\",\n",
        "                  metrics=['accuracy'])"
      ]
    },
    {
      "cell_type": "code",
      "execution_count": 39,
      "metadata": {
        "colab": {
          "base_uri": "https://localhost:8080/"
        },
        "id": "N6wLyff0G-8x",
        "outputId": "b9e30f9b-1a47-4daa-e30b-ad9d1a69ebba"
      },
      "outputs": [
        {
          "output_type": "stream",
          "name": "stdout",
          "text": [
            "Model: \"sequential_4\"\n",
            "_________________________________________________________________\n",
            " Layer (type)                Output Shape              Param #   \n",
            "=================================================================\n",
            " flatten_4 (Flatten)         (None, 784)               0         \n",
            "                                                                 \n",
            " dense_22 (Dense)            (None, 128)               100480    \n",
            "                                                                 \n",
            " dense_23 (Dense)            (None, 96)                12384     \n",
            "                                                                 \n",
            " dense_24 (Dense)            (None, 64)                6208      \n",
            "                                                                 \n",
            " dense_25 (Dense)            (None, 32)                2080      \n",
            "                                                                 \n",
            " dense_26 (Dense)            (None, 10)                330       \n",
            "                                                                 \n",
            "=================================================================\n",
            "Total params: 121,482\n",
            "Trainable params: 121,482\n",
            "Non-trainable params: 0\n",
            "_________________________________________________________________\n"
          ]
        }
      ],
      "source": [
        "#Lets analyse the model\n",
        "model.summary()"
      ]
    },
    {
      "cell_type": "markdown",
      "metadata": {
        "id": "-pq5ptRAHFa4"
      },
      "source": [
        "###What is the number of trainable parameters in the model?"
      ]
    },
    {
      "cell_type": "code",
      "execution_count": null,
      "metadata": {
        "colab": {
          "base_uri": "https://localhost:8080/",
          "height": 36
        },
        "id": "bYpcoE9sHTkS",
        "outputId": "75781c05-d6b8-48f1-be7e-7aa7b4bdaaa1"
      },
      "outputs": [
        {
          "output_type": "execute_result",
          "data": {
            "text/plain": [
              "' \\n[objective] Write the answer here: 109,894\\n'"
            ],
            "application/vnd.google.colaboratory.intrinsic+json": {
              "type": "string"
            }
          },
          "metadata": {},
          "execution_count": 10
        }
      ],
      "source": [
        "\"\"\" \n",
        "[objective] Write the answer here: 121,482\n",
        "\"\"\""
      ]
    },
    {
      "cell_type": "code",
      "execution_count": 41,
      "metadata": {
        "colab": {
          "base_uri": "https://localhost:8080/"
        },
        "id": "kWjxRsdS1gY-",
        "outputId": "1964b8f3-06e6-4f38-e5aa-488fa03ad6f8"
      },
      "outputs": [
        {
          "output_type": "stream",
          "name": "stdout",
          "text": [
            "Epoch 1/50\n",
            "200/200 [==============================] - 1s 3ms/step - loss: 0.3496 - accuracy: 0.8712 - val_loss: 0.6806 - val_accuracy: 0.7800\n",
            "Epoch 2/50\n",
            "200/200 [==============================] - 1s 3ms/step - loss: 0.3409 - accuracy: 0.8750 - val_loss: 0.6977 - val_accuracy: 0.7719\n",
            "Epoch 3/50\n",
            "200/200 [==============================] - 1s 3ms/step - loss: 0.3375 - accuracy: 0.8805 - val_loss: 0.6890 - val_accuracy: 0.7788\n",
            "Epoch 4/50\n",
            "200/200 [==============================] - 0s 2ms/step - loss: 0.3288 - accuracy: 0.8805 - val_loss: 0.7099 - val_accuracy: 0.7837\n",
            "Epoch 5/50\n",
            "200/200 [==============================] - 1s 3ms/step - loss: 0.3224 - accuracy: 0.8823 - val_loss: 0.7340 - val_accuracy: 0.7769\n",
            "Epoch 6/50\n",
            "200/200 [==============================] - 1s 3ms/step - loss: 0.3166 - accuracy: 0.8845 - val_loss: 0.6928 - val_accuracy: 0.7763\n",
            "Epoch 7/50\n",
            "200/200 [==============================] - 1s 3ms/step - loss: 0.3124 - accuracy: 0.8864 - val_loss: 0.7108 - val_accuracy: 0.7769\n",
            "Epoch 8/50\n",
            "200/200 [==============================] - 1s 4ms/step - loss: 0.3078 - accuracy: 0.8877 - val_loss: 0.7262 - val_accuracy: 0.7819\n",
            "Epoch 9/50\n",
            "200/200 [==============================] - 1s 4ms/step - loss: 0.2997 - accuracy: 0.8908 - val_loss: 0.6891 - val_accuracy: 0.7844\n",
            "Epoch 10/50\n",
            "200/200 [==============================] - 1s 3ms/step - loss: 0.2996 - accuracy: 0.8875 - val_loss: 0.7057 - val_accuracy: 0.7812\n",
            "Epoch 11/50\n",
            "200/200 [==============================] - 1s 3ms/step - loss: 0.2917 - accuracy: 0.8969 - val_loss: 0.7097 - val_accuracy: 0.7781\n",
            "Epoch 12/50\n",
            "200/200 [==============================] - 1s 4ms/step - loss: 0.2861 - accuracy: 0.8952 - val_loss: 0.7000 - val_accuracy: 0.7862\n",
            "Epoch 13/50\n",
            "200/200 [==============================] - 1s 4ms/step - loss: 0.2801 - accuracy: 0.9006 - val_loss: 0.7074 - val_accuracy: 0.7869\n",
            "Epoch 14/50\n",
            "200/200 [==============================] - 1s 3ms/step - loss: 0.2720 - accuracy: 0.9047 - val_loss: 0.7165 - val_accuracy: 0.7887\n",
            "Epoch 15/50\n",
            "200/200 [==============================] - 0s 2ms/step - loss: 0.2723 - accuracy: 0.9020 - val_loss: 0.7250 - val_accuracy: 0.7825\n",
            "Epoch 16/50\n",
            "200/200 [==============================] - 0s 2ms/step - loss: 0.2669 - accuracy: 0.9047 - val_loss: 0.7197 - val_accuracy: 0.7825\n",
            "Epoch 17/50\n",
            "200/200 [==============================] - 0s 2ms/step - loss: 0.2626 - accuracy: 0.9069 - val_loss: 0.7336 - val_accuracy: 0.7812\n",
            "Epoch 18/50\n",
            "200/200 [==============================] - 0s 2ms/step - loss: 0.2615 - accuracy: 0.9077 - val_loss: 0.7217 - val_accuracy: 0.7844\n",
            "Epoch 19/50\n",
            "200/200 [==============================] - 1s 3ms/step - loss: 0.2538 - accuracy: 0.9131 - val_loss: 0.7256 - val_accuracy: 0.7850\n",
            "Epoch 20/50\n",
            "200/200 [==============================] - 1s 3ms/step - loss: 0.2496 - accuracy: 0.9127 - val_loss: 0.7460 - val_accuracy: 0.7887\n",
            "Epoch 21/50\n",
            "200/200 [==============================] - 0s 2ms/step - loss: 0.2463 - accuracy: 0.9131 - val_loss: 0.7470 - val_accuracy: 0.7750\n",
            "Epoch 22/50\n",
            "200/200 [==============================] - 1s 3ms/step - loss: 0.2456 - accuracy: 0.9161 - val_loss: 0.7259 - val_accuracy: 0.7850\n",
            "Epoch 23/50\n",
            "200/200 [==============================] - 1s 3ms/step - loss: 0.2407 - accuracy: 0.9156 - val_loss: 0.7316 - val_accuracy: 0.7875\n",
            "Epoch 24/50\n",
            "200/200 [==============================] - 1s 5ms/step - loss: 0.2372 - accuracy: 0.9180 - val_loss: 0.7457 - val_accuracy: 0.7844\n",
            "Epoch 25/50\n",
            "200/200 [==============================] - 1s 4ms/step - loss: 0.2336 - accuracy: 0.9187 - val_loss: 0.7651 - val_accuracy: 0.7869\n",
            "Epoch 26/50\n",
            "200/200 [==============================] - 1s 6ms/step - loss: 0.2314 - accuracy: 0.9186 - val_loss: 0.7538 - val_accuracy: 0.7925\n",
            "Epoch 27/50\n",
            "200/200 [==============================] - 1s 5ms/step - loss: 0.2262 - accuracy: 0.9225 - val_loss: 0.7424 - val_accuracy: 0.8000\n",
            "Epoch 28/50\n",
            "200/200 [==============================] - 1s 3ms/step - loss: 0.2248 - accuracy: 0.9253 - val_loss: 0.7495 - val_accuracy: 0.7875\n",
            "Epoch 29/50\n",
            "200/200 [==============================] - 1s 4ms/step - loss: 0.2224 - accuracy: 0.9233 - val_loss: 0.7616 - val_accuracy: 0.7862\n",
            "Epoch 30/50\n",
            "200/200 [==============================] - 1s 3ms/step - loss: 0.2174 - accuracy: 0.9219 - val_loss: 0.7819 - val_accuracy: 0.7900\n",
            "Epoch 31/50\n",
            "200/200 [==============================] - 0s 2ms/step - loss: 0.2162 - accuracy: 0.9275 - val_loss: 0.7729 - val_accuracy: 0.7975\n",
            "Epoch 32/50\n",
            "200/200 [==============================] - 1s 3ms/step - loss: 0.2100 - accuracy: 0.9291 - val_loss: 0.7683 - val_accuracy: 0.7831\n",
            "Epoch 33/50\n",
            "200/200 [==============================] - 0s 2ms/step - loss: 0.2080 - accuracy: 0.9277 - val_loss: 0.7651 - val_accuracy: 0.7937\n",
            "Epoch 34/50\n",
            "200/200 [==============================] - 0s 2ms/step - loss: 0.2060 - accuracy: 0.9298 - val_loss: 0.7670 - val_accuracy: 0.7906\n",
            "Epoch 35/50\n",
            "200/200 [==============================] - 1s 3ms/step - loss: 0.2096 - accuracy: 0.9278 - val_loss: 0.8195 - val_accuracy: 0.7900\n",
            "Epoch 36/50\n",
            "200/200 [==============================] - 0s 2ms/step - loss: 0.2038 - accuracy: 0.9294 - val_loss: 0.7621 - val_accuracy: 0.7906\n",
            "Epoch 37/50\n",
            "200/200 [==============================] - 1s 3ms/step - loss: 0.1992 - accuracy: 0.9327 - val_loss: 0.7659 - val_accuracy: 0.7931\n",
            "Epoch 38/50\n",
            "200/200 [==============================] - 1s 3ms/step - loss: 0.1911 - accuracy: 0.9352 - val_loss: 0.7761 - val_accuracy: 0.7869\n",
            "Epoch 39/50\n",
            "200/200 [==============================] - 1s 3ms/step - loss: 0.1915 - accuracy: 0.9337 - val_loss: 0.7722 - val_accuracy: 0.7944\n",
            "Epoch 40/50\n",
            "200/200 [==============================] - 1s 3ms/step - loss: 0.1914 - accuracy: 0.9319 - val_loss: 0.7820 - val_accuracy: 0.7919\n",
            "Epoch 41/50\n",
            "200/200 [==============================] - 0s 2ms/step - loss: 0.1829 - accuracy: 0.9383 - val_loss: 0.8197 - val_accuracy: 0.7900\n",
            "Epoch 42/50\n",
            "200/200 [==============================] - 1s 3ms/step - loss: 0.1854 - accuracy: 0.9352 - val_loss: 0.7884 - val_accuracy: 0.7906\n",
            "Epoch 43/50\n",
            "200/200 [==============================] - 1s 3ms/step - loss: 0.1783 - accuracy: 0.9386 - val_loss: 0.7834 - val_accuracy: 0.7912\n",
            "Epoch 44/50\n",
            "200/200 [==============================] - 1s 3ms/step - loss: 0.1786 - accuracy: 0.9394 - val_loss: 0.8194 - val_accuracy: 0.7875\n",
            "Epoch 45/50\n",
            "200/200 [==============================] - 1s 5ms/step - loss: 0.1746 - accuracy: 0.9403 - val_loss: 0.8027 - val_accuracy: 0.7919\n",
            "Epoch 46/50\n",
            "200/200 [==============================] - 1s 5ms/step - loss: 0.1701 - accuracy: 0.9402 - val_loss: 0.8107 - val_accuracy: 0.7950\n",
            "Epoch 47/50\n",
            "200/200 [==============================] - 1s 3ms/step - loss: 0.1691 - accuracy: 0.9447 - val_loss: 0.8159 - val_accuracy: 0.7937\n",
            "Epoch 48/50\n",
            "200/200 [==============================] - 0s 2ms/step - loss: 0.1677 - accuracy: 0.9431 - val_loss: 0.8838 - val_accuracy: 0.7763\n",
            "Epoch 49/50\n",
            "200/200 [==============================] - 1s 2ms/step - loss: 0.1629 - accuracy: 0.9466 - val_loss: 0.8127 - val_accuracy: 0.7900\n",
            "Epoch 50/50\n",
            "200/200 [==============================] - 1s 3ms/step - loss: 0.1596 - accuracy: 0.9448 - val_loss: 0.8220 - val_accuracy: 0.7900\n"
          ]
        }
      ],
      "source": [
        "#lets train the model\n",
        "#pass correct argument at the comment's place\n",
        "\n",
        "history = model.fit(X_train,Y_train, epochs=50, validation_split=0.2)"
      ]
    },
    {
      "cell_type": "code",
      "execution_count": 42,
      "metadata": {
        "colab": {
          "base_uri": "https://localhost:8080/",
          "height": 448
        },
        "id": "0kbMIKMT0H_H",
        "outputId": "6a0f9bb6-7bdc-4ab6-ed59-a9f744f1efa7"
      },
      "outputs": [
        {
          "output_type": "execute_result",
          "data": {
            "text/plain": [
              "<matplotlib.legend.Legend at 0x7f015251ec20>"
            ]
          },
          "metadata": {},
          "execution_count": 42
        },
        {
          "output_type": "display_data",
          "data": {
            "text/plain": [
              "<Figure size 640x480 with 1 Axes>"
            ],
            "image/png": "[encoded data removed]"
          },
          "metadata": {}
        }
      ],
      "source": [
        "#lets plot the losses\n",
        "\n",
        "plt.plot(history.history['loss'],label=\"Train loss\")\n",
        "plt.plot(history.history['val_loss'], label = \"Validation loss\")\n",
        "plt.legend()"
      ]
    },
    {
      "cell_type": "markdown",
      "metadata": {
        "id": "MXrp_bCVILBm"
      },
      "source": [
        "###What do you infer from the graph of losses above?"
      ]
    },
    {
      "cell_type": "code",
      "execution_count": 46,
      "metadata": {
        "colab": {
          "base_uri": "https://localhost:8080/",
          "height": 54
        },
        "id": "fUXlRSMAIVQS",
        "outputId": "f7685fb1-6289-4647-85b7-205ad96ae8a8"
      },
      "outputs": [
        {
          "output_type": "execute_result",
          "data": {
            "text/plain": [
              "'\\n[Under 100 words] Write your answer here: \\nAfter every epoch model memorises the information of the training set to the point where it degrades its performance on the validation set. Due to overfitting, the loss in this case is greater on the validation data than on the training data.\\n\\n'"
            ],
            "application/vnd.google.colaboratory.intrinsic+json": {
              "type": "string"
            }
          },
          "metadata": {},
          "execution_count": 46
        }
      ],
      "source": [
        "\"\"\"\n",
        "[Under 100 words] Write your answer here: \n",
        "After every epoch model memorises the information of the training set to the point where it degrades its performance on the validation set. Due to overfitting, the loss in this case is greater on the validation data than on the training data.\n",
        "\n",
        "\"\"\""
      ]
    },
    {
      "cell_type": "code",
      "execution_count": 43,
      "metadata": {
        "colab": {
          "base_uri": "https://localhost:8080/",
          "height": 448
        },
        "id": "gYtO5dxRzNe9",
        "outputId": "573eca0d-2283-4a88-a7b5-00b0b6529b5d"
      },
      "outputs": [
        {
          "output_type": "execute_result",
          "data": {
            "text/plain": [
              "<matplotlib.legend.Legend at 0x7f01525960e0>"
            ]
          },
          "metadata": {},
          "execution_count": 43
        },
        {
          "output_type": "display_data",
          "data": {
            "text/plain": [
              "<Figure size 640x480 with 1 Axes>"
            ],
            "image/png": "[encoded data removed]"
          },
          "metadata": {}
        }
      ],
      "source": [
        "#plotting the accuracy of the traing\n",
        "\n",
        "plt.plot(history.history['accuracy'],label=\"Train accuracy\")\n",
        "plt.plot(history.history['val_accuracy'], label = \"Validation accuracy\")\n",
        "plt.legend()"
      ]
    },
    {
      "cell_type": "markdown",
      "metadata": {
        "id": "tjTQgugdIwHU"
      },
      "source": [
        "###What do you infer from the graph of accuracies above?"
      ]
    },
    {
      "cell_type": "code",
      "execution_count": 51,
      "metadata": {
        "colab": {
          "base_uri": "https://localhost:8080/",
          "height": 54
        },
        "id": "RksEOSVOI1GD",
        "outputId": "db5d654b-eb96-4fc5-e39a-cdf0fca9d095"
      },
      "outputs": [
        {
          "output_type": "execute_result",
          "data": {
            "text/plain": [
              "\"\\n[Under 100 words] Write your answer here:\\nAs I mentioned above the model memorizes the train data so much that it's accuracy is getting almost near to 1 and while will not much change on the validation data.\\n\""
            ],
            "application/vnd.google.colaboratory.intrinsic+json": {
              "type": "string"
            }
          },
          "metadata": {},
          "execution_count": 51
        }
      ],
      "source": [
        "\"\"\"\n",
        "[Under 100 words] Write your answer here:\n",
        "As I mentioned above the model memorizes the train data so much that it's accuracy is getting almost near to 1 and while will not much change on the validation data.\n",
        "\"\"\""
      ]
    },
    {
      "cell_type": "code",
      "execution_count": 47,
      "metadata": {
        "colab": {
          "base_uri": "https://localhost:8080/"
        },
        "id": "mnnswX6G0RaQ",
        "outputId": "1075aa4e-f1de-4564-bfaa-e6edba8e925b"
      },
      "outputs": [
        {
          "output_type": "stream",
          "name": "stdout",
          "text": [
            "63/63 [==============================] - 0s 1ms/step\n"
          ]
        }
      ],
      "source": [
        "#Checking the prediction\n",
        "\n",
        "Y_predicted = model.predict(X_test)\n",
        "Y_pred = np.argmax(Y_predicted , axis = 1)"
      ]
    },
    {
      "cell_type": "code",
      "execution_count": 48,
      "metadata": {
        "colab": {
          "base_uri": "https://localhost:8080/"
        },
        "id": "cgmjJysKJE4u",
        "outputId": "a7e2e5fc-71d2-4e5f-ce46-10b3cfe176bd"
      },
      "outputs": [
        {
          "output_type": "execute_result",
          "data": {
            "text/plain": [
              "0.7265306517532253"
            ]
          },
          "metadata": {},
          "execution_count": 48
        }
      ],
      "source": [
        "# Calculate the R2score for the test data\n",
        "from sklearn.metrics import r2_score\n",
        "r2_score(Y_test,Y_pred)"
      ]
    },
    {
      "cell_type": "code",
      "execution_count": 49,
      "metadata": {
        "colab": {
          "base_uri": "https://localhost:8080/"
        },
        "id": "kImEn3zfzPp5",
        "outputId": "a0c9406b-f3fa-47ef-f567-6b806618bcfe"
      },
      "outputs": [
        {
          "output_type": "execute_result",
          "data": {
            "text/plain": [
              "TensorShape([784, 128])"
            ]
          },
          "metadata": {},
          "execution_count": 49
        }
      ],
      "source": [
        "# Let's see the kernel(weights) of the layers\n",
        "model.layers[1].kernel.shape"
      ]
    },
    {
      "cell_type": "code",
      "execution_count": 50,
      "metadata": {
        "colab": {
          "base_uri": "https://localhost:8080/"
        },
        "id": "NRNwQMc1zchA",
        "outputId": "d9967d29-44b2-4fea-b88b-5a08c2482154"
      },
      "outputs": [
        {
          "output_type": "stream",
          "name": "stdout",
          "text": [
            "(128, 96)\n",
            "(96, 64)\n",
            "(64, 32)\n",
            "(32, 10)\n"
          ]
        }
      ],
      "source": [
        "# print the shape of kernel of other layers as well\n",
        "print(model.layers[2].kernel.shape)\n",
        "print(model.layers[3].kernel.shape)\n",
        "print(model.layers[4].kernel.shape)\n",
        "print(model.layers[5].kernel.shape)"
      ]
    },
    {
      "cell_type": "code",
      "execution_count": 55,
      "metadata": {
        "id": "8jFOLLK2KEoJ",
        "colab": {
          "base_uri": "https://localhost:8080/",
          "height": 54
        },
        "outputId": "c37f2bce-91c4-416d-ed79-d63733ec7c38"
      },
      "outputs": [
        {
          "output_type": "execute_result",
          "data": {
            "text/plain": [
              "'Yes It is evident that each kernel has the shape m x n, where m represents the number of neurons in the layer before it and n represents the number of neurons in the layer in front of it. As a result, when the row of the 1 x m activations from the previous layer is multiplied by this mxn Kernel matrix, we receive 1 x n outputs that are combined with bias to produce n activations for the output layer.'"
            ],
            "application/vnd.google.colaboratory.intrinsic+json": {
              "type": "string"
            }
          },
          "metadata": {},
          "execution_count": 55
        }
      ],
      "source": [
        "# Does that satisfied the matrix multiplication math discussed earlier\n",
        "'''Yes It is evident that each kernel has the shape m x n, where m represents the number of neurons in the layer before it and n represents the number of neurons in the layer in front of it. As a result, when the row of the 1 x m activations from the previous layer is multiplied by this mxn Kernel matrix, we receive 1 x n outputs that are combined with bias to produce n activations for the output layer.'''"
      ]
    },
    {
      "cell_type": "code",
      "execution_count": null,
      "metadata": {
        "id": "OyQqOpzzKNmT"
      },
      "outputs": [],
      "source": []
    }
  ],
  "metadata": {
    "colab": {
      "provenance": []
    },
    "kernelspec": {
      "display_name": "Python 3",
      "name": "python3"
    },
    "language_info": {
      "name": "python"
    }
  },
  "nbformat": 4,
  "nbformat_minor": 0
}